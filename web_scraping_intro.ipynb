{
 "cells": [
  {
   "cell_type": "markdown",
   "metadata": {},
   "source": [
    "# Web scrapping intro"
   ]
  },
  {
   "cell_type": "code",
   "execution_count": 1,
   "metadata": {},
   "outputs": [],
   "source": [
    "# import necessary libraries\n",
    "import requests # pip install if not already\n",
    "from bs4 import BeautifulSoup as bs # pip install BeautifulSoup if not already installed\n"
   ]
  },
  {
   "cell_type": "code",
   "execution_count": null,
   "metadata": {},
   "outputs": [],
   "source": [
    "# Load our first page\n",
    "\n",
    "url = 'https://keithgalli.github.io/web-scraping/example.html'\n",
    "r = requests.get(url)\n",
    "\n",
    "#what does r look like?\n",
    "r, type(r)"
   ]
  },
  {
   "cell_type": "code",
   "execution_count": null,
   "metadata": {},
   "outputs": [],
   "source": [
    "str(r.content)"
   ]
  },
  {
   "cell_type": "code",
   "execution_count": null,
   "metadata": {},
   "outputs": [],
   "source": [
    "# convert r to a beautiful soup object\n",
    "soup = bs(r.content)\n",
    "soup"
   ]
  },
  {
   "cell_type": "code",
   "execution_count": null,
   "metadata": {},
   "outputs": [],
   "source": [
    "print(soup.prettify())"
   ]
  },
  {
   "cell_type": "code",
   "execution_count": null,
   "metadata": {},
   "outputs": [],
   "source": [
    "# start scraping!\n",
    "# start with find and find_all\n",
    "\n",
    "soup.find('h2'), soup.find_all('h2')"
   ]
  },
  {
   "cell_type": "code",
   "execution_count": null,
   "metadata": {
    "scrolled": true
   },
   "outputs": [],
   "source": [
    "# storing as variables\n",
    "first_header=soup.find('h2')\n",
    "all_headers=soup.find_all('h2')\n",
    "first_header, all_headers"
   ]
  },
  {
   "cell_type": "markdown",
   "metadata": {},
   "source": [
    ".find will only find the first occurence of a tag \\\n",
    ".find_all will find all occurences of the taga and place each item in a list"
   ]
  },
  {
   "cell_type": "code",
   "execution_count": null,
   "metadata": {},
   "outputs": [],
   "source": [
    "# pass in a list of elements to look for\n",
    "first_header=soup.find(['h1','h2'])\n",
    "first_header"
   ]
  },
  {
   "cell_type": "markdown",
   "metadata": {},
   "source": [
    "order does not matter when you pass a list into .find it will still return the first tag in the list it finds."
   ]
  },
  {
   "cell_type": "code",
   "execution_count": null,
   "metadata": {},
   "outputs": [],
   "source": [
    "headers=soup.find_all(['h1','h2'])\n",
    "headers"
   ]
  },
  {
   "cell_type": "code",
   "execution_count": null,
   "metadata": {},
   "outputs": [],
   "source": [
    "# you can pass in attributes to the find/find_all functions.\n",
    "paragraph=soup.find_all(\"p\")\n",
    "paragraph"
   ]
  },
  {
   "cell_type": "code",
   "execution_count": null,
   "metadata": {},
   "outputs": [],
   "source": [
    "# say we want to find the paragraph that has the attribute id='paragraph-id', use the parameter attr={}\n",
    "# to find this attribute with the paragraph tag.\n",
    "\n",
    "soup.find_all(\"p\", attrs={\"id\": \"paragraph-id\"} )"
   ]
  },
  {
   "cell_type": "code",
   "execution_count": null,
   "metadata": {},
   "outputs": [],
   "source": [
    "# you can nest find and find all calls.\n",
    "body = soup.find('body')\n",
    "body"
   ]
  },
  {
   "cell_type": "markdown",
   "metadata": {},
   "source": [
    "now lets say you want to find a 'div' tag, you can nest this with the body object just created"
   ]
  },
  {
   "cell_type": "code",
   "execution_count": null,
   "metadata": {},
   "outputs": [],
   "source": [
    "div =body.find('div')\n",
    "div"
   ]
  },
  {
   "cell_type": "markdown",
   "metadata": {},
   "source": [
    "now lets do the same process for the header"
   ]
  },
  {
   "cell_type": "code",
   "execution_count": null,
   "metadata": {},
   "outputs": [],
   "source": [
    "header=div.find('h1')\n",
    "header"
   ]
  },
  {
   "cell_type": "code",
   "execution_count": null,
   "metadata": {},
   "outputs": [],
   "source": [
    "# we can search for specific strings in find_all calls.\n",
    "# say we wanted to find paragraphs that contained the word 'some'\n",
    "\n",
    "print(body.prettify())"
   ]
  },
  {
   "cell_type": "code",
   "execution_count": null,
   "metadata": {},
   "outputs": [],
   "source": [
    "some_paragraphs=body.find_all('p', string='Some')\n",
    "some_paragraphs"
   ]
  },
  {
   "cell_type": "markdown",
   "metadata": {},
   "source": [
    "oh no! oh no! Oh no no no no!"
   ]
  },
  {
   "cell_type": "code",
   "execution_count": null,
   "metadata": {},
   "outputs": [],
   "source": [
    "# it doesn't quite work...what if we put in 'Some bold text'??\n",
    "some_paragraphs=body.find_all('p', string='Some bold text')\n",
    "some_paragraphs"
   ]
  },
  {
   "cell_type": "code",
   "execution_count": null,
   "metadata": {},
   "outputs": [],
   "source": [
    "# this situation is not ideal.\n",
    "# let's leverage our friend regex :)\n",
    "\n",
    "import re\n",
    "\n",
    "some_paragraphs=body.find_all('p', string=re.compile('Some'))\n",
    "some_paragraphs"
   ]
  },
  {
   "cell_type": "code",
   "execution_count": null,
   "metadata": {},
   "outputs": [],
   "source": [
    "# another example find all headers that have the word \"header\" in them\n",
    "\n",
    "headers=body.find_all('h2', string=re.compile('header'))\n",
    "headers"
   ]
  },
  {
   "cell_type": "markdown",
   "metadata": {},
   "source": [
    "only finds one result because regex is looking for 'header'. we can change it by giving it a different pattern to capture the capital \"H\", string=re.compile('(H|h)eader')"
   ]
  },
  {
   "cell_type": "code",
   "execution_count": null,
   "metadata": {},
   "outputs": [],
   "source": [
    "headers=body.find_all('h2', string=re.compile('(H|h)eader'))\n",
    "headers"
   ]
  },
  {
   "cell_type": "markdown",
   "metadata": {},
   "source": [
    "### select (CSS selector)"
   ]
  },
  {
   "cell_type": "code",
   "execution_count": null,
   "metadata": {},
   "outputs": [],
   "source": [
    "print(soup.body.prettify())"
   ]
  },
  {
   "cell_type": "code",
   "execution_count": null,
   "metadata": {},
   "outputs": [],
   "source": [
    "soup.select('p')"
   ]
  },
  {
   "cell_type": "markdown",
   "metadata": {},
   "source": [
    "looks the same as find_all. Let's try finding all paragraph tags inside of div."
   ]
  },
  {
   "cell_type": "code",
   "execution_count": null,
   "metadata": {},
   "outputs": [],
   "source": [
    "soup.select('div p')"
   ]
  },
  {
   "cell_type": "code",
   "execution_count": null,
   "metadata": {},
   "outputs": [],
   "source": [
    "# select all the paragraphs that are also preceeded by a header.\n",
    "soup.select('h2 ~ p')\n"
   ]
  },
  {
   "cell_type": "code",
   "execution_count": null,
   "metadata": {},
   "outputs": [],
   "source": [
    "# let's do some more of this. It's useful to grab elements with specific id's"
   ]
  },
  {
   "cell_type": "code",
   "execution_count": null,
   "metadata": {},
   "outputs": [],
   "source": [
    "soup.select('p#paragraph-id b')"
   ]
  },
  {
   "cell_type": "code",
   "execution_count": null,
   "metadata": {},
   "outputs": [],
   "source": [
    "paragraphs=soup.select('body > p')\n",
    "paragraphs"
   ]
  },
  {
   "cell_type": "code",
   "execution_count": null,
   "metadata": {},
   "outputs": [],
   "source": [
    "# we can loop through and make select calls with these objects that we just made. Let's take paragraphs for example\n",
    "#first look at the type(paragraphs)\n",
    "\n",
    "type(paragraphs)"
   ]
  },
  {
   "cell_type": "code",
   "execution_count": null,
   "metadata": {},
   "outputs": [],
   "source": [
    "# it's a list so we can loop. Let's inspect the elements in the list for their types\n",
    "type(paragraphs[0])"
   ]
  },
  {
   "cell_type": "markdown",
   "metadata": {},
   "source": [
    "They are beautiful soup objects so we can use the select and find_all calls. Let's do an example of finding the elements with the id tag."
   ]
  },
  {
   "cell_type": "code",
   "execution_count": null,
   "metadata": {},
   "outputs": [],
   "source": [
    "paragraphs"
   ]
  },
  {
   "cell_type": "code",
   "execution_count": null,
   "metadata": {},
   "outputs": [],
   "source": [
    "paragraphs_i=[]\n",
    "[paragraphs_i.append(x.select('i')) for x in paragraphs]\n",
    "paragraphs_i"
   ]
  },
  {
   "cell_type": "code",
   "execution_count": null,
   "metadata": {},
   "outputs": [],
   "source": [
    "# Grab an element with a specific property\n",
    "soup.select(\"[align='middle']\")"
   ]
  },
  {
   "cell_type": "markdown",
   "metadata": {},
   "source": [
    "# Get different properties of the HTML"
   ]
  },
  {
   "cell_type": "code",
   "execution_count": null,
   "metadata": {},
   "outputs": [],
   "source": [
    "# want to grab only the string from an element, use the .string property\n",
    "header = soup.find('h2')\n",
    "header, header.string"
   ]
  },
  {
   "cell_type": "code",
   "execution_count": null,
   "metadata": {},
   "outputs": [],
   "source": [
    "# let's try with div.\n",
    "div = soup.find('div')\n",
    "print(div.prettify())\n",
    "print(div.string)"
   ]
  },
  {
   "cell_type": "markdown",
   "metadata": {},
   "source": [
    "We got an answer of None. This is because there are children elements inside of the div, so the .string property is not sure which text to grab."
   ]
  },
  {
   "cell_type": "code",
   "execution_count": null,
   "metadata": {},
   "outputs": [],
   "source": [
    "# Let's try with .get_text()\n",
    "print(div.get_text())\n",
    "div.get_text()"
   ]
  },
  {
   "cell_type": "code",
   "execution_count": null,
   "metadata": {},
   "outputs": [],
   "source": [
    "# Get a specific property from an element.\n",
    "# Let's get the href link tag\n",
    "link = soup.find('a')\n",
    "link"
   ]
  },
  {
   "cell_type": "code",
   "execution_count": null,
   "metadata": {},
   "outputs": [],
   "source": [
    "link['href']"
   ]
  },
  {
   "cell_type": "code",
   "execution_count": null,
   "metadata": {},
   "outputs": [],
   "source": [
    "# try to get the paragraph id tag.\n",
    "paragraphs = soup.select('p#paragraph-id')\n",
    "paragraphs"
   ]
  },
  {
   "cell_type": "code",
   "execution_count": null,
   "metadata": {},
   "outputs": [],
   "source": [
    "type(paragraphs)"
   ]
  },
  {
   "cell_type": "code",
   "execution_count": null,
   "metadata": {},
   "outputs": [],
   "source": [
    "paragraphs[0], type(paragraphs[0])"
   ]
  },
  {
   "cell_type": "code",
   "execution_count": null,
   "metadata": {},
   "outputs": [],
   "source": [
    "paragraphs[0]['id']"
   ]
  },
  {
   "cell_type": "markdown",
   "metadata": {},
   "source": [
    "# Code Navigation"
   ]
  },
  {
   "cell_type": "code",
   "execution_count": null,
   "metadata": {},
   "outputs": [],
   "source": [
    "# the beautiful soup object\n",
    "soup"
   ]
  },
  {
   "cell_type": "code",
   "execution_count": null,
   "metadata": {},
   "outputs": [],
   "source": [
    "# the <body> portion and all it contains of beautiful soup object\n",
    "soup.body"
   ]
  },
  {
   "cell_type": "code",
   "execution_count": null,
   "metadata": {},
   "outputs": [],
   "source": [
    "soup.div"
   ]
  },
  {
   "cell_type": "code",
   "execution_count": null,
   "metadata": {},
   "outputs": [],
   "source": [
    "soup.h1"
   ]
  },
  {
   "cell_type": "code",
   "execution_count": null,
   "metadata": {},
   "outputs": [],
   "source": [
    "soup.h1.string"
   ]
  },
  {
   "cell_type": "code",
   "execution_count": null,
   "metadata": {},
   "outputs": [],
   "source": [
    "# know the terms parent, sibling, child\n",
    "# start with a pretty print of the body.\n",
    "\n",
    "print(soup.body.prettify())"
   ]
  },
  {
   "cell_type": "code",
   "execution_count": null,
   "metadata": {},
   "outputs": [],
   "source": [
    "soup.p"
   ]
  },
  {
   "cell_type": "markdown",
   "metadata": {},
   "source": [
    "The body has a nested structure. The body is the parent. Everything nested inside the body is the children. If elements are on the same level they are considered siblings like `<div>` and `<h2>`."
   ]
  },
  {
   "cell_type": "code",
   "execution_count": null,
   "metadata": {},
   "outputs": [],
   "source": [
    "# start with looking at div\n",
    "div=soup.find('div')\n",
    "# looks like there are 4 elements that are siblings of the div\n",
    "div"
   ]
  },
  {
   "cell_type": "code",
   "execution_count": null,
   "metadata": {},
   "outputs": [],
   "source": [
    "div.find_next_siblings()"
   ]
  },
  {
   "cell_type": "code",
   "execution_count": null,
   "metadata": {},
   "outputs": [],
   "source": [
    "len(div.find_next_siblings())"
   ]
  },
  {
   "cell_type": "markdown",
   "metadata": {},
   "source": [
    "# Exercises"
   ]
  },
  {
   "cell_type": "code",
   "execution_count": 2,
   "metadata": {},
   "outputs": [
    {
     "data": {
      "text/plain": [
       "<Response [200]>"
      ]
     },
     "execution_count": 2,
     "metadata": {},
     "output_type": "execute_result"
    }
   ],
   "source": [
    "# Grab all the social link from the webpage.\n",
    "# webpage: https://keithgalli.github.io/web-scraping/webpage.html\n",
    "\n",
    "url = 'https://keithgalli.github.io/web-scraping/webpage.html'\n",
    "request=requests.get(url)\n",
    "request"
   ]
  },
  {
   "cell_type": "code",
   "execution_count": null,
   "metadata": {},
   "outputs": [],
   "source": [
    "# look at the content\n",
    "request.content"
   ]
  },
  {
   "cell_type": "code",
   "execution_count": 3,
   "metadata": {},
   "outputs": [],
   "source": [
    "# create a variable 'webpage' that takes request.content and makes it a beautiful soup object.\n",
    "webpage=bs(request.content)\n"
   ]
  },
  {
   "cell_type": "code",
   "execution_count": null,
   "metadata": {
    "scrolled": false
   },
   "outputs": [],
   "source": [
    "print(webpage.prettify())"
   ]
  },
  {
   "cell_type": "markdown",
   "metadata": {},
   "source": [
    "# starting on my own."
   ]
  },
  {
   "cell_type": "code",
   "execution_count": null,
   "metadata": {},
   "outputs": [],
   "source": [
    "# all of the social links look like they are inside of <ul> (unordered list) elements with attribute class='socials'\n",
    "socials = webpage.find('ul', attrs={'class': 'socials'})\n",
    "socials"
   ]
  },
  {
   "cell_type": "code",
   "execution_count": null,
   "metadata": {},
   "outputs": [],
   "source": [
    "type(socials)"
   ]
  },
  {
   "cell_type": "code",
   "execution_count": null,
   "metadata": {},
   "outputs": [],
   "source": [
    "social_str = str(socials)\n",
    "social_str"
   ]
  },
  {
   "cell_type": "code",
   "execution_count": null,
   "metadata": {},
   "outputs": [],
   "source": [
    "social_str.split('\\n')"
   ]
  },
  {
   "cell_type": "code",
   "execution_count": null,
   "metadata": {},
   "outputs": [],
   "source": [
    "# another way - find_all\n",
    "socials = webpage.find_all('ul', attrs={'class': 'socials'})\n",
    "socials"
   ]
  },
  {
   "cell_type": "code",
   "execution_count": null,
   "metadata": {},
   "outputs": [],
   "source": [
    "# using select\n",
    "links = webpage.select('ul > li > a[href*=\"keith\"]')"
   ]
  },
  {
   "cell_type": "code",
   "execution_count": null,
   "metadata": {},
   "outputs": [],
   "source": [
    "links"
   ]
  },
  {
   "cell_type": "code",
   "execution_count": null,
   "metadata": {},
   "outputs": [],
   "source": [
    "links[0]['href']"
   ]
  },
  {
   "cell_type": "code",
   "execution_count": null,
   "metadata": {},
   "outputs": [],
   "source": [
    "links[1]['href']"
   ]
  },
  {
   "cell_type": "code",
   "execution_count": null,
   "metadata": {},
   "outputs": [],
   "source": [
    "actual_links = [x['href'] for x in links]\n",
    "actual_links"
   ]
  },
  {
   "cell_type": "code",
   "execution_count": null,
   "metadata": {},
   "outputs": [],
   "source": [
    "# [requests.get(x) for x in actual_links]"
   ]
  },
  {
   "cell_type": "markdown",
   "metadata": {},
   "source": [
    "# following video solutions"
   ]
  },
  {
   "cell_type": "code",
   "execution_count": null,
   "metadata": {},
   "outputs": [],
   "source": [
    "# what happens when I select all of the <a> elements on the page?\n",
    "webpage.select('a')"
   ]
  },
  {
   "cell_type": "markdown",
   "metadata": {},
   "source": [
    "This gave us too much... \\\n",
    "On the page all of the socials are stored in an unordered list (ul) with class=\"socials\""
   ]
  },
  {
   "cell_type": "code",
   "execution_count": null,
   "metadata": {},
   "outputs": [],
   "source": [
    "# NOTE in select '#' goes with id names, '.' goes with class names\n",
    "links=webpage.select('ul.socials')\n",
    "links"
   ]
  },
  {
   "cell_type": "code",
   "execution_count": null,
   "metadata": {},
   "outputs": [],
   "source": [
    "# now we just want the a elements with the href in them.\n",
    "links=webpage.select('ul.socials a')\n",
    "links"
   ]
  },
  {
   "cell_type": "code",
   "execution_count": null,
   "metadata": {},
   "outputs": [],
   "source": [
    "# we hant to get only the links - https://..... \n",
    "#since the variable 'links' is a list we can do a list comprehension to grab these.\n",
    "\n",
    "[link['href'] for link in links]\n"
   ]
  },
  {
   "cell_type": "code",
   "execution_count": null,
   "metadata": {},
   "outputs": [],
   "source": [
    "# another way\n",
    "# this time lets use find\n",
    "# a starting point. let's see the first '<a>' tag\n",
    "\n",
    "links=webpage.find('a')\n",
    "links"
   ]
  },
  {
   "cell_type": "markdown",
   "metadata": {},
   "source": [
    "this is not what we are looking for :("
   ]
  },
  {
   "cell_type": "code",
   "execution_count": null,
   "metadata": {},
   "outputs": [],
   "source": [
    "# let's try doing something similar to our first approach.\n",
    "links=webpage.find('ul', attrs={'class': 'socials'})\n",
    "links"
   ]
  },
  {
   "cell_type": "markdown",
   "metadata": {},
   "source": [
    "This is the point that I got to when I worked on my own! \\\n",
    "Let's do a step further and grab the actual links."
   ]
  },
  {
   "cell_type": "code",
   "execution_count": null,
   "metadata": {},
   "outputs": [],
   "source": [
    "# from the 'links' object grab all the 'a' tags\n",
    "a_tags = links.find_all('a')\n",
    "a_tags"
   ]
  },
  {
   "cell_type": "code",
   "execution_count": null,
   "metadata": {},
   "outputs": [],
   "source": [
    "# similar to befor we can now do a list comprehension to grab all the href=''\n",
    "[link['href'] for link in a_tags]"
   ]
  },
  {
   "cell_type": "code",
   "execution_count": null,
   "metadata": {},
   "outputs": [],
   "source": [
    "# one more way\n",
    "links = webpage.select('li.social a')\n",
    "links"
   ]
  },
  {
   "cell_type": "code",
   "execution_count": null,
   "metadata": {},
   "outputs": [],
   "source": [
    "# and lets loop through one more time\n",
    "actual_links = [link['href'] for link in links]\n",
    "actual_links"
   ]
  },
  {
   "cell_type": "markdown",
   "metadata": {},
   "source": [
    "# Scrape the table from the keithgalli html page."
   ]
  },
  {
   "cell_type": "code",
   "execution_count": null,
   "metadata": {},
   "outputs": [],
   "source": [
    "# get the table_headers from the season stats table\n",
    "table_headers = webpage.find('table').find_all('th')\n",
    "table_headers"
   ]
  },
  {
   "cell_type": "code",
   "execution_count": null,
   "metadata": {},
   "outputs": [],
   "source": [
    "''.join(table_headers[0]['class'])"
   ]
  },
  {
   "cell_type": "code",
   "execution_count": null,
   "metadata": {},
   "outputs": [],
   "source": [
    "column_names=[' '.join(th['class']) for th in table_headers]\n",
    "column_names"
   ]
  },
  {
   "cell_type": "markdown",
   "metadata": {},
   "source": [
    "# function: create column_names()"
   ]
  },
  {
   "cell_type": "code",
   "execution_count": 4,
   "metadata": {},
   "outputs": [
    {
     "data": {
      "text/plain": [
       "['season',\n",
       " 'team',\n",
       " 'league',\n",
       " 'regular gp',\n",
       " 'regular g',\n",
       " 'regular a',\n",
       " 'regular tp',\n",
       " 'regular pim',\n",
       " 'regular pm',\n",
       " 'separator',\n",
       " 'postseason',\n",
       " 'postseason gp',\n",
       " 'postseason g',\n",
       " 'postseason a',\n",
       " 'postseason tp',\n",
       " 'postseason pim',\n",
       " 'postseason pm']"
      ]
     },
     "execution_count": 4,
     "metadata": {},
     "output_type": "execute_result"
    }
   ],
   "source": [
    "# for the data frame these table headers will be column names.\n",
    "# we will name the function that creates the list of column names 'create_column_names_list'\n",
    "def create_column_names_list(webpage):\n",
    "    table_headers = webpage.find('table').find_all('th')\n",
    "    column_names_list=[' '.join(th['class']) for th in table_headers]\n",
    "    return(column_names_list)\n",
    "\n",
    "column_names_list=create_column_names_list(webpage)\n",
    "column_names_list\n"
   ]
  },
  {
   "cell_type": "markdown",
   "metadata": {},
   "source": [
    "### function: create_table_rows_list"
   ]
  },
  {
   "cell_type": "code",
   "execution_count": 5,
   "metadata": {
    "scrolled": false
   },
   "outputs": [],
   "source": [
    "# all of the table rows in a list\n",
    "def create_table_rows_list(webpage):\n",
    "    table_rows_list =webpage.find('tbody').find_all('tr')\n",
    "    return(table_rows_list)\n",
    "\n",
    "table_rows_list=create_table_rows_list(webpage)"
   ]
  },
  {
   "cell_type": "code",
   "execution_count": null,
   "metadata": {},
   "outputs": [],
   "source": [
    "# looking at the first item in the list\n",
    "# create an empty dictionary to store details\n",
    "# print(table_rows_list[0].prettify())\n",
    "# table_row_dict={}\n",
    "# table_row_dict"
   ]
  },
  {
   "cell_type": "code",
   "execution_count": null,
   "metadata": {
    "scrolled": true
   },
   "outputs": [],
   "source": [
    "# to get the season information go down to where the season is contained in the bs_object.\n",
    "# first_row = table_rows_list[0]\n",
    "# first_row.find('td', attrs={'class':'season sorted'}).string"
   ]
  },
  {
   "cell_type": "code",
   "execution_count": null,
   "metadata": {},
   "outputs": [],
   "source": [
    "#How does it look with .get_text()?\n",
    "# first_row.find('td', attrs={'class':'season sorted'}).get_text()"
   ]
  },
  {
   "cell_type": "code",
   "execution_count": null,
   "metadata": {},
   "outputs": [],
   "source": [
    "# since these look the same let's clean up the string.\n",
    "# give the string a variable name 'season_string'\n",
    "# season_string = first_row.find('td', attrs={'class':'season sorted'}).get_text()\n",
    "# season_string"
   ]
  },
  {
   "cell_type": "code",
   "execution_count": null,
   "metadata": {},
   "outputs": [],
   "source": [
    "# get rid of the white space and new new lines with .strip()\n",
    "# season_string.strip()"
   ]
  },
  {
   "cell_type": "code",
   "execution_count": null,
   "metadata": {},
   "outputs": [],
   "source": [
    "# putting this example into a for a loop to make a list of all of the seasons.\n",
    "# seasons_list=[]\n",
    "# for r in table_rows_list:\n",
    "#     season_string=r.find('td', attrs={'class':'season sorted'}).get_text()\n",
    "#     seasons_list.append(season_string.strip())\n",
    "# seasons_list"
   ]
  },
  {
   "cell_type": "markdown",
   "metadata": {},
   "source": [
    "### function: create_seasons_list()"
   ]
  },
  {
   "cell_type": "code",
   "execution_count": 6,
   "metadata": {},
   "outputs": [
    {
     "data": {
      "text/plain": [
       "['2014-15', '2015-16', '2016-17', '2017-18', '2018-19']"
      ]
     },
     "execution_count": 6,
     "metadata": {},
     "output_type": "execute_result"
    }
   ],
   "source": [
    "# let's make the for loop into a function to call the seasons_list for the pandas dataframe.\n",
    "def create_seasons_list():\n",
    "    seasons_list = []\n",
    "    for r in table_rows_list:\n",
    "        season_string=r.find('td', attrs={'class':'season sorted'}).get_text()\n",
    "        seasons_list.append(season_string.strip())\n",
    "    return(seasons_list)\n",
    "\n",
    "seasons_list = create_seasons_list()\n",
    "seasons_list"
   ]
  },
  {
   "cell_type": "code",
   "execution_count": null,
   "metadata": {},
   "outputs": [],
   "source": [
    "# grab the team information:\n",
    "# team_info = table_rows_list[0].find('td', attrs={'class':'team'})\n",
    "# team_info"
   ]
  },
  {
   "cell_type": "code",
   "execution_count": null,
   "metadata": {},
   "outputs": [],
   "source": [
    "# team_name = team_info.find('a').get_text().strip()\n",
    "# team_name"
   ]
  },
  {
   "cell_type": "code",
   "execution_count": null,
   "metadata": {},
   "outputs": [],
   "source": [
    "# team_season_link = team_info.find('a')\n",
    "# team_season_link['href']"
   ]
  },
  {
   "cell_type": "code",
   "execution_count": null,
   "metadata": {},
   "outputs": [],
   "source": [
    "#putting this example into a for loop to make lists of team names & season links\n",
    "# team_name_list=[]\n",
    "# team_links_list=[]\n",
    "# for r in table_rows_list:\n",
    "#     team_info=r.find('td', attrs={'class':'team'})\n",
    "#     if team_info.find('a'):\n",
    "#         team_name=team_info.find('a').get_text().strip()\n",
    "#         team_season_link=team_info.find('a')\n",
    "#         team_name_list.append(team_name)\n",
    "#         team_season_link = team_info.find('a')\n",
    "#         team_links_list.append(team_season_link['href'])\n",
    "#     else:\n",
    "#         team_name=team_info.get_text().strip()\n",
    "#         team_season_link= \"\"\n",
    "#         team_name_list.append(team_name)\n",
    "#         team_links_list.append(team_season_link)\n",
    "\n",
    "# team_name_list, team_links_list"
   ]
  },
  {
   "cell_type": "markdown",
   "metadata": {},
   "source": [
    "### function: create_team_name_links_list()"
   ]
  },
  {
   "cell_type": "code",
   "execution_count": 7,
   "metadata": {},
   "outputs": [
    {
     "data": {
      "text/plain": [
       "(['MIT (Mass. Inst. of Tech.)',\n",
       "  'MIT (Mass. Inst. of Tech.)',\n",
       "  'MIT (Mass. Inst. of Tech.)',\n",
       "  'Did not play',\n",
       "  'MIT (Mass. Inst. of Tech.)'],\n",
       " ['https://www.eliteprospects.com/team/10263/mit-mass.-inst.-of-tech./2014-2015?tab=stats',\n",
       "  'https://www.eliteprospects.com/team/10263/mit-mass.-inst.-of-tech./2015-2016?tab=stats',\n",
       "  'https://www.eliteprospects.com/team/10263/mit-mass.-inst.-of-tech./2016-2017?tab=stats',\n",
       "  '',\n",
       "  'https://www.eliteprospects.com/team/10263/mit-mass.-inst.-of-tech./2018-2019?tab=stats'])"
      ]
     },
     "execution_count": 7,
     "metadata": {},
     "output_type": "execute_result"
    }
   ],
   "source": [
    "# Let's make a function!\n",
    "\n",
    "def create_team_name_links_lists():\n",
    "    team_name_list=[]\n",
    "    team_links_list=[]\n",
    "    for r in table_rows_list:\n",
    "        team_info=r.find('td', attrs={'class':'team'})\n",
    "        if team_info.find('a'):\n",
    "            team_name=team_info.find('a').get_text().strip()\n",
    "            team_season_link=team_info.find('a')\n",
    "            team_name_list.append(team_name)\n",
    "            team_season_link = team_info.find('a')\n",
    "            team_links_list.append(team_season_link['href'])\n",
    "        else:\n",
    "            team_name=team_info.get_text().strip()\n",
    "            team_season_link= \"\"\n",
    "            team_name_list.append(team_name)\n",
    "            team_links_list.append(team_season_link)\n",
    "\n",
    "    return(team_name_list, team_links_list)\n",
    "\n",
    "(team_name_list, team_links_list) = create_team_name_links_lists()\n",
    "team_name_list, team_links_list"
   ]
  },
  {
   "cell_type": "code",
   "execution_count": null,
   "metadata": {},
   "outputs": [],
   "source": [
    "# sanity check: looking at the lists created from the function.\n",
    "# team_name_list, team_links_list"
   ]
  },
  {
   "cell_type": "code",
   "execution_count": null,
   "metadata": {},
   "outputs": [],
   "source": [
    "# get the league info for the 'league' column\n",
    "# test with the first item in 'table_rows_list'\n",
    "# league_info=table_rows_list[0].find('td',attrs={'class':'league'})\n",
    "# league_info"
   ]
  },
  {
   "cell_type": "code",
   "execution_count": null,
   "metadata": {},
   "outputs": [],
   "source": [
    "# get the league name with .get_text()\n",
    "# league = league_info.get_text().strip()\n",
    "# league"
   ]
  },
  {
   "cell_type": "code",
   "execution_count": null,
   "metadata": {},
   "outputs": [],
   "source": [
    "# get the league link with find('a') and ['href']\n",
    "# league_link=league_info.find('a')\n",
    "# league_link['href']"
   ]
  },
  {
   "cell_type": "code",
   "execution_count": null,
   "metadata": {},
   "outputs": [],
   "source": [
    "# test this with the 'Did not play' table_rows_list[3] info:\n",
    "# table_rows_list[3]"
   ]
  },
  {
   "cell_type": "code",
   "execution_count": null,
   "metadata": {},
   "outputs": [],
   "source": [
    "# league_info=table_rows_list[3].find('td',attrs={'class':'league'})\n",
    "# league_info.get_text().strip()"
   ]
  },
  {
   "cell_type": "code",
   "execution_count": null,
   "metadata": {},
   "outputs": [],
   "source": [
    "# league = league_info.get_text().strip()\n",
    "# league"
   ]
  },
  {
   "cell_type": "code",
   "execution_count": null,
   "metadata": {},
   "outputs": [],
   "source": [
    "# You get empty information for the year that is 'Did not play', table_rows_list[3].\n",
    "# I think this will be okay to add into the list\n",
    "\n",
    "# Go forward with creating the loop.\n",
    "\n",
    "# league_list=[]\n",
    "# league_link_list=[]\n",
    "# for r in table_rows_list:\n",
    "#     league_info=r.find('td', attrs={'class':'league'})\n",
    "#     league_list.append(league_info.get_text().strip())\n",
    "#     league_link=league_info.find('a')\n",
    "#     league_link_list.append(league_link['href'])\n",
    "\n",
    "# league_list, league_link_list"
   ]
  },
  {
   "cell_type": "markdown",
   "metadata": {},
   "source": [
    "### function: create_league_name_link_lists()"
   ]
  },
  {
   "cell_type": "code",
   "execution_count": 8,
   "metadata": {},
   "outputs": [],
   "source": [
    "def create_league_name_link_lists():\n",
    "    league_list=[]\n",
    "    league_link_list=[]\n",
    "    for r in table_rows_list:\n",
    "        league_info=r.find('td', attrs={'class':'league'})\n",
    "        league_list.append(league_info.get_text().strip())\n",
    "        league_link=league_info.find('a')\n",
    "        league_link_list.append(league_link['href'])\n",
    "\n",
    "    return(league_list, league_link_list)\n",
    "\n",
    "league_list, league_link_list=create_league_name_link_lists()"
   ]
  },
  {
   "cell_type": "code",
   "execution_count": null,
   "metadata": {},
   "outputs": [],
   "source": [
    "league_list"
   ]
  },
  {
   "cell_type": "code",
   "execution_count": null,
   "metadata": {},
   "outputs": [],
   "source": [
    "league_link_list"
   ]
  },
  {
   "cell_type": "code",
   "execution_count": null,
   "metadata": {},
   "outputs": [],
   "source": [
    "# look at table_rows_list again to see whats next...\n",
    "# table_rows_list"
   ]
  },
  {
   "cell_type": "code",
   "execution_count": null,
   "metadata": {},
   "outputs": [],
   "source": [
    "# what were the column headers again?\n",
    "# print(column_names_list)"
   ]
  },
  {
   "cell_type": "code",
   "execution_count": null,
   "metadata": {},
   "outputs": [],
   "source": [
    "# try to see if there is the same 'for' loop being repeated so we could use parameters to put into a function.\n",
    "# gp_list=[]\n",
    "# for r in table_rows_list:\n",
    "#     gp_info=r.find('td', attrs={'class':'regular gp'})\n",
    "#     if gp_info.get_text()=='':\n",
    "#         gp_list.append(0)\n",
    "        \n",
    "#     else:\n",
    "#         gp_list.append(gp_info.get_text())\n",
    "\n",
    "# gp_list"
   ]
  },
  {
   "cell_type": "code",
   "execution_count": null,
   "metadata": {},
   "outputs": [],
   "source": [
    "# [int(x) for x in gp_list]"
   ]
  },
  {
   "cell_type": "code",
   "execution_count": null,
   "metadata": {},
   "outputs": [],
   "source": [
    "# g_list=[]\n",
    "# for r in table_rows_list:\n",
    "#     g_info=r.find('td', attrs={'class': 'regular g'})\n",
    "#     if g_info.get_text()=='':\n",
    "#         g_list.append(0)\n",
    "#     else:\n",
    "#         g_list.append(g_info.get_text())\n",
    "# g_list"
   ]
  },
  {
   "cell_type": "code",
   "execution_count": null,
   "metadata": {},
   "outputs": [],
   "source": [
    "# [int(x) for x in g_list]"
   ]
  },
  {
   "cell_type": "code",
   "execution_count": null,
   "metadata": {},
   "outputs": [],
   "source": [
    "# ***Do not use this piece**\n",
    "# :later created a function to get these names as they look in the 'column_names_list' variable.\n",
    "\n",
    "# work on creating a function that will make lists for each numerical stats.\n",
    "# stats=['GP','G','A','TP','PIM', '+/-']\n",
    "# stats"
   ]
  },
  {
   "cell_type": "code",
   "execution_count": null,
   "metadata": {},
   "outputs": [],
   "source": [
    "# lower the stats names to match the text in html.\n",
    "# stats = [str.lower(x) for x in stats]"
   ]
  },
  {
   "cell_type": "code",
   "execution_count": null,
   "metadata": {},
   "outputs": [],
   "source": [
    "# stats_dictionary = {}\n",
    "# for x in stats:\n",
    "#     stats_dictionary[x]=''\n",
    "# stats_dictionary\n"
   ]
  },
  {
   "cell_type": "code",
   "execution_count": null,
   "metadata": {},
   "outputs": [],
   "source": [
    "# stats_dictionary['gp'].append(0)\n",
    "# stats_dictionary"
   ]
  },
  {
   "cell_type": "code",
   "execution_count": null,
   "metadata": {},
   "outputs": [],
   "source": [
    "# for i in stats_dictionary:\n",
    "#     info=table_rows_list[0].find('td', attrs={'class': f'regular {i}'})\n",
    "#     if info:\n",
    "#         stats_dictionary[i]=(int(info.get_text()))\n",
    "#     else:\n",
    "#         stats_dictionary[i]='Null'\n",
    "    \n",
    "# stats_dictionary"
   ]
  },
  {
   "cell_type": "code",
   "execution_count": null,
   "metadata": {},
   "outputs": [],
   "source": [
    "# Let's see whats going on with the 'Did Not Play Row'\n",
    "# table_rows_list[3]"
   ]
  },
  {
   "cell_type": "code",
   "execution_count": null,
   "metadata": {},
   "outputs": [],
   "source": [
    "# for i in stats_dictionary:\n",
    "#     if table_rows_list[3].find('td', attrs={'class': f'regular {i}'}):\n",
    "#         info=table_rows_list[3].find('td', attrs={'class': f'regular {i}'})\n",
    "#         if info.get_text()=='':\n",
    "#             print(i, 'No Text')\n",
    "#         else:\n",
    "#             print(i)\n",
    "#     else:\n",
    "#         print(i, 'Null')\n",
    "    "
   ]
  },
  {
   "cell_type": "code",
   "execution_count": null,
   "metadata": {},
   "outputs": [],
   "source": [
    "# create a for loop to put all of the stats together into a list of dictionaries\n",
    "\n",
    "# numeric_stats_list=[]\n",
    "# for r in table_rows_list:\n",
    "#     stats=['GP','G','A','TP','PIM', '+/-']\n",
    "#     stats=[str.lower(x) for x in stats]\n",
    "#     stats_dictionary={}\n",
    "#     for i in stats:\n",
    "#         if r.find('td', attrs={'class': f'regular {i}'}):\n",
    "#             info=r.find('td', attrs={'class': f'regular {i}'})\n",
    "#             if info.get_text()!='':\n",
    "#                 stats_dictionary[i]=(int(info.get_text()))\n",
    "#             else:\n",
    "#                 stats_dictionary[i]=''\n",
    "#         else:\n",
    "#             stats_dictionary[i]=''\n",
    "#     numeric_stats_list.append(stats_dictionary)"
   ]
  },
  {
   "cell_type": "code",
   "execution_count": null,
   "metadata": {},
   "outputs": [],
   "source": [
    "# numeric_stats_list"
   ]
  },
  {
   "cell_type": "code",
   "execution_count": null,
   "metadata": {},
   "outputs": [],
   "source": [
    "# Thinking of an idea\n",
    "# Did not use this, not important\n",
    "\n",
    "# for k,v in enumerate(numeric_stats_list):\n",
    "#     print(k,v)"
   ]
  },
  {
   "cell_type": "markdown",
   "metadata": {},
   "source": [
    "### Function create_regular_stats_list()"
   ]
  },
  {
   "cell_type": "code",
   "execution_count": 9,
   "metadata": {},
   "outputs": [
    {
     "data": {
      "text/plain": [
       "[{'regular gp': 17,\n",
       "  'regular g': 3,\n",
       "  'regular a': 9,\n",
       "  'regular tp': 12,\n",
       "  'regular pim': 20,\n",
       "  'regular pm': ''},\n",
       " {'regular gp': 9,\n",
       "  'regular g': 1,\n",
       "  'regular a': 1,\n",
       "  'regular tp': 2,\n",
       "  'regular pim': 2,\n",
       "  'regular pm': ''},\n",
       " {'regular gp': 12,\n",
       "  'regular g': 5,\n",
       "  'regular a': 5,\n",
       "  'regular tp': 10,\n",
       "  'regular pim': 8,\n",
       "  'regular pm': 0},\n",
       " {'regular gp': '',\n",
       "  'regular g': '',\n",
       "  'regular a': '',\n",
       "  'regular tp': '',\n",
       "  'regular pim': '',\n",
       "  'regular pm': ''},\n",
       " {'regular gp': 8,\n",
       "  'regular g': 5,\n",
       "  'regular a': 10,\n",
       "  'regular tp': 15,\n",
       "  'regular pim': 8,\n",
       "  'regular pm': ''}]"
      ]
     },
     "execution_count": 9,
     "metadata": {},
     "output_type": "execute_result"
    }
   ],
   "source": [
    "def create_regular_stats_list():\n",
    "    regular_stats_list=[]\n",
    "    for r in table_rows_list:\n",
    "        numeric_stats_names_list=['regular GP','regular G','regular A','regular TP','regular PIM', 'regular PM']\n",
    "        numeric_stats_names_list=[str.lower(x) for x in numeric_stats_names_list]\n",
    "        stats_dictionary={}\n",
    "        for i in numeric_stats_names_list:\n",
    "            if r.find('td', attrs={'class': f'{i}'}):\n",
    "                info=r.find('td', attrs={'class': f'{i}'})\n",
    "                if info.get_text()!='':\n",
    "                    stats_dictionary[i]=(int(info.get_text()))\n",
    "                else:\n",
    "                    stats_dictionary[i]=''\n",
    "            else:\n",
    "                stats_dictionary[i]=''\n",
    "        regular_stats_list.append(stats_dictionary)\n",
    "    return(regular_stats_list)\n",
    "    \n",
    "\n",
    "\n",
    "regular_stats_list=create_regular_stats_list()\n",
    "regular_stats_list"
   ]
  },
  {
   "cell_type": "code",
   "execution_count": null,
   "metadata": {
    "scrolled": false
   },
   "outputs": [],
   "source": [
    "# exploring the separator row\n",
    "# separator_info=table_rows_list[0].find('td', attrs={'class':'separator'})"
   ]
  },
  {
   "cell_type": "code",
   "execution_count": null,
   "metadata": {},
   "outputs": [],
   "source": [
    "# separator_info.get_text().strip()"
   ]
  },
  {
   "cell_type": "code",
   "execution_count": null,
   "metadata": {},
   "outputs": [],
   "source": [
    "# create a for loop to contain all of the separators\n",
    "\n",
    "# separators=[]\n",
    "# for r in table_rows_list:\n",
    "#     sep = r.find('td',attrs={'class':'separator'})\n",
    "#     separators.append(sep.get_text().strip())\n",
    "\n",
    "# separators"
   ]
  },
  {
   "cell_type": "code",
   "execution_count": null,
   "metadata": {},
   "outputs": [],
   "source": [
    "#list comprehension\n",
    "# [x.get_text().strip()for x in [r.find('td', attrs={'class':'separator'}) for r in table_rows_list]]"
   ]
  },
  {
   "cell_type": "markdown",
   "metadata": {},
   "source": [
    "### function: create_separators & postseason_stats"
   ]
  },
  {
   "cell_type": "code",
   "execution_count": 10,
   "metadata": {},
   "outputs": [
    {
     "data": {
      "text/plain": [
       "['|', '|', '|', '|', '|']"
      ]
     },
     "execution_count": 10,
     "metadata": {},
     "output_type": "execute_result"
    }
   ],
   "source": [
    "def create_postseason_stat_list(column_name):\n",
    "    column_list=[x.get_text().strip()for x in [r.find('td', attrs={'class':column_name}) for r in table_rows_list]]\n",
    "    return(column_list)\n",
    "\n",
    "separtors_list=create_postseason_stat_list('separator')\n",
    "separtors_list"
   ]
  },
  {
   "cell_type": "code",
   "execution_count": null,
   "metadata": {
    "scrolled": false
   },
   "outputs": [],
   "source": [
    "#get post season text\n",
    "# post_info=table_rows_list[0].find('td', attrs={'class':'postseason'})\n",
    "# post_info.get_text().strip()"
   ]
  },
  {
   "cell_type": "code",
   "execution_count": null,
   "metadata": {},
   "outputs": [],
   "source": [
    "# get post_season_links\n",
    "# post_info=table_rows_list[0].find('td', attrs={'class':'postseason'})\n",
    "# post_a=post_info.find('a')\n",
    "# post_a['href']"
   ]
  },
  {
   "cell_type": "code",
   "execution_count": null,
   "metadata": {},
   "outputs": [],
   "source": [
    "# ['no link' if link=='no link' else link['href'] for link in [a_tag.find('a') if a_tag.find('a') else 'no link' for a_tag in [x.find('td', attrs={'class':'postseason'}) for x in table_rows_list]]]\n"
   ]
  },
  {
   "cell_type": "markdown",
   "metadata": {},
   "source": [
    "### function: create_postseason_links()"
   ]
  },
  {
   "cell_type": "code",
   "execution_count": 11,
   "metadata": {},
   "outputs": [
    {
     "data": {
      "text/plain": [
       "['https://www.eliteprospects.com/league/acha-ii/stats/2014-2015',\n",
       " 'https://www.eliteprospects.com/league/acha-ii/stats/2015-2016',\n",
       " 'no link',\n",
       " 'https://www.eliteprospects.com/stats',\n",
       " 'https://www.eliteprospects.com/league/acha-iii/stats/2018-2019']"
      ]
     },
     "execution_count": 11,
     "metadata": {},
     "output_type": "execute_result"
    }
   ],
   "source": [
    "def create_postseason_links():\n",
    "    postseason_links= ['no link' if link=='no link' else link['href'] for link in [a_tag.find('a') if a_tag.find('a') else 'no link' for a_tag in [x.find('td', attrs={'class':'postseason'}) for x in table_rows_list]]]\n",
    "    return(postseason_links)\n",
    "\n",
    "postseason_links=create_postseason_links()\n",
    "postseason_links"
   ]
  },
  {
   "cell_type": "code",
   "execution_count": null,
   "metadata": {
    "scrolled": false
   },
   "outputs": [],
   "source": [
    "# wanted to look at the table_rows_list again\n",
    "# table_rows_list"
   ]
  },
  {
   "cell_type": "markdown",
   "metadata": {},
   "source": [
    "### function: create_postseason_stats"
   ]
  },
  {
   "cell_type": "code",
   "execution_count": 12,
   "metadata": {},
   "outputs": [
    {
     "data": {
      "text/plain": [
       "[{'regular gp': 17,\n",
       "  'regular g': 3,\n",
       "  'regular a': 9,\n",
       "  'regular tp': 12,\n",
       "  'regular pim': 20,\n",
       "  'regular pm': ''},\n",
       " {'regular gp': 9,\n",
       "  'regular g': 1,\n",
       "  'regular a': 1,\n",
       "  'regular tp': 2,\n",
       "  'regular pim': 2,\n",
       "  'regular pm': ''},\n",
       " {'regular gp': 12,\n",
       "  'regular g': 5,\n",
       "  'regular a': 5,\n",
       "  'regular tp': 10,\n",
       "  'regular pim': 8,\n",
       "  'regular pm': 0},\n",
       " {'regular gp': '',\n",
       "  'regular g': '',\n",
       "  'regular a': '',\n",
       "  'regular tp': '',\n",
       "  'regular pim': '',\n",
       "  'regular pm': ''},\n",
       " {'regular gp': 8,\n",
       "  'regular g': 5,\n",
       "  'regular a': 10,\n",
       "  'regular tp': 15,\n",
       "  'regular pim': 8,\n",
       "  'regular pm': ''}]"
      ]
     },
     "execution_count": 12,
     "metadata": {},
     "output_type": "execute_result"
    }
   ],
   "source": [
    "regular_stats_values_list = create_regular_stats_list()\n",
    "regular_stats_values_list"
   ]
  },
  {
   "cell_type": "code",
   "execution_count": 13,
   "metadata": {},
   "outputs": [
    {
     "data": {
      "text/plain": [
       "['postseason gp',\n",
       " 'postseason g',\n",
       " 'postseason a',\n",
       " 'postseason tp',\n",
       " 'postseason pim',\n",
       " 'postseason pm',\n",
       " 'postseason',\n",
       " 'separator']"
      ]
     },
     "execution_count": 13,
     "metadata": {},
     "output_type": "execute_result"
    }
   ],
   "source": [
    "post_stats_names_list=[]\n",
    "for x in regular_stats_values_list[0]:\n",
    "    post_stats_names_list.append(x.replace('regular', 'postseason'))\n",
    "\n",
    "post_stats_names_list\n",
    "post_stats_names_list.append('postseason')\n",
    "post_stats_names_list.append('separator')\n",
    "post_stats_names_list"
   ]
  },
  {
   "cell_type": "markdown",
   "metadata": {},
   "source": [
    "### function: create_postseason_stats_dictionary()"
   ]
  },
  {
   "cell_type": "code",
   "execution_count": 15,
   "metadata": {
    "scrolled": false
   },
   "outputs": [
    {
     "data": {
      "text/plain": [
       "{'postseason gp': ['', '', '', '', ''],\n",
       " 'postseason g': ['', '', '', '', ''],\n",
       " 'postseason a': ['', '', '', '', ''],\n",
       " 'postseason tp': ['', '', '', '', ''],\n",
       " 'postseason pim': ['', '', '', '', ''],\n",
       " 'postseason pm': ['', '', '', '', ''],\n",
       " 'postseason': ['', '', '', '', ''],\n",
       " 'separator': ['|', '|', '|', '|', '|']}"
      ]
     },
     "execution_count": 15,
     "metadata": {},
     "output_type": "execute_result"
    }
   ],
   "source": [
    "def create_postseason_stats_dictionary(post_stats_names_list):\n",
    "    post_stats_dictionary={}\n",
    "    \n",
    "    for x in post_stats_names_list:\n",
    "        post_stats_dictionary[x]=create_postseason_stat_list(x)\n",
    "    return(post_stats_dictionary)\n",
    "\n",
    "postseason_stats_dictionary = create_postseason_stats_dictionary(post_stats_names_list)\n",
    "postseason_stats_dictionary"
   ]
  },
  {
   "cell_type": "markdown",
   "metadata": {},
   "source": [
    "# creating the whole table/enchilada"
   ]
  },
  {
   "cell_type": "code",
   "execution_count": null,
   "metadata": {},
   "outputs": [],
   "source": [
    "# we start with an empty dictionary 'table_row_dict'\n",
    "table_row_dict"
   ]
  },
  {
   "cell_type": "code",
   "execution_count": null,
   "metadata": {},
   "outputs": [],
   "source": [
    "# use the column_names_list to fill in the keys of the dictionary.\n",
    "for x in column_names_list:\n",
    "    table_row_dict[x]=''\n",
    "\n",
    "table_row_dict"
   ]
  },
  {
   "cell_type": "code",
   "execution_count": null,
   "metadata": {},
   "outputs": [],
   "source": [
    "# use the season_list to fill in the values of the 'season' key.\n",
    "table_row_dict['season'] = seasons_list\n",
    "table_row_dict"
   ]
  },
  {
   "cell_type": "code",
   "execution_count": null,
   "metadata": {},
   "outputs": [],
   "source": [
    "# use the team_names_list to fill in the values of the 'team' key.\n",
    "table_row_dict['team']=team_name_list\n",
    "table_row_dict"
   ]
  },
  {
   "cell_type": "code",
   "execution_count": null,
   "metadata": {},
   "outputs": [],
   "source": [
    "# use the league_link_list to fill in the values of the 'league_link_list' key.\n",
    "table_row_dict['league_link_list']=league_link_list\n",
    "table_row_dict"
   ]
  },
  {
   "cell_type": "code",
   "execution_count": null,
   "metadata": {},
   "outputs": [],
   "source": [
    "# use the 'league_list' to fill in the values of the 'league' key.\n",
    "table_row_dict['league'] = league_list\n",
    "table_row_dict"
   ]
  },
  {
   "cell_type": "code",
   "execution_count": null,
   "metadata": {},
   "outputs": [],
   "source": [
    "# 'regular_stats_values_list' is a list of dictionaries that contains each regular season's (row's) stats.   \n",
    "regular_stats_values_list"
   ]
  },
  {
   "cell_type": "code",
   "execution_count": null,
   "metadata": {},
   "outputs": [],
   "source": [
    "# create regular_stats_names_list\n",
    "regular_stats_names_list=[]\n",
    "for k in regular_stats_values_list[0]:\n",
    "    regular_stats_names_list.append(k)\n",
    "    \n",
    "regular_stats_names_list"
   ]
  },
  {
   "cell_type": "code",
   "execution_count": null,
   "metadata": {},
   "outputs": [],
   "source": [
    "# create post_season_names_list\n",
    "post_season_names_list=[]\n",
    "for x in regular_stats_names_list:\n",
    "        post_season_names_list.append(x.replace('regular', 'postseason'))\n",
    "\n",
    "post_season_names_list\n",
    "post_season_names_list.append('postseason')\n",
    "post_season_names_list.append('separator')\n",
    "post_season_names_list"
   ]
  },
  {
   "cell_type": "code",
   "execution_count": null,
   "metadata": {},
   "outputs": [],
   "source": [
    "regular_stats_dictionary={}\n",
    "for x in regular_stats_names_list:\n",
    "    regular_stats_dictionary[x]=[]\n",
    "regular_stats_dictionary"
   ]
  },
  {
   "cell_type": "code",
   "execution_count": null,
   "metadata": {},
   "outputs": [],
   "source": [
    "# # learning/trying out somthing\n",
    "# for k,v in enumerate(create_regular_stats_list()):\n",
    "#     print(k,v)"
   ]
  },
  {
   "cell_type": "code",
   "execution_count": null,
   "metadata": {},
   "outputs": [],
   "source": [
    "# # learning how to navigate in each dictionary to create for loop.\n",
    "# create_regular_stats_list()[0]['regular gp']"
   ]
  },
  {
   "cell_type": "code",
   "execution_count": null,
   "metadata": {},
   "outputs": [],
   "source": [
    "# create a range the is the length of 'regular_stats_values_list'. \n",
    "# Go through each item in the range (0-4), to collect each dictionary and the corresponding key\n",
    "# to append to each key in regular_stats_dict.\n",
    "for r in range(len(regular_stats_values_list)):\n",
    "    for k in regular_stats_dictionary:\n",
    "        regular_stats_dictionary[k].append(regular_stats_values_list[r][k])\n",
    "    \n",
    "regular_stats_dictionary"
   ]
  },
  {
   "cell_type": "code",
   "execution_count": null,
   "metadata": {},
   "outputs": [],
   "source": [
    "# append regular season stats dictionary to table_row_dict\n",
    "for k in regular_stats_dict:\n",
    "    table_row_dict[k]=regular_stats_dict[k]\n",
    "\n",
    "table_row_dict"
   ]
  },
  {
   "cell_type": "code",
   "execution_count": null,
   "metadata": {},
   "outputs": [],
   "source": [
    "# use postseason_stats_dictionary to fill in values for the 'postseason' and 'separator' keys\n",
    "for k in postseason_stats_dictionary:\n",
    "    table_row_dict[k]=postseason_stats_dictionary[k]\n",
    "\n",
    "table_row_dict"
   ]
  },
  {
   "cell_type": "code",
   "execution_count": null,
   "metadata": {},
   "outputs": [],
   "source": [
    "# use the post_season_links_list to fill in the 'post_season_links' key\n",
    "table_row_dict['post_season_links'] = postseason_links\n",
    "table_row_dict"
   ]
  },
  {
   "cell_type": "code",
   "execution_count": null,
   "metadata": {},
   "outputs": [],
   "source": [
    "# Now that we have the table information web sraped and into the table_row dictionary we can import pandas and create the Data Frame.\n",
    "# NOTE: We could have imported Pandas at the beginning in our imports section at the top. (this is usally prefered)\n",
    "\n",
    "import pandas as pd"
   ]
  },
  {
   "cell_type": "code",
   "execution_count": null,
   "metadata": {},
   "outputs": [],
   "source": [
    "df = pd.DataFrame(table_row_dict)\n",
    "df"
   ]
  },
  {
   "cell_type": "code",
   "execution_count": null,
   "metadata": {},
   "outputs": [],
   "source": [
    "# clean up a little bit. join the column names with '_' i.e. 'regular_gp'.\n",
    "\n",
    "# get the column names:\n",
    "df.columns"
   ]
  },
  {
   "cell_type": "code",
   "execution_count": null,
   "metadata": {},
   "outputs": [],
   "source": [
    "new_col_names_list = []\n",
    "for x in df.columns:\n",
    "    x = x.replace(' ','_')\n",
    "    x = x.replace('pm', '+/-')\n",
    "    new_col_names_list.append(x)\n",
    "    \n",
    "new_col_names_list"
   ]
  },
  {
   "cell_type": "code",
   "execution_count": null,
   "metadata": {},
   "outputs": [],
   "source": [
    "df.columns = new_col_names_list"
   ]
  },
  {
   "cell_type": "code",
   "execution_count": null,
   "metadata": {},
   "outputs": [],
   "source": [
    "df"
   ]
  },
  {
   "cell_type": "code",
   "execution_count": null,
   "metadata": {},
   "outputs": [],
   "source": []
  }
 ],
 "metadata": {
  "kernelspec": {
   "display_name": "Python 3",
   "language": "python",
   "name": "python3"
  },
  "language_info": {
   "codemirror_mode": {
    "name": "ipython",
    "version": 3
   },
   "file_extension": ".py",
   "mimetype": "text/x-python",
   "name": "python",
   "nbconvert_exporter": "python",
   "pygments_lexer": "ipython3",
   "version": "3.7.3"
  }
 },
 "nbformat": 4,
 "nbformat_minor": 2
}
