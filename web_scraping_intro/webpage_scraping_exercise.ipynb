{
 "cells": [
  {
   "cell_type": "code",
   "execution_count": 1,
   "metadata": {},
   "outputs": [],
   "source": [
    "import acquire_webpage as acquire\n",
    "import prep_table as prep\n",
    "import table_build as table"
   ]
  },
  {
   "cell_type": "code",
   "execution_count": 2,
   "metadata": {},
   "outputs": [],
   "source": [
    "import requests\n",
    "from bs4 import BeautifulSoup as bs\n",
    "import pandas as pd"
   ]
  },
  {
   "cell_type": "code",
   "execution_count": null,
   "metadata": {},
   "outputs": [],
   "source": [
    "url = 'https://keithgalli.github.io/web-scraping/webpage.html'\n"
   ]
  },
  {
   "cell_type": "code",
   "execution_count": null,
   "metadata": {},
   "outputs": [],
   "source": [
    "webpage = acquire.get_webpage(url)\n",
    "webpage"
   ]
  },
  {
   "cell_type": "code",
   "execution_count": null,
   "metadata": {},
   "outputs": [],
   "source": [
    "column_names_list = prep.create_column_names_list(webpage)\n",
    "column_names_list"
   ]
  },
  {
   "cell_type": "code",
   "execution_count": null,
   "metadata": {},
   "outputs": [],
   "source": [
    "table_rows_list = prep.create_table_rows_list(webpage)\n",
    "table_rows_list"
   ]
  },
  {
   "cell_type": "code",
   "execution_count": null,
   "metadata": {},
   "outputs": [],
   "source": [
    "seasons_list = prep.create_seasons_list(table_rows_list)"
   ]
  },
  {
   "cell_type": "code",
   "execution_count": null,
   "metadata": {
    "scrolled": true
   },
   "outputs": [],
   "source": [
    "(team_name_list, team_links_list) = prep.create_team_name_links_lists(table_rows_list)\n",
    "team_name_list, team_links_list"
   ]
  },
  {
   "cell_type": "code",
   "execution_count": null,
   "metadata": {},
   "outputs": [],
   "source": [
    "(league_list, league_link_list) = prep.create_league_name_link_lists(table_rows_list)\n",
    "league_list, league_link_list"
   ]
  },
  {
   "cell_type": "code",
   "execution_count": null,
   "metadata": {
    "scrolled": true
   },
   "outputs": [],
   "source": [
    "regular_stats_list = prep.create_regular_stats_list(table_rows_list)"
   ]
  },
  {
   "cell_type": "code",
   "execution_count": null,
   "metadata": {},
   "outputs": [],
   "source": [
    "separator_list = prep.create_postseason_stat_list('separator', table_rows_list)\n",
    "separator_list"
   ]
  },
  {
   "cell_type": "code",
   "execution_count": null,
   "metadata": {},
   "outputs": [],
   "source": [
    "postseason_link=prep.create_postseason_links(table_rows_list)\n",
    "postseason_link"
   ]
  },
  {
   "cell_type": "code",
   "execution_count": null,
   "metadata": {},
   "outputs": [],
   "source": [
    "post_stats_names_list = prep.create_post_stats_names_list(table_rows_list)\n",
    "post_stats_names_list"
   ]
  },
  {
   "cell_type": "code",
   "execution_count": null,
   "metadata": {},
   "outputs": [],
   "source": [
    "post_season_links_list = prep.create_postseason_links(table_rows_list)"
   ]
  },
  {
   "cell_type": "code",
   "execution_count": null,
   "metadata": {},
   "outputs": [],
   "source": [
    "prep.create_postseason_stats_dictionary(post_stats_names_list, table_rows_list)"
   ]
  },
  {
   "cell_type": "code",
   "execution_count": 3,
   "metadata": {},
   "outputs": [
    {
     "data": {
      "text/html": [
       "<div>\n",
       "<style scoped>\n",
       "    .dataframe tbody tr th:only-of-type {\n",
       "        vertical-align: middle;\n",
       "    }\n",
       "\n",
       "    .dataframe tbody tr th {\n",
       "        vertical-align: top;\n",
       "    }\n",
       "\n",
       "    .dataframe thead th {\n",
       "        text-align: right;\n",
       "    }\n",
       "</style>\n",
       "<table border=\"1\" class=\"dataframe\">\n",
       "  <thead>\n",
       "    <tr style=\"text-align: right;\">\n",
       "      <th></th>\n",
       "      <th>season</th>\n",
       "      <th>team</th>\n",
       "      <th>league</th>\n",
       "      <th>regular_gp</th>\n",
       "      <th>regular_g</th>\n",
       "      <th>regular_a</th>\n",
       "      <th>regular_tp</th>\n",
       "      <th>regular_pim</th>\n",
       "      <th>regular_+/-</th>\n",
       "      <th>separator</th>\n",
       "      <th>postseason</th>\n",
       "      <th>postseason_gp</th>\n",
       "      <th>postseason_g</th>\n",
       "      <th>postseason_a</th>\n",
       "      <th>postseason_tp</th>\n",
       "      <th>postseason_pim</th>\n",
       "      <th>postseason_+/-</th>\n",
       "      <th>league_link_list</th>\n",
       "      <th>post_season_links</th>\n",
       "    </tr>\n",
       "  </thead>\n",
       "  <tbody>\n",
       "    <tr>\n",
       "      <th>0</th>\n",
       "      <td>2014-15</td>\n",
       "      <td>MIT (Mass. Inst. of Tech.)</td>\n",
       "      <td>ACHA II</td>\n",
       "      <td>17</td>\n",
       "      <td>3</td>\n",
       "      <td>9</td>\n",
       "      <td>12</td>\n",
       "      <td>20</td>\n",
       "      <td></td>\n",
       "      <td>|</td>\n",
       "      <td></td>\n",
       "      <td></td>\n",
       "      <td></td>\n",
       "      <td></td>\n",
       "      <td></td>\n",
       "      <td></td>\n",
       "      <td></td>\n",
       "      <td>https://www.eliteprospects.com/league/acha-ii/...</td>\n",
       "      <td>https://www.eliteprospects.com/league/acha-ii/...</td>\n",
       "    </tr>\n",
       "    <tr>\n",
       "      <th>1</th>\n",
       "      <td>2015-16</td>\n",
       "      <td>MIT (Mass. Inst. of Tech.)</td>\n",
       "      <td>ACHA II</td>\n",
       "      <td>9</td>\n",
       "      <td>1</td>\n",
       "      <td>1</td>\n",
       "      <td>2</td>\n",
       "      <td>2</td>\n",
       "      <td></td>\n",
       "      <td>|</td>\n",
       "      <td></td>\n",
       "      <td></td>\n",
       "      <td></td>\n",
       "      <td></td>\n",
       "      <td></td>\n",
       "      <td></td>\n",
       "      <td></td>\n",
       "      <td>https://www.eliteprospects.com/league/acha-ii/...</td>\n",
       "      <td>https://www.eliteprospects.com/league/acha-ii/...</td>\n",
       "    </tr>\n",
       "    <tr>\n",
       "      <th>2</th>\n",
       "      <td>2016-17</td>\n",
       "      <td>MIT (Mass. Inst. of Tech.)</td>\n",
       "      <td>ACHA II</td>\n",
       "      <td>12</td>\n",
       "      <td>5</td>\n",
       "      <td>5</td>\n",
       "      <td>10</td>\n",
       "      <td>8</td>\n",
       "      <td>0</td>\n",
       "      <td>|</td>\n",
       "      <td></td>\n",
       "      <td></td>\n",
       "      <td></td>\n",
       "      <td></td>\n",
       "      <td></td>\n",
       "      <td></td>\n",
       "      <td></td>\n",
       "      <td>https://www.eliteprospects.com/league/acha-ii/...</td>\n",
       "      <td>no link</td>\n",
       "    </tr>\n",
       "    <tr>\n",
       "      <th>3</th>\n",
       "      <td>2017-18</td>\n",
       "      <td>Did not play</td>\n",
       "      <td></td>\n",
       "      <td></td>\n",
       "      <td></td>\n",
       "      <td></td>\n",
       "      <td></td>\n",
       "      <td></td>\n",
       "      <td></td>\n",
       "      <td>|</td>\n",
       "      <td></td>\n",
       "      <td></td>\n",
       "      <td></td>\n",
       "      <td></td>\n",
       "      <td></td>\n",
       "      <td></td>\n",
       "      <td></td>\n",
       "      <td>https://www.eliteprospects.com/stats</td>\n",
       "      <td>https://www.eliteprospects.com/stats</td>\n",
       "    </tr>\n",
       "    <tr>\n",
       "      <th>4</th>\n",
       "      <td>2018-19</td>\n",
       "      <td>MIT (Mass. Inst. of Tech.)</td>\n",
       "      <td>ACHA III</td>\n",
       "      <td>8</td>\n",
       "      <td>5</td>\n",
       "      <td>10</td>\n",
       "      <td>15</td>\n",
       "      <td>8</td>\n",
       "      <td></td>\n",
       "      <td>|</td>\n",
       "      <td></td>\n",
       "      <td></td>\n",
       "      <td></td>\n",
       "      <td></td>\n",
       "      <td></td>\n",
       "      <td></td>\n",
       "      <td></td>\n",
       "      <td>https://www.eliteprospects.com/league/acha-iii...</td>\n",
       "      <td>https://www.eliteprospects.com/league/acha-iii...</td>\n",
       "    </tr>\n",
       "  </tbody>\n",
       "</table>\n",
       "</div>"
      ],
      "text/plain": [
       "    season                        team    league regular_gp regular_g  \\\n",
       "0  2014-15  MIT (Mass. Inst. of Tech.)   ACHA II         17         3   \n",
       "1  2015-16  MIT (Mass. Inst. of Tech.)   ACHA II          9         1   \n",
       "2  2016-17  MIT (Mass. Inst. of Tech.)   ACHA II         12         5   \n",
       "3  2017-18                Did not play                                  \n",
       "4  2018-19  MIT (Mass. Inst. of Tech.)  ACHA III          8         5   \n",
       "\n",
       "  regular_a regular_tp regular_pim regular_+/- separator postseason  \\\n",
       "0         9         12          20                     |              \n",
       "1         1          2           2                     |              \n",
       "2         5         10           8           0         |              \n",
       "3                                                      |              \n",
       "4        10         15           8                     |              \n",
       "\n",
       "  postseason_gp postseason_g postseason_a postseason_tp postseason_pim  \\\n",
       "0                                                                        \n",
       "1                                                                        \n",
       "2                                                                        \n",
       "3                                                                        \n",
       "4                                                                        \n",
       "\n",
       "  postseason_+/-                                   league_link_list  \\\n",
       "0                 https://www.eliteprospects.com/league/acha-ii/...   \n",
       "1                 https://www.eliteprospects.com/league/acha-ii/...   \n",
       "2                 https://www.eliteprospects.com/league/acha-ii/...   \n",
       "3                              https://www.eliteprospects.com/stats   \n",
       "4                 https://www.eliteprospects.com/league/acha-iii...   \n",
       "\n",
       "                                   post_season_links  \n",
       "0  https://www.eliteprospects.com/league/acha-ii/...  \n",
       "1  https://www.eliteprospects.com/league/acha-ii/...  \n",
       "2                                            no link  \n",
       "3               https://www.eliteprospects.com/stats  \n",
       "4  https://www.eliteprospects.com/league/acha-iii...  "
      ]
     },
     "execution_count": 3,
     "metadata": {},
     "output_type": "execute_result"
    }
   ],
   "source": [
    "# testing table_build.py file functions\n",
    "df = table.create_webpage_stats_table()\n",
    "df"
   ]
  },
  {
   "cell_type": "code",
   "execution_count": null,
   "metadata": {},
   "outputs": [],
   "source": []
  }
 ],
 "metadata": {
  "kernelspec": {
   "display_name": "Python 3",
   "language": "python",
   "name": "python3"
  },
  "language_info": {
   "codemirror_mode": {
    "name": "ipython",
    "version": 3
   },
   "file_extension": ".py",
   "mimetype": "text/x-python",
   "name": "python",
   "nbconvert_exporter": "python",
   "pygments_lexer": "ipython3",
   "version": "3.7.3"
  }
 },
 "nbformat": 4,
 "nbformat_minor": 2
}
