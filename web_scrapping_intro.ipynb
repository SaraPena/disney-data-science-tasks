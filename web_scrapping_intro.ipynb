{
 "cells": [
  {
   "cell_type": "markdown",
   "metadata": {},
   "source": [
    "# Web scrapping intro"
   ]
  },
  {
   "cell_type": "code",
   "execution_count": 1,
   "metadata": {},
   "outputs": [],
   "source": [
    "# import necessary libraries\n",
    "import requests # pip install if not already\n",
    "from bs4 import BeautifulSoup as bs # pip install BeautifulSoup if not already installed\n"
   ]
  },
  {
   "cell_type": "code",
   "execution_count": 2,
   "metadata": {},
   "outputs": [
    {
     "data": {
      "text/plain": [
       "(<Response [200]>, requests.models.Response)"
      ]
     },
     "execution_count": 2,
     "metadata": {},
     "output_type": "execute_result"
    }
   ],
   "source": [
    "# Load our first page\n",
    "\n",
    "url = 'https://keithgalli.github.io/web-scraping/example.html'\n",
    "r = requests.get(url)\n",
    "\n",
    "#what does r look like?\n",
    "r, type(r)"
   ]
  },
  {
   "cell_type": "code",
   "execution_count": 3,
   "metadata": {},
   "outputs": [
    {
     "data": {
      "text/plain": [
       "'b\\'<html>\\\\n<head>\\\\n<title>HTML Example</title>\\\\n</head>\\\\n<body>\\\\n\\\\n<div align=\"middle\">\\\\n<h1>HTML Webpage</h1>\\\\n<p>Link to more interesting example: <a href=\"https://keithgalli.github.io/web-scraping/webpage.html\">keithgalli.github.io/web-scraping/webpage.html</a></p>\\\\n</div>\\\\n\\\\n<h2>A Header</h2>\\\\n<p><i>Some italicized text</i></p>\\\\n\\\\n<h2>Another header</h2>\\\\n<p id=\"paragraph-id\"><b>Some bold text</b></p>\\\\n\\\\n</body>\\\\n</html>\\\\n\\''"
      ]
     },
     "execution_count": 3,
     "metadata": {},
     "output_type": "execute_result"
    }
   ],
   "source": [
    "str(r.content)"
   ]
  },
  {
   "cell_type": "code",
   "execution_count": 4,
   "metadata": {},
   "outputs": [
    {
     "data": {
      "text/plain": [
       "<html>\n",
       "<head>\n",
       "<title>HTML Example</title>\n",
       "</head>\n",
       "<body>\n",
       "<div align=\"middle\">\n",
       "<h1>HTML Webpage</h1>\n",
       "<p>Link to more interesting example: <a href=\"https://keithgalli.github.io/web-scraping/webpage.html\">keithgalli.github.io/web-scraping/webpage.html</a></p>\n",
       "</div>\n",
       "<h2>A Header</h2>\n",
       "<p><i>Some italicized text</i></p>\n",
       "<h2>Another header</h2>\n",
       "<p id=\"paragraph-id\"><b>Some bold text</b></p>\n",
       "</body>\n",
       "</html>"
      ]
     },
     "execution_count": 4,
     "metadata": {},
     "output_type": "execute_result"
    }
   ],
   "source": [
    "# convert r to a beautiful soup object\n",
    "soup = bs(r.content)\n",
    "soup"
   ]
  },
  {
   "cell_type": "code",
   "execution_count": 5,
   "metadata": {},
   "outputs": [
    {
     "name": "stdout",
     "output_type": "stream",
     "text": [
      "<html>\n",
      " <head>\n",
      "  <title>\n",
      "   HTML Example\n",
      "  </title>\n",
      " </head>\n",
      " <body>\n",
      "  <div align=\"middle\">\n",
      "   <h1>\n",
      "    HTML Webpage\n",
      "   </h1>\n",
      "   <p>\n",
      "    Link to more interesting example:\n",
      "    <a href=\"https://keithgalli.github.io/web-scraping/webpage.html\">\n",
      "     keithgalli.github.io/web-scraping/webpage.html\n",
      "    </a>\n",
      "   </p>\n",
      "  </div>\n",
      "  <h2>\n",
      "   A Header\n",
      "  </h2>\n",
      "  <p>\n",
      "   <i>\n",
      "    Some italicized text\n",
      "   </i>\n",
      "  </p>\n",
      "  <h2>\n",
      "   Another header\n",
      "  </h2>\n",
      "  <p id=\"paragraph-id\">\n",
      "   <b>\n",
      "    Some bold text\n",
      "   </b>\n",
      "  </p>\n",
      " </body>\n",
      "</html>\n",
      "\n"
     ]
    }
   ],
   "source": [
    "print(soup.prettify())"
   ]
  },
  {
   "cell_type": "code",
   "execution_count": 6,
   "metadata": {},
   "outputs": [
    {
     "data": {
      "text/plain": [
       "(<h2>A Header</h2>, [<h2>A Header</h2>, <h2>Another header</h2>])"
      ]
     },
     "execution_count": 6,
     "metadata": {},
     "output_type": "execute_result"
    }
   ],
   "source": [
    "# start scraping!\n",
    "# start with find and find_all\n",
    "\n",
    "soup.find('h2'), soup.find_all('h2')"
   ]
  },
  {
   "cell_type": "code",
   "execution_count": 7,
   "metadata": {
    "scrolled": true
   },
   "outputs": [
    {
     "data": {
      "text/plain": [
       "(<h2>A Header</h2>, [<h2>A Header</h2>, <h2>Another header</h2>])"
      ]
     },
     "execution_count": 7,
     "metadata": {},
     "output_type": "execute_result"
    }
   ],
   "source": [
    "# storing as variables\n",
    "first_header=soup.find('h2')\n",
    "all_headers=soup.find_all('h2')\n",
    "first_header, all_headers"
   ]
  },
  {
   "cell_type": "markdown",
   "metadata": {},
   "source": [
    ".find will only find the first occurence of a tag \\\n",
    ".find_all will find all occurences of the taga and place each item in a list"
   ]
  },
  {
   "cell_type": "code",
   "execution_count": 8,
   "metadata": {},
   "outputs": [
    {
     "data": {
      "text/plain": [
       "<h1>HTML Webpage</h1>"
      ]
     },
     "execution_count": 8,
     "metadata": {},
     "output_type": "execute_result"
    }
   ],
   "source": [
    "# pass in a list of elements to look for\n",
    "first_header=soup.find(['h1','h2'])\n",
    "first_header"
   ]
  },
  {
   "cell_type": "markdown",
   "metadata": {},
   "source": [
    "order does not matter when you pass a list into .find it will still return the first tag in the list it finds."
   ]
  },
  {
   "cell_type": "code",
   "execution_count": 9,
   "metadata": {},
   "outputs": [
    {
     "data": {
      "text/plain": [
       "[<h1>HTML Webpage</h1>, <h2>A Header</h2>, <h2>Another header</h2>]"
      ]
     },
     "execution_count": 9,
     "metadata": {},
     "output_type": "execute_result"
    }
   ],
   "source": [
    "headers=soup.find_all(['h1','h2'])\n",
    "headers"
   ]
  },
  {
   "cell_type": "code",
   "execution_count": 10,
   "metadata": {},
   "outputs": [
    {
     "data": {
      "text/plain": [
       "[<p>Link to more interesting example: <a href=\"https://keithgalli.github.io/web-scraping/webpage.html\">keithgalli.github.io/web-scraping/webpage.html</a></p>,\n",
       " <p><i>Some italicized text</i></p>,\n",
       " <p id=\"paragraph-id\"><b>Some bold text</b></p>]"
      ]
     },
     "execution_count": 10,
     "metadata": {},
     "output_type": "execute_result"
    }
   ],
   "source": [
    "# you can pass in attributes to the find/find_all functions.\n",
    "paragraph=soup.find_all(\"p\")\n",
    "paragraph"
   ]
  },
  {
   "cell_type": "code",
   "execution_count": 11,
   "metadata": {},
   "outputs": [
    {
     "data": {
      "text/plain": [
       "[<p id=\"paragraph-id\"><b>Some bold text</b></p>]"
      ]
     },
     "execution_count": 11,
     "metadata": {},
     "output_type": "execute_result"
    }
   ],
   "source": [
    "# say we want to find the paragraph that has the attribute id='paragraph-id', use the parameter attr={}\n",
    "# to find this attribute with the paragraph tag.\n",
    "\n",
    "soup.find_all(\"p\", attrs={\"id\": \"paragraph-id\"} )"
   ]
  },
  {
   "cell_type": "code",
   "execution_count": 12,
   "metadata": {},
   "outputs": [
    {
     "data": {
      "text/plain": [
       "<body>\n",
       "<div align=\"middle\">\n",
       "<h1>HTML Webpage</h1>\n",
       "<p>Link to more interesting example: <a href=\"https://keithgalli.github.io/web-scraping/webpage.html\">keithgalli.github.io/web-scraping/webpage.html</a></p>\n",
       "</div>\n",
       "<h2>A Header</h2>\n",
       "<p><i>Some italicized text</i></p>\n",
       "<h2>Another header</h2>\n",
       "<p id=\"paragraph-id\"><b>Some bold text</b></p>\n",
       "</body>"
      ]
     },
     "execution_count": 12,
     "metadata": {},
     "output_type": "execute_result"
    }
   ],
   "source": [
    "# you can nest find and find all calls.\n",
    "body = soup.find('body')\n",
    "body"
   ]
  },
  {
   "cell_type": "markdown",
   "metadata": {},
   "source": [
    "now lets say you want to find a 'div' tag, you can nest this with the body object just created"
   ]
  },
  {
   "cell_type": "code",
   "execution_count": 13,
   "metadata": {},
   "outputs": [
    {
     "data": {
      "text/plain": [
       "<div align=\"middle\">\n",
       "<h1>HTML Webpage</h1>\n",
       "<p>Link to more interesting example: <a href=\"https://keithgalli.github.io/web-scraping/webpage.html\">keithgalli.github.io/web-scraping/webpage.html</a></p>\n",
       "</div>"
      ]
     },
     "execution_count": 13,
     "metadata": {},
     "output_type": "execute_result"
    }
   ],
   "source": [
    "div =body.find('div')\n",
    "div"
   ]
  },
  {
   "cell_type": "markdown",
   "metadata": {},
   "source": [
    "now lets do the same process for the header"
   ]
  },
  {
   "cell_type": "code",
   "execution_count": 14,
   "metadata": {},
   "outputs": [
    {
     "data": {
      "text/plain": [
       "<h1>HTML Webpage</h1>"
      ]
     },
     "execution_count": 14,
     "metadata": {},
     "output_type": "execute_result"
    }
   ],
   "source": [
    "header=div.find('h1')\n",
    "header"
   ]
  },
  {
   "cell_type": "code",
   "execution_count": 15,
   "metadata": {},
   "outputs": [
    {
     "name": "stdout",
     "output_type": "stream",
     "text": [
      "<body>\n",
      " <div align=\"middle\">\n",
      "  <h1>\n",
      "   HTML Webpage\n",
      "  </h1>\n",
      "  <p>\n",
      "   Link to more interesting example:\n",
      "   <a href=\"https://keithgalli.github.io/web-scraping/webpage.html\">\n",
      "    keithgalli.github.io/web-scraping/webpage.html\n",
      "   </a>\n",
      "  </p>\n",
      " </div>\n",
      " <h2>\n",
      "  A Header\n",
      " </h2>\n",
      " <p>\n",
      "  <i>\n",
      "   Some italicized text\n",
      "  </i>\n",
      " </p>\n",
      " <h2>\n",
      "  Another header\n",
      " </h2>\n",
      " <p id=\"paragraph-id\">\n",
      "  <b>\n",
      "   Some bold text\n",
      "  </b>\n",
      " </p>\n",
      "</body>\n",
      "\n"
     ]
    }
   ],
   "source": [
    "# we can search for specific strings in find_all calls.\n",
    "# say we wanted to find paragraphs that contained the word 'some'\n",
    "\n",
    "print(body.prettify())"
   ]
  },
  {
   "cell_type": "code",
   "execution_count": 16,
   "metadata": {},
   "outputs": [
    {
     "data": {
      "text/plain": [
       "[]"
      ]
     },
     "execution_count": 16,
     "metadata": {},
     "output_type": "execute_result"
    }
   ],
   "source": [
    "some_paragraphs=body.find_all('p', string='Some')\n",
    "some_paragraphs"
   ]
  },
  {
   "cell_type": "markdown",
   "metadata": {},
   "source": [
    "oh no! oh no! Oh no no no no!"
   ]
  },
  {
   "cell_type": "code",
   "execution_count": 17,
   "metadata": {},
   "outputs": [
    {
     "data": {
      "text/plain": [
       "[<p id=\"paragraph-id\"><b>Some bold text</b></p>]"
      ]
     },
     "execution_count": 17,
     "metadata": {},
     "output_type": "execute_result"
    }
   ],
   "source": [
    "# it doesn't quite work...what if we put in 'Some bold text'??\n",
    "some_paragraphs=body.find_all('p', string='Some bold text')\n",
    "some_paragraphs"
   ]
  },
  {
   "cell_type": "code",
   "execution_count": 18,
   "metadata": {},
   "outputs": [
    {
     "data": {
      "text/plain": [
       "[<p><i>Some italicized text</i></p>,\n",
       " <p id=\"paragraph-id\"><b>Some bold text</b></p>]"
      ]
     },
     "execution_count": 18,
     "metadata": {},
     "output_type": "execute_result"
    }
   ],
   "source": [
    "# this situation is not ideal.\n",
    "# let's leverage our friend regex :)\n",
    "\n",
    "import re\n",
    "\n",
    "some_paragraphs=body.find_all('p', string=re.compile('Some'))\n",
    "some_paragraphs"
   ]
  },
  {
   "cell_type": "code",
   "execution_count": 19,
   "metadata": {},
   "outputs": [
    {
     "data": {
      "text/plain": [
       "[<h2>Another header</h2>]"
      ]
     },
     "execution_count": 19,
     "metadata": {},
     "output_type": "execute_result"
    }
   ],
   "source": [
    "# another example find all headers that have the word \"header\" in them\n",
    "\n",
    "headers=body.find_all('h2', string=re.compile('header'))\n",
    "headers"
   ]
  },
  {
   "cell_type": "markdown",
   "metadata": {},
   "source": [
    "only finds one result because regex is looking for 'header'. we can change it by giving it a different pattern to capture the capital \"H\", string=re.compile('(H|h)eader')"
   ]
  },
  {
   "cell_type": "code",
   "execution_count": 20,
   "metadata": {},
   "outputs": [
    {
     "data": {
      "text/plain": [
       "[<h2>A Header</h2>, <h2>Another header</h2>]"
      ]
     },
     "execution_count": 20,
     "metadata": {},
     "output_type": "execute_result"
    }
   ],
   "source": [
    "headers=body.find_all('h2', string=re.compile('(H|h)eader'))\n",
    "headers"
   ]
  },
  {
   "cell_type": "markdown",
   "metadata": {},
   "source": [
    "### select (CSS selector)"
   ]
  },
  {
   "cell_type": "code",
   "execution_count": 21,
   "metadata": {},
   "outputs": [
    {
     "name": "stdout",
     "output_type": "stream",
     "text": [
      "<body>\n",
      " <div align=\"middle\">\n",
      "  <h1>\n",
      "   HTML Webpage\n",
      "  </h1>\n",
      "  <p>\n",
      "   Link to more interesting example:\n",
      "   <a href=\"https://keithgalli.github.io/web-scraping/webpage.html\">\n",
      "    keithgalli.github.io/web-scraping/webpage.html\n",
      "   </a>\n",
      "  </p>\n",
      " </div>\n",
      " <h2>\n",
      "  A Header\n",
      " </h2>\n",
      " <p>\n",
      "  <i>\n",
      "   Some italicized text\n",
      "  </i>\n",
      " </p>\n",
      " <h2>\n",
      "  Another header\n",
      " </h2>\n",
      " <p id=\"paragraph-id\">\n",
      "  <b>\n",
      "   Some bold text\n",
      "  </b>\n",
      " </p>\n",
      "</body>\n",
      "\n"
     ]
    }
   ],
   "source": [
    "print(soup.body.prettify())"
   ]
  },
  {
   "cell_type": "code",
   "execution_count": 22,
   "metadata": {},
   "outputs": [
    {
     "data": {
      "text/plain": [
       "[<p>Link to more interesting example: <a href=\"https://keithgalli.github.io/web-scraping/webpage.html\">keithgalli.github.io/web-scraping/webpage.html</a></p>,\n",
       " <p><i>Some italicized text</i></p>,\n",
       " <p id=\"paragraph-id\"><b>Some bold text</b></p>]"
      ]
     },
     "execution_count": 22,
     "metadata": {},
     "output_type": "execute_result"
    }
   ],
   "source": [
    "soup.select('p')"
   ]
  },
  {
   "cell_type": "markdown",
   "metadata": {},
   "source": [
    "looks the same as find_all. Let's try finding all paragraph tags inside of div."
   ]
  },
  {
   "cell_type": "code",
   "execution_count": 23,
   "metadata": {},
   "outputs": [
    {
     "data": {
      "text/plain": [
       "[<p>Link to more interesting example: <a href=\"https://keithgalli.github.io/web-scraping/webpage.html\">keithgalli.github.io/web-scraping/webpage.html</a></p>]"
      ]
     },
     "execution_count": 23,
     "metadata": {},
     "output_type": "execute_result"
    }
   ],
   "source": [
    "soup.select('div p')"
   ]
  },
  {
   "cell_type": "code",
   "execution_count": 24,
   "metadata": {},
   "outputs": [
    {
     "data": {
      "text/plain": [
       "[<p><i>Some italicized text</i></p>,\n",
       " <p id=\"paragraph-id\"><b>Some bold text</b></p>]"
      ]
     },
     "execution_count": 24,
     "metadata": {},
     "output_type": "execute_result"
    }
   ],
   "source": [
    "# select all the paragraphs that are also preceeded by a header.\n",
    "soup.select('h2 ~ p')\n"
   ]
  },
  {
   "cell_type": "code",
   "execution_count": 25,
   "metadata": {},
   "outputs": [],
   "source": [
    "# let's do some more of this. It's useful to grab elements with specific id's"
   ]
  },
  {
   "cell_type": "code",
   "execution_count": 26,
   "metadata": {},
   "outputs": [
    {
     "data": {
      "text/plain": [
       "[<b>Some bold text</b>]"
      ]
     },
     "execution_count": 26,
     "metadata": {},
     "output_type": "execute_result"
    }
   ],
   "source": [
    "soup.select('p#paragraph-id b')"
   ]
  },
  {
   "cell_type": "code",
   "execution_count": 27,
   "metadata": {},
   "outputs": [
    {
     "data": {
      "text/plain": [
       "[<p><i>Some italicized text</i></p>,\n",
       " <p id=\"paragraph-id\"><b>Some bold text</b></p>]"
      ]
     },
     "execution_count": 27,
     "metadata": {},
     "output_type": "execute_result"
    }
   ],
   "source": [
    "paragraphs=soup.select('body > p')\n",
    "paragraphs"
   ]
  },
  {
   "cell_type": "code",
   "execution_count": 28,
   "metadata": {},
   "outputs": [
    {
     "data": {
      "text/plain": [
       "list"
      ]
     },
     "execution_count": 28,
     "metadata": {},
     "output_type": "execute_result"
    }
   ],
   "source": [
    "# we can loop through and make select calls with these objects that we just made. Let's take paragraphs for example\n",
    "#first look at the type(paragraphs)\n",
    "\n",
    "type(paragraphs)"
   ]
  },
  {
   "cell_type": "code",
   "execution_count": 29,
   "metadata": {},
   "outputs": [
    {
     "data": {
      "text/plain": [
       "bs4.element.Tag"
      ]
     },
     "execution_count": 29,
     "metadata": {},
     "output_type": "execute_result"
    }
   ],
   "source": [
    "# it's a list so we can loop. Let's inspect the elements in the list for their types\n",
    "type(paragraphs[0])"
   ]
  },
  {
   "cell_type": "markdown",
   "metadata": {},
   "source": [
    "They are beautiful soup objects so we can use the select and find_all calls. Let's do an example of finding the elements with the id tag."
   ]
  },
  {
   "cell_type": "code",
   "execution_count": 32,
   "metadata": {},
   "outputs": [
    {
     "data": {
      "text/plain": [
       "[<p><i>Some italicized text</i></p>,\n",
       " <p id=\"paragraph-id\"><b>Some bold text</b></p>]"
      ]
     },
     "execution_count": 32,
     "metadata": {},
     "output_type": "execute_result"
    }
   ],
   "source": [
    "paragraphs"
   ]
  },
  {
   "cell_type": "code",
   "execution_count": 30,
   "metadata": {},
   "outputs": [
    {
     "data": {
      "text/plain": [
       "[[<i>Some italicized text</i>], []]"
      ]
     },
     "execution_count": 30,
     "metadata": {},
     "output_type": "execute_result"
    }
   ],
   "source": [
    "paragraphs_i=[]\n",
    "[paragraphs_i.append(x.select('i')) for x in paragraphs]\n",
    "paragraphs_i"
   ]
  },
  {
   "cell_type": "code",
   "execution_count": 33,
   "metadata": {},
   "outputs": [
    {
     "data": {
      "text/plain": [
       "[<div align=\"middle\">\n",
       " <h1>HTML Webpage</h1>\n",
       " <p>Link to more interesting example: <a href=\"https://keithgalli.github.io/web-scraping/webpage.html\">keithgalli.github.io/web-scraping/webpage.html</a></p>\n",
       " </div>]"
      ]
     },
     "execution_count": 33,
     "metadata": {},
     "output_type": "execute_result"
    }
   ],
   "source": [
    "# Grab an element with a specific property\n",
    "soup.select(\"[align='middle']\")"
   ]
  },
  {
   "cell_type": "markdown",
   "metadata": {},
   "source": [
    "# Get different properties of the HTML"
   ]
  },
  {
   "cell_type": "code",
   "execution_count": 34,
   "metadata": {},
   "outputs": [
    {
     "data": {
      "text/plain": [
       "(<h2>A Header</h2>, 'A Header')"
      ]
     },
     "execution_count": 34,
     "metadata": {},
     "output_type": "execute_result"
    }
   ],
   "source": [
    "# want to grab only the string from an element, use the .string property\n",
    "header = soup.find('h2')\n",
    "header, header.string"
   ]
  },
  {
   "cell_type": "code",
   "execution_count": 35,
   "metadata": {},
   "outputs": [
    {
     "name": "stdout",
     "output_type": "stream",
     "text": [
      "<div align=\"middle\">\n",
      " <h1>\n",
      "  HTML Webpage\n",
      " </h1>\n",
      " <p>\n",
      "  Link to more interesting example:\n",
      "  <a href=\"https://keithgalli.github.io/web-scraping/webpage.html\">\n",
      "   keithgalli.github.io/web-scraping/webpage.html\n",
      "  </a>\n",
      " </p>\n",
      "</div>\n",
      "\n",
      "None\n"
     ]
    }
   ],
   "source": [
    "# let's try with div.\n",
    "div = soup.find('div')\n",
    "print(div.prettify())\n",
    "print(div.string)"
   ]
  },
  {
   "cell_type": "markdown",
   "metadata": {},
   "source": [
    "We got an answer of None. This is because there are children elements inside of the div, so the .string property is not sure which text to grab."
   ]
  },
  {
   "cell_type": "code",
   "execution_count": 36,
   "metadata": {},
   "outputs": [
    {
     "name": "stdout",
     "output_type": "stream",
     "text": [
      "\n",
      "HTML Webpage\n",
      "Link to more interesting example: keithgalli.github.io/web-scraping/webpage.html\n",
      "\n"
     ]
    },
    {
     "data": {
      "text/plain": [
       "'\\nHTML Webpage\\nLink to more interesting example: keithgalli.github.io/web-scraping/webpage.html\\n'"
      ]
     },
     "execution_count": 36,
     "metadata": {},
     "output_type": "execute_result"
    }
   ],
   "source": [
    "# Let's try with .get_text()\n",
    "print(div.get_text())\n",
    "div.get_text()"
   ]
  },
  {
   "cell_type": "code",
   "execution_count": 37,
   "metadata": {},
   "outputs": [
    {
     "data": {
      "text/plain": [
       "<a href=\"https://keithgalli.github.io/web-scraping/webpage.html\">keithgalli.github.io/web-scraping/webpage.html</a>"
      ]
     },
     "execution_count": 37,
     "metadata": {},
     "output_type": "execute_result"
    }
   ],
   "source": [
    "# Get a specific property from an element.\n",
    "# Let's get the href link tag\n",
    "link = soup.find('a')\n",
    "link"
   ]
  },
  {
   "cell_type": "code",
   "execution_count": 38,
   "metadata": {},
   "outputs": [
    {
     "data": {
      "text/plain": [
       "'https://keithgalli.github.io/web-scraping/webpage.html'"
      ]
     },
     "execution_count": 38,
     "metadata": {},
     "output_type": "execute_result"
    }
   ],
   "source": [
    "link['href']"
   ]
  },
  {
   "cell_type": "code",
   "execution_count": 39,
   "metadata": {},
   "outputs": [
    {
     "data": {
      "text/plain": [
       "[<p id=\"paragraph-id\"><b>Some bold text</b></p>]"
      ]
     },
     "execution_count": 39,
     "metadata": {},
     "output_type": "execute_result"
    }
   ],
   "source": [
    "# try to get the paragraph id tag.\n",
    "paragraphs = soup.select('p#paragraph-id')\n",
    "paragraphs"
   ]
  },
  {
   "cell_type": "code",
   "execution_count": 40,
   "metadata": {},
   "outputs": [
    {
     "data": {
      "text/plain": [
       "list"
      ]
     },
     "execution_count": 40,
     "metadata": {},
     "output_type": "execute_result"
    }
   ],
   "source": [
    "type(paragraphs)"
   ]
  },
  {
   "cell_type": "code",
   "execution_count": 41,
   "metadata": {},
   "outputs": [
    {
     "data": {
      "text/plain": [
       "(<p id=\"paragraph-id\"><b>Some bold text</b></p>, bs4.element.Tag)"
      ]
     },
     "execution_count": 41,
     "metadata": {},
     "output_type": "execute_result"
    }
   ],
   "source": [
    "paragraphs[0], type(paragraphs[0])"
   ]
  },
  {
   "cell_type": "code",
   "execution_count": 42,
   "metadata": {},
   "outputs": [
    {
     "data": {
      "text/plain": [
       "'paragraph-id'"
      ]
     },
     "execution_count": 42,
     "metadata": {},
     "output_type": "execute_result"
    }
   ],
   "source": [
    "paragraphs[0]['id']"
   ]
  },
  {
   "cell_type": "markdown",
   "metadata": {},
   "source": [
    "# Code Navigation"
   ]
  },
  {
   "cell_type": "code",
   "execution_count": 44,
   "metadata": {},
   "outputs": [
    {
     "data": {
      "text/plain": [
       "<html>\n",
       "<head>\n",
       "<title>HTML Example</title>\n",
       "</head>\n",
       "<body>\n",
       "<div align=\"middle\">\n",
       "<h1>HTML Webpage</h1>\n",
       "<p>Link to more interesting example: <a href=\"https://keithgalli.github.io/web-scraping/webpage.html\">keithgalli.github.io/web-scraping/webpage.html</a></p>\n",
       "</div>\n",
       "<h2>A Header</h2>\n",
       "<p><i>Some italicized text</i></p>\n",
       "<h2>Another header</h2>\n",
       "<p id=\"paragraph-id\"><b>Some bold text</b></p>\n",
       "</body>\n",
       "</html>"
      ]
     },
     "execution_count": 44,
     "metadata": {},
     "output_type": "execute_result"
    }
   ],
   "source": [
    "# the beautiful soup object\n",
    "soup"
   ]
  },
  {
   "cell_type": "code",
   "execution_count": 45,
   "metadata": {},
   "outputs": [
    {
     "data": {
      "text/plain": [
       "<body>\n",
       "<div align=\"middle\">\n",
       "<h1>HTML Webpage</h1>\n",
       "<p>Link to more interesting example: <a href=\"https://keithgalli.github.io/web-scraping/webpage.html\">keithgalli.github.io/web-scraping/webpage.html</a></p>\n",
       "</div>\n",
       "<h2>A Header</h2>\n",
       "<p><i>Some italicized text</i></p>\n",
       "<h2>Another header</h2>\n",
       "<p id=\"paragraph-id\"><b>Some bold text</b></p>\n",
       "</body>"
      ]
     },
     "execution_count": 45,
     "metadata": {},
     "output_type": "execute_result"
    }
   ],
   "source": [
    "# the <body> portion and all it contains of beautiful soup object\n",
    "soup.body"
   ]
  },
  {
   "cell_type": "code",
   "execution_count": 47,
   "metadata": {},
   "outputs": [
    {
     "data": {
      "text/plain": [
       "<div align=\"middle\">\n",
       "<h1>HTML Webpage</h1>\n",
       "<p>Link to more interesting example: <a href=\"https://keithgalli.github.io/web-scraping/webpage.html\">keithgalli.github.io/web-scraping/webpage.html</a></p>\n",
       "</div>"
      ]
     },
     "execution_count": 47,
     "metadata": {},
     "output_type": "execute_result"
    }
   ],
   "source": [
    "soup.div"
   ]
  },
  {
   "cell_type": "code",
   "execution_count": 48,
   "metadata": {},
   "outputs": [
    {
     "data": {
      "text/plain": [
       "<h1>HTML Webpage</h1>"
      ]
     },
     "execution_count": 48,
     "metadata": {},
     "output_type": "execute_result"
    }
   ],
   "source": [
    "soup.h1"
   ]
  },
  {
   "cell_type": "code",
   "execution_count": 49,
   "metadata": {},
   "outputs": [
    {
     "data": {
      "text/plain": [
       "'HTML Webpage'"
      ]
     },
     "execution_count": 49,
     "metadata": {},
     "output_type": "execute_result"
    }
   ],
   "source": [
    "soup.h1.string"
   ]
  },
  {
   "cell_type": "code",
   "execution_count": 50,
   "metadata": {},
   "outputs": [
    {
     "name": "stdout",
     "output_type": "stream",
     "text": [
      "<body>\n",
      " <div align=\"middle\">\n",
      "  <h1>\n",
      "   HTML Webpage\n",
      "  </h1>\n",
      "  <p>\n",
      "   Link to more interesting example:\n",
      "   <a href=\"https://keithgalli.github.io/web-scraping/webpage.html\">\n",
      "    keithgalli.github.io/web-scraping/webpage.html\n",
      "   </a>\n",
      "  </p>\n",
      " </div>\n",
      " <h2>\n",
      "  A Header\n",
      " </h2>\n",
      " <p>\n",
      "  <i>\n",
      "   Some italicized text\n",
      "  </i>\n",
      " </p>\n",
      " <h2>\n",
      "  Another header\n",
      " </h2>\n",
      " <p id=\"paragraph-id\">\n",
      "  <b>\n",
      "   Some bold text\n",
      "  </b>\n",
      " </p>\n",
      "</body>\n",
      "\n"
     ]
    }
   ],
   "source": [
    "# know the terms parent, sibling, child\n",
    "# start with a pretty print of the body.\n",
    "\n",
    "print(soup.body.prettify())"
   ]
  },
  {
   "cell_type": "code",
   "execution_count": 51,
   "metadata": {},
   "outputs": [
    {
     "data": {
      "text/plain": [
       "<p>Link to more interesting example: <a href=\"https://keithgalli.github.io/web-scraping/webpage.html\">keithgalli.github.io/web-scraping/webpage.html</a></p>"
      ]
     },
     "execution_count": 51,
     "metadata": {},
     "output_type": "execute_result"
    }
   ],
   "source": [
    "soup.p"
   ]
  },
  {
   "cell_type": "markdown",
   "metadata": {},
   "source": [
    "The body has a nested structure. The body is the parent. Everything nested inside the body is the children. If elements are on the same level they are considered siblings like `<div>` and `<h2>`."
   ]
  },
  {
   "cell_type": "code",
   "execution_count": 53,
   "metadata": {},
   "outputs": [
    {
     "data": {
      "text/plain": [
       "<div align=\"middle\">\n",
       "<h1>HTML Webpage</h1>\n",
       "<p>Link to more interesting example: <a href=\"https://keithgalli.github.io/web-scraping/webpage.html\">keithgalli.github.io/web-scraping/webpage.html</a></p>\n",
       "</div>"
      ]
     },
     "execution_count": 53,
     "metadata": {},
     "output_type": "execute_result"
    }
   ],
   "source": [
    "# start with looking at div\n",
    "div=soup.find('div')\n",
    "# looks like there are 4 elements that are siblings of the div\n",
    "div"
   ]
  },
  {
   "cell_type": "code",
   "execution_count": 54,
   "metadata": {},
   "outputs": [
    {
     "data": {
      "text/plain": [
       "[<h2>A Header</h2>,\n",
       " <p><i>Some italicized text</i></p>,\n",
       " <h2>Another header</h2>,\n",
       " <p id=\"paragraph-id\"><b>Some bold text</b></p>]"
      ]
     },
     "execution_count": 54,
     "metadata": {},
     "output_type": "execute_result"
    }
   ],
   "source": [
    "div.find_next_siblings()"
   ]
  },
  {
   "cell_type": "code",
   "execution_count": 55,
   "metadata": {},
   "outputs": [
    {
     "data": {
      "text/plain": [
       "4"
      ]
     },
     "execution_count": 55,
     "metadata": {},
     "output_type": "execute_result"
    }
   ],
   "source": [
    "len(div.find_next_siblings())"
   ]
  },
  {
   "cell_type": "markdown",
   "metadata": {},
   "source": [
    "# Exercises"
   ]
  },
  {
   "cell_type": "code",
   "execution_count": 56,
   "metadata": {},
   "outputs": [
    {
     "data": {
      "text/plain": [
       "<Response [200]>"
      ]
     },
     "execution_count": 56,
     "metadata": {},
     "output_type": "execute_result"
    }
   ],
   "source": [
    "# Grab all the social link from the webpage.\n",
    "# webpage: https://keithgalli.github.io/web-scraping/webpage.html\n",
    "\n",
    "url = 'https://keithgalli.github.io/web-scraping/webpage.html'\n",
    "request=requests.get(url)\n",
    "request"
   ]
  },
  {
   "cell_type": "code",
   "execution_count": 57,
   "metadata": {},
   "outputs": [
    {
     "data": {
      "text/plain": [
       "b'<head>\\n  <title>Keith Galli\\'s Page</title>\\n  <style>\\n  table {\\n    border-collapse: collapse;\\n  }\\n  th {\\n    padding:5px;\\n  }\\n  td {\\n    border: 1px solid #ddd;\\n    padding: 5px;\\n  }\\n  tr:nth-child(even) {\\n    background-color: #f2f2f2;\\n  }\\n  th {\\n    padding-top: 12px;\\n    padding-bottom: 12px;\\n    text-align: left;\\n    background-color: #add8e6;\\n    color: black;\\n  }\\n  .block {\\n  width: 100px;\\n  /*float: left;*/\\n    display: inline-block;\\n    zoom: 1;\\n  }\\n  .column {\\n  float: left;\\n  height: 200px;\\n  /*width: 33.33%;*/\\n  padding: 5px;\\n  }\\n\\n  .row::after {\\n    content: \"\";\\n    clear: both;\\n    display: table;\\n  }\\n</style>\\n</head>\\n<body>\\n  <h1>Welcome to my page!</h1>\\n  <img src=\"./images/selfie1.jpg\" width=\"300px\">\\n  <h2>About me</h2>\\n  <p>Hi, my name is Keith and I am a YouTuber who focuses on content related to programming, data science, and machine learning!</p>\\n  <p>Here is a link to my channel: <a href=\"https://www.youtube.com/kgmit\">youtube.com/kgmit</a></p>\\n  <p>I grew up in the great state of New Hampshire here in the USA. From an early age I always loved math. Around my senior year of high school, my brother first introduced me to programming. I found it a creative way to apply the same type of logical thinking skills that I enjoyed with math. This influenced me to study computer science in college and ultimately create a YouTube channel to share some things that I have learned along the way.</p>\\n  <h3>Hobbies</h3>\\n  <p>Believe it or not, I don\\'t code 24/7. I love doing all sorts of active things. I like to play ice hockey & table tennis as well as run, hike, skateboard, and snowboard. In addition to sports, I am a board game enthusiast. The two that I\\'ve been playing the most recently are <i>Settlers of Catan</i> and <i>Othello</i>.</p>\\n  <h3>Fun Facts</h3>\\n  <ul class=\"fun-facts\">\\n    <li>Owned my dream car in high school <a href=\"#footer\"><sup>1</sup></a></li>\\n    <li>Middle name is Ronald</li>\\n    <li>Never had been on a plane until college</li>\\n    <li>Dunkin Donuts coffee is better than Starbucks</li>\\n    <li>A favorite book series of mine is <i>Ender\\'s Game</i></li>\\n    <li>Current video game of choice is <i>Rocket League</i></li>\\n    <li>The band that I\\'ve seen the most times live is the <i>Zac Brown Band</i></li>\\n  </ul>\\n  <h2>Social Media</h2>\\n  I encourage you to check out my content on all social media platforms\\n  <br/>\\n  <ul class=\"socials\">\\n    <li class=\"social instagram\"><b>Instagram: </b><a href=\"https://www.instagram.com/keithgalli/\">https://www.instagram.com/keithgalli/</a></li>\\n    <li class=\"social twitter\"><b>Twitter: </b><a href=\"https://twitter.com/keithgalli\">https://twitter.com/keithgalli</a></li>\\n    <li class=\"social linkedin\"><b>LinkedIn: </b><a href=\"https://www.linkedin.com/in/keithgalli/\">https://www.linkedin.com/in/keithgalli/</a></li>\\n    <li class=\"social tiktok\"><b>TikTok: </b><a href=\"https://www.tiktok.com/@keithgalli\">https://www.tiktok.com/@keithgalli</a></li>\\n  </ul>\\n  <h2>Photos</h2>\\n  Here are a few photos from a trip to italy I took last year\\n  <div class=\"row\">\\n    <div class=\"column\">\\n      <img src=\"images/italy/lake_como.jpg\" alt=\"Lake Como\" style=\"height:100%\">\\n    </div>\\n    <div class=\"column\">\\n      <img src=\"images/italy/pontevecchio.jpg\" alt=\"Pontevecchio, Florence\" style=\"height:100%\">\\n    </div>\\n    <div class=\"column\">\\n      <img src=\"images/italy/riomaggiore.jpg\" alt=\"Riomaggiore, Cinque de Terre\" style=\"height:100%\">\\n    </div>\\n  </div>\\n  <div></div>\\n  <h2> Table </h2>\\n  My MIT hockey stats :) \\n  <br></br>\\n  <table class=\"hockey-stats\">\\n      <thead>\\n          <tr>\\n              <th class=\"season\" data-sort=\"\">S</th>\\n              <th class=\"team\" data-sort=\"team\">Team</th>\\n              <th class=\"league\" data-sort=\"league\">League</th>\\n              <th class=\"regular gp\" data-sort=\"gp\">GP</th>\\n              <th class=\"regular g\" data-sort=\"g\">G</th>\\n              <th class=\"regular a\" data-sort=\"a\">A</th>\\n              <th class=\"regular tp\" data-sort=\"tp\">TP</th>\\n              <th class=\"regular pim\" data-sort=\"pim\">PIM</th>\\n              <th class=\"regular pm\" data-sort=\"pm\">+/-</th>\\n              <th class=\"separator\">&nbsp;</th>\\n              <th class=\"postseason\">POST</th>\\n              <th class=\"postseason gp\" data-sort=\"playoffs-gp\">GP</th>\\n              <th class=\"postseason g\" data-sort=\"playoffs-g\">G</th>\\n              <th class=\"postseason a\" data-sort=\"playoffs-a\">A</th>\\n              <th class=\"postseason tp\" data-sort=\"playoffs-tp\">TP</th>\\n              <th class=\"postseason pim\" data-sort=\"playoffs-pim\">PIM</th>\\n              <th class=\"postseason pm\" data-sort=\"playoffs-pm\">+/-</th>\\n          </tr>\\n      </thead>\\n      <tbody>\\n          <tr class=\"team-continent-NA \">\\n              <td class=\"season sorted\">\\n                  2014-15\\n              </td>\\n              <td class=\"team\">\\n                  <i><img src=\"images/flag.png\"></i>\\n                  <span class=\"txt-blue\">\\n                      <a href=\"https://www.eliteprospects.com/team/10263/mit-mass.-inst.-of-tech./2014-2015?tab=stats\"> MIT (Mass. Inst. of Tech.) </a>\\n                  </span>\\n              </td>\\n              <td class=\"league\"> <a href=\"https://www.eliteprospects.com/league/acha-ii/stats/2014-2015\"> ACHA II </a> </td>\\n              <td class=\"regular gp\">17</td>\\n              <td class=\"regular g\">3</td>\\n              <td class=\"regular a\">9</td>\\n              <td class=\"regular tp\">12</td>\\n              <td class=\"regular pim\">20</td>\\n              <td class=\"regular pm\"></td>\\n              <td class=\"separator\"> | </td>\\n              <td class=\"postseason\">\\n                  <a href=\"https://www.eliteprospects.com/league/acha-ii/stats/2014-2015\"> </a>\\n              </td>\\n              <td class=\"postseason gp\">\\n              </td>\\n              <td class=\"postseason g\">\\n              </td>\\n              <td class=\"postseason a\">\\n              </td>\\n              <td class=\"postseason tp\">\\n              </td>\\n              <td class=\"postseason pim\">\\n              </td>\\n              <td class=\"postseason pm\">\\n              </td>\\n          </tr>\\n          <tr class=\"team-continent-NA \">\\n              <td class=\"season sorted\">\\n                  2015-16\\n              </td>\\n              <td class=\"team\">\\n                  <i><img src=\"images/flag.png\"></i>\\n                  <span class=\"txt-blue\">\\n                      <a href=\"https://www.eliteprospects.com/team/10263/mit-mass.-inst.-of-tech./2015-2016?tab=stats\"> MIT (Mass. Inst. of Tech.) </a>\\n                  </span>\\n              </td>\\n              <td class=\"league\"> <a href=\"https://www.eliteprospects.com/league/acha-ii/stats/2015-2016\"> ACHA II </a> </td>\\n              <td class=\"regular gp\">9</td>\\n              <td class=\"regular g\">1</td>\\n              <td class=\"regular a\">1</td>\\n              <td class=\"regular tp\">2</td>\\n              <td class=\"regular pim\">2</td>\\n              <td class=\"regular pm\"></td>\\n              <td class=\"separator\"> | </td>\\n              <td class=\"postseason\">\\n                  <a href=\"https://www.eliteprospects.com/league/acha-ii/stats/2015-2016\"> </a>\\n              </td>\\n              <td class=\"postseason gp\">\\n              </td>\\n              <td class=\"postseason g\">\\n              </td>\\n              <td class=\"postseason a\">\\n              </td>\\n              <td class=\"postseason tp\">\\n              </td>\\n              <td class=\"postseason pim\">\\n              </td>\\n              <td class=\"postseason pm\">\\n              </td>\\n          </tr>\\n          <tr class=\"team-continent-NA \">\\n              <td class=\"season sorted\">\\n                  2016-17\\n              </td>\\n              <td class=\"team\">\\n                  <i><img src=\"images/flag.png\"></i>\\n                  <span class=\"txt-blue\">\\n                      <a href=\"https://www.eliteprospects.com/team/10263/mit-mass.-inst.-of-tech./2016-2017?tab=stats\"> MIT (Mass. Inst. of Tech.) </a>\\n                  </span>\\n              </td>\\n              <td class=\"league\"> <a href=\"https://www.eliteprospects.com/league/acha-ii/stats/2016-2017\"> ACHA II </a> </td>\\n              <td class=\"regular gp\">12</td>\\n              <td class=\"regular g\">5</td>\\n              <td class=\"regular a\">5</td>\\n              <td class=\"regular tp\">10</td>\\n              <td class=\"regular pim\">8</td>\\n              <td class=\"regular pm\">0</td>\\n              <td class=\"separator\"> | </td>\\n              <td class=\"postseason\">\\n              </td>\\n              <td class=\"postseason gp\">\\n              </td>\\n              <td class=\"postseason g\">\\n              </td>\\n              <td class=\"postseason a\">\\n              </td>\\n              <td class=\"postseason tp\">\\n              </td>\\n              <td class=\"postseason pim\">\\n              </td>\\n              <td class=\"postseason pm\">\\n              </td>\\n          </tr>\\n          <tr class=\"team-continent-EU \">\\n              <td class=\"season sorted\">\\n                  2017-18\\n              </td>\\n              <td class=\"team\">\\n                  Did not play\\n              </td>\\n              <td class=\"league\"> <a href=\"https://www.eliteprospects.com/stats\"> </a> </td>\\n              <td class=\"regular gp\"></td>\\n              <td class=\"regular g\"></td>\\n              <td class=\"regular a\"></td>\\n              <td class=\"regular tp\"></td>\\n              <td class=\"regular pim\"></td>\\n              <td class=\"regular pm\"></td>\\n              <td class=\"separator\"> | </td>\\n              <td class=\"postseason\">\\n                  <a href=\"https://www.eliteprospects.com/stats\"> </a>\\n              </td>\\n              <td class=\"postseason gp\">\\n              </td>\\n              <td class=\"postseason g\">\\n              </td>\\n              <td class=\"postseason a\">\\n              </td>\\n              <td class=\"postseason tp\">\\n              </td>\\n              <td class=\"postseason pim\">\\n              </td>\\n              <td class=\"postseason pm\">\\n              </td>\\n          </tr>\\n          <tr class=\"team-continent-NA \">\\n              <td class=\"season sorted\">\\n                  2018-19\\n              </td>\\n              <td class=\"team\">\\n                  <i><img src=\"images/flag.png\"></i>\\n                  <span class=\"txt-blue\">\\n                      <a href=\"https://www.eliteprospects.com/team/10263/mit-mass.-inst.-of-tech./2018-2019?tab=stats\"> MIT (Mass. Inst. of Tech.) </a>\\n                  </span>\\n              </td>\\n              <td class=\"league\"> <a href=\"https://www.eliteprospects.com/league/acha-iii/stats/2018-2019\"> ACHA III </a> </td>\\n              <td class=\"regular gp\">8</td>\\n              <td class=\"regular g\">5</td>\\n              <td class=\"regular a\">10</td>\\n              <td class=\"regular tp\">15</td>\\n              <td class=\"regular pim\">8</td>\\n              <td class=\"regular pm\"></td>\\n              <td class=\"separator\"> | </td>\\n              <td class=\"postseason\">\\n                  <a href=\"https://www.eliteprospects.com/league/acha-iii/stats/2018-2019\"> </a>\\n              </td>\\n              <td class=\"postseason gp\">\\n              </td>\\n              <td class=\"postseason g\">\\n              </td>\\n              <td class=\"postseason a\">\\n              </td>\\n              <td class=\"postseason tp\">\\n              </td>\\n              <td class=\"postseason pim\">\\n              </td>\\n              <td class=\"postseason pm\">\\n              </td>\\n          </tr>\\n      </tbody>\\n  </table>\\n  <h2>Mystery Message Challenge!</h2>\\n  <p>If you scrape the links below grabbing the &lt;p&gt; tag with id=\"secret-word\", you\\'ll discover a secret message :)</p>\\n  <div width=\"50%\">\\n  <div class=\"block\" align=\"left\">\\n    <ul>\\n      <li><a href=\"challenge/file_1.html\">File 1</a></li>\\n      <li><a href=\"challenge/file_2.html\">File 2</a></li>\\n      <li><a href=\"challenge/file_3.html\">File 3</a></li>\\n      <li><a href=\"challenge/file_4.html\">File 4</a></li>\\n      <li><a href=\"challenge/file_5.html\">File 5</a></li>\\n    </ul>\\n  </div>\\n  <div class=\"block\" align=\"center\">\\n    <ul>\\n      <li><a href=\"challenge/file_6.html\">File 6</a></li>\\n      <li><a href=\"challenge/file_7.html\">File 7</a></li>\\n      <li><a href=\"challenge/file_8.html\">File 8</a></li>\\n      <li><a href=\"challenge/file_9.html\">File 9</a></li>\\n      <li><a href=\"challenge/file_10.html\">File 10</a></li>\\n    </ul>\\n  </div>\\n  </div>\\n  <h2>Footnotes</h2>\\n  <p id=\"footer\">1. This was actually a minivan that I named Debora. Maybe not my dream car, but I loved her nonetheless.</p>\\n  </body>\\n'"
      ]
     },
     "execution_count": 57,
     "metadata": {},
     "output_type": "execute_result"
    }
   ],
   "source": [
    "# look at the content\n",
    "request.content"
   ]
  },
  {
   "cell_type": "code",
   "execution_count": 58,
   "metadata": {},
   "outputs": [],
   "source": [
    "# create a variable 'webpage' that takes request.content and makes it a beautiful soup object.\n",
    "webpage=bs(request.content)\n"
   ]
  },
  {
   "cell_type": "code",
   "execution_count": 59,
   "metadata": {
    "scrolled": false
   },
   "outputs": [
    {
     "name": "stdout",
     "output_type": "stream",
     "text": [
      "<html>\n",
      " <head>\n",
      "  <title>\n",
      "   Keith Galli's Page\n",
      "  </title>\n",
      "  <style>\n",
      "   table {\n",
      "    border-collapse: collapse;\n",
      "  }\n",
      "  th {\n",
      "    padding:5px;\n",
      "  }\n",
      "  td {\n",
      "    border: 1px solid #ddd;\n",
      "    padding: 5px;\n",
      "  }\n",
      "  tr:nth-child(even) {\n",
      "    background-color: #f2f2f2;\n",
      "  }\n",
      "  th {\n",
      "    padding-top: 12px;\n",
      "    padding-bottom: 12px;\n",
      "    text-align: left;\n",
      "    background-color: #add8e6;\n",
      "    color: black;\n",
      "  }\n",
      "  .block {\n",
      "  width: 100px;\n",
      "  /*float: left;*/\n",
      "    display: inline-block;\n",
      "    zoom: 1;\n",
      "  }\n",
      "  .column {\n",
      "  float: left;\n",
      "  height: 200px;\n",
      "  /*width: 33.33%;*/\n",
      "  padding: 5px;\n",
      "  }\n",
      "\n",
      "  .row::after {\n",
      "    content: \"\";\n",
      "    clear: both;\n",
      "    display: table;\n",
      "  }\n",
      "  </style>\n",
      " </head>\n",
      " <body>\n",
      "  <h1>\n",
      "   Welcome to my page!\n",
      "  </h1>\n",
      "  <img src=\"./images/selfie1.jpg\" width=\"300px\"/>\n",
      "  <h2>\n",
      "   About me\n",
      "  </h2>\n",
      "  <p>\n",
      "   Hi, my name is Keith and I am a YouTuber who focuses on content related to programming, data science, and machine learning!\n",
      "  </p>\n",
      "  <p>\n",
      "   Here is a link to my channel:\n",
      "   <a href=\"https://www.youtube.com/kgmit\">\n",
      "    youtube.com/kgmit\n",
      "   </a>\n",
      "  </p>\n",
      "  <p>\n",
      "   I grew up in the great state of New Hampshire here in the USA. From an early age I always loved math. Around my senior year of high school, my brother first introduced me to programming. I found it a creative way to apply the same type of logical thinking skills that I enjoyed with math. This influenced me to study computer science in college and ultimately create a YouTube channel to share some things that I have learned along the way.\n",
      "  </p>\n",
      "  <h3>\n",
      "   Hobbies\n",
      "  </h3>\n",
      "  <p>\n",
      "   Believe it or not, I don't code 24/7. I love doing all sorts of active things. I like to play ice hockey &amp; table tennis as well as run, hike, skateboard, and snowboard. In addition to sports, I am a board game enthusiast. The two that I've been playing the most recently are\n",
      "   <i>\n",
      "    Settlers of Catan\n",
      "   </i>\n",
      "   and\n",
      "   <i>\n",
      "    Othello\n",
      "   </i>\n",
      "   .\n",
      "  </p>\n",
      "  <h3>\n",
      "   Fun Facts\n",
      "  </h3>\n",
      "  <ul class=\"fun-facts\">\n",
      "   <li>\n",
      "    Owned my dream car in high school\n",
      "    <a href=\"#footer\">\n",
      "     <sup>\n",
      "      1\n",
      "     </sup>\n",
      "    </a>\n",
      "   </li>\n",
      "   <li>\n",
      "    Middle name is Ronald\n",
      "   </li>\n",
      "   <li>\n",
      "    Never had been on a plane until college\n",
      "   </li>\n",
      "   <li>\n",
      "    Dunkin Donuts coffee is better than Starbucks\n",
      "   </li>\n",
      "   <li>\n",
      "    A favorite book series of mine is\n",
      "    <i>\n",
      "     Ender's Game\n",
      "    </i>\n",
      "   </li>\n",
      "   <li>\n",
      "    Current video game of choice is\n",
      "    <i>\n",
      "     Rocket League\n",
      "    </i>\n",
      "   </li>\n",
      "   <li>\n",
      "    The band that I've seen the most times live is the\n",
      "    <i>\n",
      "     Zac Brown Band\n",
      "    </i>\n",
      "   </li>\n",
      "  </ul>\n",
      "  <h2>\n",
      "   Social Media\n",
      "  </h2>\n",
      "  I encourage you to check out my content on all social media platforms\n",
      "  <br/>\n",
      "  <ul class=\"socials\">\n",
      "   <li class=\"social instagram\">\n",
      "    <b>\n",
      "     Instagram:\n",
      "    </b>\n",
      "    <a href=\"https://www.instagram.com/keithgalli/\">\n",
      "     https://www.instagram.com/keithgalli/\n",
      "    </a>\n",
      "   </li>\n",
      "   <li class=\"social twitter\">\n",
      "    <b>\n",
      "     Twitter:\n",
      "    </b>\n",
      "    <a href=\"https://twitter.com/keithgalli\">\n",
      "     https://twitter.com/keithgalli\n",
      "    </a>\n",
      "   </li>\n",
      "   <li class=\"social linkedin\">\n",
      "    <b>\n",
      "     LinkedIn:\n",
      "    </b>\n",
      "    <a href=\"https://www.linkedin.com/in/keithgalli/\">\n",
      "     https://www.linkedin.com/in/keithgalli/\n",
      "    </a>\n",
      "   </li>\n",
      "   <li class=\"social tiktok\">\n",
      "    <b>\n",
      "     TikTok:\n",
      "    </b>\n",
      "    <a href=\"https://www.tiktok.com/@keithgalli\">\n",
      "     https://www.tiktok.com/@keithgalli\n",
      "    </a>\n",
      "   </li>\n",
      "  </ul>\n",
      "  <h2>\n",
      "   Photos\n",
      "  </h2>\n",
      "  Here are a few photos from a trip to italy I took last year\n",
      "  <div class=\"row\">\n",
      "   <div class=\"column\">\n",
      "    <img alt=\"Lake Como\" src=\"images/italy/lake_como.jpg\" style=\"height:100%\"/>\n",
      "   </div>\n",
      "   <div class=\"column\">\n",
      "    <img alt=\"Pontevecchio, Florence\" src=\"images/italy/pontevecchio.jpg\" style=\"height:100%\"/>\n",
      "   </div>\n",
      "   <div class=\"column\">\n",
      "    <img alt=\"Riomaggiore, Cinque de Terre\" src=\"images/italy/riomaggiore.jpg\" style=\"height:100%\"/>\n",
      "   </div>\n",
      "  </div>\n",
      "  <div>\n",
      "  </div>\n",
      "  <h2>\n",
      "   Table\n",
      "  </h2>\n",
      "  My MIT hockey stats :)\n",
      "  <br/>\n",
      "  <table class=\"hockey-stats\">\n",
      "   <thead>\n",
      "    <tr>\n",
      "     <th class=\"season\" data-sort=\"\">\n",
      "      S\n",
      "     </th>\n",
      "     <th class=\"team\" data-sort=\"team\">\n",
      "      Team\n",
      "     </th>\n",
      "     <th class=\"league\" data-sort=\"league\">\n",
      "      League\n",
      "     </th>\n",
      "     <th class=\"regular gp\" data-sort=\"gp\">\n",
      "      GP\n",
      "     </th>\n",
      "     <th class=\"regular g\" data-sort=\"g\">\n",
      "      G\n",
      "     </th>\n",
      "     <th class=\"regular a\" data-sort=\"a\">\n",
      "      A\n",
      "     </th>\n",
      "     <th class=\"regular tp\" data-sort=\"tp\">\n",
      "      TP\n",
      "     </th>\n",
      "     <th class=\"regular pim\" data-sort=\"pim\">\n",
      "      PIM\n",
      "     </th>\n",
      "     <th class=\"regular pm\" data-sort=\"pm\">\n",
      "      +/-\n",
      "     </th>\n",
      "     <th class=\"separator\">\n",
      "     </th>\n",
      "     <th class=\"postseason\">\n",
      "      POST\n",
      "     </th>\n",
      "     <th class=\"postseason gp\" data-sort=\"playoffs-gp\">\n",
      "      GP\n",
      "     </th>\n",
      "     <th class=\"postseason g\" data-sort=\"playoffs-g\">\n",
      "      G\n",
      "     </th>\n",
      "     <th class=\"postseason a\" data-sort=\"playoffs-a\">\n",
      "      A\n",
      "     </th>\n",
      "     <th class=\"postseason tp\" data-sort=\"playoffs-tp\">\n",
      "      TP\n",
      "     </th>\n",
      "     <th class=\"postseason pim\" data-sort=\"playoffs-pim\">\n",
      "      PIM\n",
      "     </th>\n",
      "     <th class=\"postseason pm\" data-sort=\"playoffs-pm\">\n",
      "      +/-\n",
      "     </th>\n",
      "    </tr>\n",
      "   </thead>\n",
      "   <tbody>\n",
      "    <tr class=\"team-continent-NA\">\n",
      "     <td class=\"season sorted\">\n",
      "      2014-15\n",
      "     </td>\n",
      "     <td class=\"team\">\n",
      "      <i>\n",
      "       <img src=\"images/flag.png\"/>\n",
      "      </i>\n",
      "      <span class=\"txt-blue\">\n",
      "       <a href=\"https://www.eliteprospects.com/team/10263/mit-mass.-inst.-of-tech./2014-2015?tab=stats\">\n",
      "        MIT (Mass. Inst. of Tech.)\n",
      "       </a>\n",
      "      </span>\n",
      "     </td>\n",
      "     <td class=\"league\">\n",
      "      <a href=\"https://www.eliteprospects.com/league/acha-ii/stats/2014-2015\">\n",
      "       ACHA II\n",
      "      </a>\n",
      "     </td>\n",
      "     <td class=\"regular gp\">\n",
      "      17\n",
      "     </td>\n",
      "     <td class=\"regular g\">\n",
      "      3\n",
      "     </td>\n",
      "     <td class=\"regular a\">\n",
      "      9\n",
      "     </td>\n",
      "     <td class=\"regular tp\">\n",
      "      12\n",
      "     </td>\n",
      "     <td class=\"regular pim\">\n",
      "      20\n",
      "     </td>\n",
      "     <td class=\"regular pm\">\n",
      "     </td>\n",
      "     <td class=\"separator\">\n",
      "      |\n",
      "     </td>\n",
      "     <td class=\"postseason\">\n",
      "      <a href=\"https://www.eliteprospects.com/league/acha-ii/stats/2014-2015\">\n",
      "      </a>\n",
      "     </td>\n",
      "     <td class=\"postseason gp\">\n",
      "     </td>\n",
      "     <td class=\"postseason g\">\n",
      "     </td>\n",
      "     <td class=\"postseason a\">\n",
      "     </td>\n",
      "     <td class=\"postseason tp\">\n",
      "     </td>\n",
      "     <td class=\"postseason pim\">\n",
      "     </td>\n",
      "     <td class=\"postseason pm\">\n",
      "     </td>\n",
      "    </tr>\n",
      "    <tr class=\"team-continent-NA\">\n",
      "     <td class=\"season sorted\">\n",
      "      2015-16\n",
      "     </td>\n",
      "     <td class=\"team\">\n",
      "      <i>\n",
      "       <img src=\"images/flag.png\"/>\n",
      "      </i>\n",
      "      <span class=\"txt-blue\">\n",
      "       <a href=\"https://www.eliteprospects.com/team/10263/mit-mass.-inst.-of-tech./2015-2016?tab=stats\">\n",
      "        MIT (Mass. Inst. of Tech.)\n",
      "       </a>\n",
      "      </span>\n",
      "     </td>\n",
      "     <td class=\"league\">\n",
      "      <a href=\"https://www.eliteprospects.com/league/acha-ii/stats/2015-2016\">\n",
      "       ACHA II\n",
      "      </a>\n",
      "     </td>\n",
      "     <td class=\"regular gp\">\n",
      "      9\n",
      "     </td>\n",
      "     <td class=\"regular g\">\n",
      "      1\n",
      "     </td>\n",
      "     <td class=\"regular a\">\n",
      "      1\n",
      "     </td>\n",
      "     <td class=\"regular tp\">\n",
      "      2\n",
      "     </td>\n",
      "     <td class=\"regular pim\">\n",
      "      2\n",
      "     </td>\n",
      "     <td class=\"regular pm\">\n",
      "     </td>\n",
      "     <td class=\"separator\">\n",
      "      |\n",
      "     </td>\n",
      "     <td class=\"postseason\">\n",
      "      <a href=\"https://www.eliteprospects.com/league/acha-ii/stats/2015-2016\">\n",
      "      </a>\n",
      "     </td>\n",
      "     <td class=\"postseason gp\">\n",
      "     </td>\n",
      "     <td class=\"postseason g\">\n",
      "     </td>\n",
      "     <td class=\"postseason a\">\n",
      "     </td>\n",
      "     <td class=\"postseason tp\">\n",
      "     </td>\n",
      "     <td class=\"postseason pim\">\n",
      "     </td>\n",
      "     <td class=\"postseason pm\">\n",
      "     </td>\n",
      "    </tr>\n",
      "    <tr class=\"team-continent-NA\">\n",
      "     <td class=\"season sorted\">\n",
      "      2016-17\n",
      "     </td>\n",
      "     <td class=\"team\">\n",
      "      <i>\n",
      "       <img src=\"images/flag.png\"/>\n",
      "      </i>\n",
      "      <span class=\"txt-blue\">\n",
      "       <a href=\"https://www.eliteprospects.com/team/10263/mit-mass.-inst.-of-tech./2016-2017?tab=stats\">\n",
      "        MIT (Mass. Inst. of Tech.)\n",
      "       </a>\n",
      "      </span>\n",
      "     </td>\n",
      "     <td class=\"league\">\n",
      "      <a href=\"https://www.eliteprospects.com/league/acha-ii/stats/2016-2017\">\n",
      "       ACHA II\n",
      "      </a>\n",
      "     </td>\n",
      "     <td class=\"regular gp\">\n",
      "      12\n",
      "     </td>\n",
      "     <td class=\"regular g\">\n",
      "      5\n",
      "     </td>\n",
      "     <td class=\"regular a\">\n",
      "      5\n",
      "     </td>\n",
      "     <td class=\"regular tp\">\n",
      "      10\n",
      "     </td>\n",
      "     <td class=\"regular pim\">\n",
      "      8\n",
      "     </td>\n",
      "     <td class=\"regular pm\">\n",
      "      0\n",
      "     </td>\n",
      "     <td class=\"separator\">\n",
      "      |\n",
      "     </td>\n",
      "     <td class=\"postseason\">\n",
      "     </td>\n",
      "     <td class=\"postseason gp\">\n",
      "     </td>\n",
      "     <td class=\"postseason g\">\n",
      "     </td>\n",
      "     <td class=\"postseason a\">\n",
      "     </td>\n",
      "     <td class=\"postseason tp\">\n",
      "     </td>\n",
      "     <td class=\"postseason pim\">\n",
      "     </td>\n",
      "     <td class=\"postseason pm\">\n",
      "     </td>\n",
      "    </tr>\n",
      "    <tr class=\"team-continent-EU\">\n",
      "     <td class=\"season sorted\">\n",
      "      2017-18\n",
      "     </td>\n",
      "     <td class=\"team\">\n",
      "      Did not play\n",
      "     </td>\n",
      "     <td class=\"league\">\n",
      "      <a href=\"https://www.eliteprospects.com/stats\">\n",
      "      </a>\n",
      "     </td>\n",
      "     <td class=\"regular gp\">\n",
      "     </td>\n",
      "     <td class=\"regular g\">\n",
      "     </td>\n",
      "     <td class=\"regular a\">\n",
      "     </td>\n",
      "     <td class=\"regular tp\">\n",
      "     </td>\n",
      "     <td class=\"regular pim\">\n",
      "     </td>\n",
      "     <td class=\"regular pm\">\n",
      "     </td>\n",
      "     <td class=\"separator\">\n",
      "      |\n",
      "     </td>\n",
      "     <td class=\"postseason\">\n",
      "      <a href=\"https://www.eliteprospects.com/stats\">\n",
      "      </a>\n",
      "     </td>\n",
      "     <td class=\"postseason gp\">\n",
      "     </td>\n",
      "     <td class=\"postseason g\">\n",
      "     </td>\n",
      "     <td class=\"postseason a\">\n",
      "     </td>\n",
      "     <td class=\"postseason tp\">\n",
      "     </td>\n",
      "     <td class=\"postseason pim\">\n",
      "     </td>\n",
      "     <td class=\"postseason pm\">\n",
      "     </td>\n",
      "    </tr>\n",
      "    <tr class=\"team-continent-NA\">\n",
      "     <td class=\"season sorted\">\n",
      "      2018-19\n",
      "     </td>\n",
      "     <td class=\"team\">\n",
      "      <i>\n",
      "       <img src=\"images/flag.png\"/>\n",
      "      </i>\n",
      "      <span class=\"txt-blue\">\n",
      "       <a href=\"https://www.eliteprospects.com/team/10263/mit-mass.-inst.-of-tech./2018-2019?tab=stats\">\n",
      "        MIT (Mass. Inst. of Tech.)\n",
      "       </a>\n",
      "      </span>\n",
      "     </td>\n",
      "     <td class=\"league\">\n",
      "      <a href=\"https://www.eliteprospects.com/league/acha-iii/stats/2018-2019\">\n",
      "       ACHA III\n",
      "      </a>\n",
      "     </td>\n",
      "     <td class=\"regular gp\">\n",
      "      8\n",
      "     </td>\n",
      "     <td class=\"regular g\">\n",
      "      5\n",
      "     </td>\n",
      "     <td class=\"regular a\">\n",
      "      10\n",
      "     </td>\n",
      "     <td class=\"regular tp\">\n",
      "      15\n",
      "     </td>\n",
      "     <td class=\"regular pim\">\n",
      "      8\n",
      "     </td>\n",
      "     <td class=\"regular pm\">\n",
      "     </td>\n",
      "     <td class=\"separator\">\n",
      "      |\n",
      "     </td>\n",
      "     <td class=\"postseason\">\n",
      "      <a href=\"https://www.eliteprospects.com/league/acha-iii/stats/2018-2019\">\n",
      "      </a>\n",
      "     </td>\n",
      "     <td class=\"postseason gp\">\n",
      "     </td>\n",
      "     <td class=\"postseason g\">\n",
      "     </td>\n",
      "     <td class=\"postseason a\">\n",
      "     </td>\n",
      "     <td class=\"postseason tp\">\n",
      "     </td>\n",
      "     <td class=\"postseason pim\">\n",
      "     </td>\n",
      "     <td class=\"postseason pm\">\n",
      "     </td>\n",
      "    </tr>\n",
      "   </tbody>\n",
      "  </table>\n",
      "  <h2>\n",
      "   Mystery Message Challenge!\n",
      "  </h2>\n",
      "  <p>\n",
      "   If you scrape the links below grabbing the &lt;p&gt; tag with id=\"secret-word\", you'll discover a secret message :)\n",
      "  </p>\n",
      "  <div width=\"50%\">\n",
      "   <div align=\"left\" class=\"block\">\n",
      "    <ul>\n",
      "     <li>\n",
      "      <a href=\"challenge/file_1.html\">\n",
      "       File 1\n",
      "      </a>\n",
      "     </li>\n",
      "     <li>\n",
      "      <a href=\"challenge/file_2.html\">\n",
      "       File 2\n",
      "      </a>\n",
      "     </li>\n",
      "     <li>\n",
      "      <a href=\"challenge/file_3.html\">\n",
      "       File 3\n",
      "      </a>\n",
      "     </li>\n",
      "     <li>\n",
      "      <a href=\"challenge/file_4.html\">\n",
      "       File 4\n",
      "      </a>\n",
      "     </li>\n",
      "     <li>\n",
      "      <a href=\"challenge/file_5.html\">\n",
      "       File 5\n",
      "      </a>\n",
      "     </li>\n",
      "    </ul>\n",
      "   </div>\n",
      "   <div align=\"center\" class=\"block\">\n",
      "    <ul>\n",
      "     <li>\n",
      "      <a href=\"challenge/file_6.html\">\n",
      "       File 6\n",
      "      </a>\n",
      "     </li>\n",
      "     <li>\n",
      "      <a href=\"challenge/file_7.html\">\n",
      "       File 7\n",
      "      </a>\n",
      "     </li>\n",
      "     <li>\n",
      "      <a href=\"challenge/file_8.html\">\n",
      "       File 8\n",
      "      </a>\n",
      "     </li>\n",
      "     <li>\n",
      "      <a href=\"challenge/file_9.html\">\n",
      "       File 9\n",
      "      </a>\n",
      "     </li>\n",
      "     <li>\n",
      "      <a href=\"challenge/file_10.html\">\n",
      "       File 10\n",
      "      </a>\n",
      "     </li>\n",
      "    </ul>\n",
      "   </div>\n",
      "  </div>\n",
      "  <h2>\n",
      "   Footnotes\n",
      "  </h2>\n",
      "  <p id=\"footer\">\n",
      "   1. This was actually a minivan that I named Debora. Maybe not my dream car, but I loved her nonetheless.\n",
      "  </p>\n",
      " </body>\n",
      "</html>\n"
     ]
    }
   ],
   "source": [
    "print(webpage.prettify())"
   ]
  },
  {
   "cell_type": "markdown",
   "metadata": {},
   "source": [
    "# starting on my own."
   ]
  },
  {
   "cell_type": "code",
   "execution_count": 61,
   "metadata": {},
   "outputs": [
    {
     "data": {
      "text/plain": [
       "<ul class=\"socials\">\n",
       "<li class=\"social instagram\"><b>Instagram: </b><a href=\"https://www.instagram.com/keithgalli/\">https://www.instagram.com/keithgalli/</a></li>\n",
       "<li class=\"social twitter\"><b>Twitter: </b><a href=\"https://twitter.com/keithgalli\">https://twitter.com/keithgalli</a></li>\n",
       "<li class=\"social linkedin\"><b>LinkedIn: </b><a href=\"https://www.linkedin.com/in/keithgalli/\">https://www.linkedin.com/in/keithgalli/</a></li>\n",
       "<li class=\"social tiktok\"><b>TikTok: </b><a href=\"https://www.tiktok.com/@keithgalli\">https://www.tiktok.com/@keithgalli</a></li>\n",
       "</ul>"
      ]
     },
     "execution_count": 61,
     "metadata": {},
     "output_type": "execute_result"
    }
   ],
   "source": [
    "# all of the social links look like they are inside of <ul> (unordered list) elements with attribute class='socials'\n",
    "socials = webpage.find('ul', attrs={'class': 'socials'})\n",
    "socials"
   ]
  },
  {
   "cell_type": "code",
   "execution_count": 62,
   "metadata": {},
   "outputs": [
    {
     "data": {
      "text/plain": [
       "bs4.element.Tag"
      ]
     },
     "execution_count": 62,
     "metadata": {},
     "output_type": "execute_result"
    }
   ],
   "source": [
    "type(socials)"
   ]
  },
  {
   "cell_type": "code",
   "execution_count": 63,
   "metadata": {},
   "outputs": [
    {
     "data": {
      "text/plain": [
       "'<ul class=\"socials\">\\n<li class=\"social instagram\"><b>Instagram: </b><a href=\"https://www.instagram.com/keithgalli/\">https://www.instagram.com/keithgalli/</a></li>\\n<li class=\"social twitter\"><b>Twitter: </b><a href=\"https://twitter.com/keithgalli\">https://twitter.com/keithgalli</a></li>\\n<li class=\"social linkedin\"><b>LinkedIn: </b><a href=\"https://www.linkedin.com/in/keithgalli/\">https://www.linkedin.com/in/keithgalli/</a></li>\\n<li class=\"social tiktok\"><b>TikTok: </b><a href=\"https://www.tiktok.com/@keithgalli\">https://www.tiktok.com/@keithgalli</a></li>\\n</ul>'"
      ]
     },
     "execution_count": 63,
     "metadata": {},
     "output_type": "execute_result"
    }
   ],
   "source": [
    "social_str = str(socials)\n",
    "social_str"
   ]
  },
  {
   "cell_type": "code",
   "execution_count": 64,
   "metadata": {},
   "outputs": [
    {
     "data": {
      "text/plain": [
       "['<ul class=\"socials\">',\n",
       " '<li class=\"social instagram\"><b>Instagram: </b><a href=\"https://www.instagram.com/keithgalli/\">https://www.instagram.com/keithgalli/</a></li>',\n",
       " '<li class=\"social twitter\"><b>Twitter: </b><a href=\"https://twitter.com/keithgalli\">https://twitter.com/keithgalli</a></li>',\n",
       " '<li class=\"social linkedin\"><b>LinkedIn: </b><a href=\"https://www.linkedin.com/in/keithgalli/\">https://www.linkedin.com/in/keithgalli/</a></li>',\n",
       " '<li class=\"social tiktok\"><b>TikTok: </b><a href=\"https://www.tiktok.com/@keithgalli\">https://www.tiktok.com/@keithgalli</a></li>',\n",
       " '</ul>']"
      ]
     },
     "execution_count": 64,
     "metadata": {},
     "output_type": "execute_result"
    }
   ],
   "source": [
    "social_str.split('\\n')"
   ]
  },
  {
   "cell_type": "code",
   "execution_count": 65,
   "metadata": {},
   "outputs": [
    {
     "data": {
      "text/plain": [
       "[<ul class=\"socials\">\n",
       " <li class=\"social instagram\"><b>Instagram: </b><a href=\"https://www.instagram.com/keithgalli/\">https://www.instagram.com/keithgalli/</a></li>\n",
       " <li class=\"social twitter\"><b>Twitter: </b><a href=\"https://twitter.com/keithgalli\">https://twitter.com/keithgalli</a></li>\n",
       " <li class=\"social linkedin\"><b>LinkedIn: </b><a href=\"https://www.linkedin.com/in/keithgalli/\">https://www.linkedin.com/in/keithgalli/</a></li>\n",
       " <li class=\"social tiktok\"><b>TikTok: </b><a href=\"https://www.tiktok.com/@keithgalli\">https://www.tiktok.com/@keithgalli</a></li>\n",
       " </ul>]"
      ]
     },
     "execution_count": 65,
     "metadata": {},
     "output_type": "execute_result"
    }
   ],
   "source": [
    "# another way - find_all\n",
    "socials = webpage.find_all('ul', attrs={'class': 'socials'})\n",
    "socials"
   ]
  },
  {
   "cell_type": "code",
   "execution_count": 66,
   "metadata": {},
   "outputs": [],
   "source": [
    "# using select\n",
    "links = webpage.select('ul > li > a[href*=\"keith\"]')"
   ]
  },
  {
   "cell_type": "code",
   "execution_count": 67,
   "metadata": {},
   "outputs": [
    {
     "data": {
      "text/plain": [
       "[<a href=\"https://www.instagram.com/keithgalli/\">https://www.instagram.com/keithgalli/</a>,\n",
       " <a href=\"https://twitter.com/keithgalli\">https://twitter.com/keithgalli</a>,\n",
       " <a href=\"https://www.linkedin.com/in/keithgalli/\">https://www.linkedin.com/in/keithgalli/</a>,\n",
       " <a href=\"https://www.tiktok.com/@keithgalli\">https://www.tiktok.com/@keithgalli</a>]"
      ]
     },
     "execution_count": 67,
     "metadata": {},
     "output_type": "execute_result"
    }
   ],
   "source": [
    "links"
   ]
  },
  {
   "cell_type": "code",
   "execution_count": 68,
   "metadata": {},
   "outputs": [
    {
     "data": {
      "text/plain": [
       "'https://www.instagram.com/keithgalli/'"
      ]
     },
     "execution_count": 68,
     "metadata": {},
     "output_type": "execute_result"
    }
   ],
   "source": [
    "links[0]['href']"
   ]
  },
  {
   "cell_type": "code",
   "execution_count": 69,
   "metadata": {},
   "outputs": [
    {
     "data": {
      "text/plain": [
       "'https://twitter.com/keithgalli'"
      ]
     },
     "execution_count": 69,
     "metadata": {},
     "output_type": "execute_result"
    }
   ],
   "source": [
    "links[1]['href']"
   ]
  },
  {
   "cell_type": "code",
   "execution_count": 70,
   "metadata": {},
   "outputs": [
    {
     "data": {
      "text/plain": [
       "['https://www.instagram.com/keithgalli/',\n",
       " 'https://twitter.com/keithgalli',\n",
       " 'https://www.linkedin.com/in/keithgalli/',\n",
       " 'https://www.tiktok.com/@keithgalli']"
      ]
     },
     "execution_count": 70,
     "metadata": {},
     "output_type": "execute_result"
    }
   ],
   "source": [
    "actual_links = [x['href'] for x in links]\n",
    "actual_links"
   ]
  },
  {
   "cell_type": "code",
   "execution_count": null,
   "metadata": {},
   "outputs": [],
   "source": [
    "# [requests.get(x) for x in actual_links]"
   ]
  },
  {
   "cell_type": "markdown",
   "metadata": {},
   "source": [
    "# following video solutions"
   ]
  },
  {
   "cell_type": "code",
   "execution_count": 72,
   "metadata": {},
   "outputs": [
    {
     "data": {
      "text/plain": [
       "[<a href=\"https://www.youtube.com/kgmit\">youtube.com/kgmit</a>,\n",
       " <a href=\"#footer\"><sup>1</sup></a>,\n",
       " <a href=\"https://www.instagram.com/keithgalli/\">https://www.instagram.com/keithgalli/</a>,\n",
       " <a href=\"https://twitter.com/keithgalli\">https://twitter.com/keithgalli</a>,\n",
       " <a href=\"https://www.linkedin.com/in/keithgalli/\">https://www.linkedin.com/in/keithgalli/</a>,\n",
       " <a href=\"https://www.tiktok.com/@keithgalli\">https://www.tiktok.com/@keithgalli</a>,\n",
       " <a href=\"https://www.eliteprospects.com/team/10263/mit-mass.-inst.-of-tech./2014-2015?tab=stats\"> MIT (Mass. Inst. of Tech.) </a>,\n",
       " <a href=\"https://www.eliteprospects.com/league/acha-ii/stats/2014-2015\"> ACHA II </a>,\n",
       " <a href=\"https://www.eliteprospects.com/league/acha-ii/stats/2014-2015\"> </a>,\n",
       " <a href=\"https://www.eliteprospects.com/team/10263/mit-mass.-inst.-of-tech./2015-2016?tab=stats\"> MIT (Mass. Inst. of Tech.) </a>,\n",
       " <a href=\"https://www.eliteprospects.com/league/acha-ii/stats/2015-2016\"> ACHA II </a>,\n",
       " <a href=\"https://www.eliteprospects.com/league/acha-ii/stats/2015-2016\"> </a>,\n",
       " <a href=\"https://www.eliteprospects.com/team/10263/mit-mass.-inst.-of-tech./2016-2017?tab=stats\"> MIT (Mass. Inst. of Tech.) </a>,\n",
       " <a href=\"https://www.eliteprospects.com/league/acha-ii/stats/2016-2017\"> ACHA II </a>,\n",
       " <a href=\"https://www.eliteprospects.com/stats\"> </a>,\n",
       " <a href=\"https://www.eliteprospects.com/stats\"> </a>,\n",
       " <a href=\"https://www.eliteprospects.com/team/10263/mit-mass.-inst.-of-tech./2018-2019?tab=stats\"> MIT (Mass. Inst. of Tech.) </a>,\n",
       " <a href=\"https://www.eliteprospects.com/league/acha-iii/stats/2018-2019\"> ACHA III </a>,\n",
       " <a href=\"https://www.eliteprospects.com/league/acha-iii/stats/2018-2019\"> </a>,\n",
       " <a href=\"challenge/file_1.html\">File 1</a>,\n",
       " <a href=\"challenge/file_2.html\">File 2</a>,\n",
       " <a href=\"challenge/file_3.html\">File 3</a>,\n",
       " <a href=\"challenge/file_4.html\">File 4</a>,\n",
       " <a href=\"challenge/file_5.html\">File 5</a>,\n",
       " <a href=\"challenge/file_6.html\">File 6</a>,\n",
       " <a href=\"challenge/file_7.html\">File 7</a>,\n",
       " <a href=\"challenge/file_8.html\">File 8</a>,\n",
       " <a href=\"challenge/file_9.html\">File 9</a>,\n",
       " <a href=\"challenge/file_10.html\">File 10</a>]"
      ]
     },
     "execution_count": 72,
     "metadata": {},
     "output_type": "execute_result"
    }
   ],
   "source": [
    "# what happens when I select all of the <a> elements on the page?\n",
    "webpage.select('a')"
   ]
  },
  {
   "cell_type": "markdown",
   "metadata": {},
   "source": [
    "This gave us too much... \\\n",
    "On the page all of the socials are stored in an unordered list (ul) with class=\"socials\""
   ]
  },
  {
   "cell_type": "code",
   "execution_count": 73,
   "metadata": {},
   "outputs": [
    {
     "data": {
      "text/plain": [
       "[<ul class=\"socials\">\n",
       " <li class=\"social instagram\"><b>Instagram: </b><a href=\"https://www.instagram.com/keithgalli/\">https://www.instagram.com/keithgalli/</a></li>\n",
       " <li class=\"social twitter\"><b>Twitter: </b><a href=\"https://twitter.com/keithgalli\">https://twitter.com/keithgalli</a></li>\n",
       " <li class=\"social linkedin\"><b>LinkedIn: </b><a href=\"https://www.linkedin.com/in/keithgalli/\">https://www.linkedin.com/in/keithgalli/</a></li>\n",
       " <li class=\"social tiktok\"><b>TikTok: </b><a href=\"https://www.tiktok.com/@keithgalli\">https://www.tiktok.com/@keithgalli</a></li>\n",
       " </ul>]"
      ]
     },
     "execution_count": 73,
     "metadata": {},
     "output_type": "execute_result"
    }
   ],
   "source": [
    "# NOTE in select '#' goes with id names, '.' goes with class names\n",
    "links=webpage.select('ul.socials')\n",
    "links"
   ]
  },
  {
   "cell_type": "code",
   "execution_count": 74,
   "metadata": {},
   "outputs": [
    {
     "data": {
      "text/plain": [
       "[<a href=\"https://www.instagram.com/keithgalli/\">https://www.instagram.com/keithgalli/</a>,\n",
       " <a href=\"https://twitter.com/keithgalli\">https://twitter.com/keithgalli</a>,\n",
       " <a href=\"https://www.linkedin.com/in/keithgalli/\">https://www.linkedin.com/in/keithgalli/</a>,\n",
       " <a href=\"https://www.tiktok.com/@keithgalli\">https://www.tiktok.com/@keithgalli</a>]"
      ]
     },
     "execution_count": 74,
     "metadata": {},
     "output_type": "execute_result"
    }
   ],
   "source": [
    "# now we just want the a elements with the href in them.\n",
    "links=webpage.select('ul.socials a')\n",
    "links"
   ]
  },
  {
   "cell_type": "code",
   "execution_count": 75,
   "metadata": {},
   "outputs": [
    {
     "data": {
      "text/plain": [
       "['https://www.instagram.com/keithgalli/',\n",
       " 'https://twitter.com/keithgalli',\n",
       " 'https://www.linkedin.com/in/keithgalli/',\n",
       " 'https://www.tiktok.com/@keithgalli']"
      ]
     },
     "execution_count": 75,
     "metadata": {},
     "output_type": "execute_result"
    }
   ],
   "source": [
    "# we hant to get only the links - https://..... \n",
    "#since the variable 'links' is a list we can do a list comprehension to grab these.\n",
    "\n",
    "[link['href'] for link in links]\n"
   ]
  },
  {
   "cell_type": "code",
   "execution_count": 76,
   "metadata": {},
   "outputs": [
    {
     "data": {
      "text/plain": [
       "<a href=\"https://www.youtube.com/kgmit\">youtube.com/kgmit</a>"
      ]
     },
     "execution_count": 76,
     "metadata": {},
     "output_type": "execute_result"
    }
   ],
   "source": [
    "# another way\n",
    "# this time lets use find\n",
    "# a starting point. let's see the first '<a>' tag\n",
    "\n",
    "links=webpage.find('a')\n",
    "links"
   ]
  },
  {
   "cell_type": "markdown",
   "metadata": {},
   "source": [
    "this is not what we are looking for :("
   ]
  },
  {
   "cell_type": "code",
   "execution_count": 77,
   "metadata": {},
   "outputs": [
    {
     "data": {
      "text/plain": [
       "<ul class=\"socials\">\n",
       "<li class=\"social instagram\"><b>Instagram: </b><a href=\"https://www.instagram.com/keithgalli/\">https://www.instagram.com/keithgalli/</a></li>\n",
       "<li class=\"social twitter\"><b>Twitter: </b><a href=\"https://twitter.com/keithgalli\">https://twitter.com/keithgalli</a></li>\n",
       "<li class=\"social linkedin\"><b>LinkedIn: </b><a href=\"https://www.linkedin.com/in/keithgalli/\">https://www.linkedin.com/in/keithgalli/</a></li>\n",
       "<li class=\"social tiktok\"><b>TikTok: </b><a href=\"https://www.tiktok.com/@keithgalli\">https://www.tiktok.com/@keithgalli</a></li>\n",
       "</ul>"
      ]
     },
     "execution_count": 77,
     "metadata": {},
     "output_type": "execute_result"
    }
   ],
   "source": [
    "# let's try doing something similar to our first approach.\n",
    "links=webpage.find('ul', attrs={'class': 'socials'})\n",
    "links"
   ]
  },
  {
   "cell_type": "markdown",
   "metadata": {},
   "source": [
    "This is the point that I got to when I worked on my own! \\\n",
    "Let's do a step further and grab the actual links."
   ]
  },
  {
   "cell_type": "code",
   "execution_count": 78,
   "metadata": {},
   "outputs": [
    {
     "data": {
      "text/plain": [
       "[<a href=\"https://www.instagram.com/keithgalli/\">https://www.instagram.com/keithgalli/</a>,\n",
       " <a href=\"https://twitter.com/keithgalli\">https://twitter.com/keithgalli</a>,\n",
       " <a href=\"https://www.linkedin.com/in/keithgalli/\">https://www.linkedin.com/in/keithgalli/</a>,\n",
       " <a href=\"https://www.tiktok.com/@keithgalli\">https://www.tiktok.com/@keithgalli</a>]"
      ]
     },
     "execution_count": 78,
     "metadata": {},
     "output_type": "execute_result"
    }
   ],
   "source": [
    "# from the 'links' object grab all the 'a' tags\n",
    "a_tags = links.find_all('a')\n",
    "a_tags"
   ]
  },
  {
   "cell_type": "code",
   "execution_count": 79,
   "metadata": {},
   "outputs": [
    {
     "data": {
      "text/plain": [
       "['https://www.instagram.com/keithgalli/',\n",
       " 'https://twitter.com/keithgalli',\n",
       " 'https://www.linkedin.com/in/keithgalli/',\n",
       " 'https://www.tiktok.com/@keithgalli']"
      ]
     },
     "execution_count": 79,
     "metadata": {},
     "output_type": "execute_result"
    }
   ],
   "source": [
    "# similar to befor we can now do a list comprehension to grab all the href=''\n",
    "[link['href'] for link in a_tags]"
   ]
  },
  {
   "cell_type": "code",
   "execution_count": 80,
   "metadata": {},
   "outputs": [
    {
     "data": {
      "text/plain": [
       "[<a href=\"https://www.instagram.com/keithgalli/\">https://www.instagram.com/keithgalli/</a>,\n",
       " <a href=\"https://twitter.com/keithgalli\">https://twitter.com/keithgalli</a>,\n",
       " <a href=\"https://www.linkedin.com/in/keithgalli/\">https://www.linkedin.com/in/keithgalli/</a>,\n",
       " <a href=\"https://www.tiktok.com/@keithgalli\">https://www.tiktok.com/@keithgalli</a>]"
      ]
     },
     "execution_count": 80,
     "metadata": {},
     "output_type": "execute_result"
    }
   ],
   "source": [
    "# one more way\n",
    "links = webpage.select('li.social a')\n",
    "links"
   ]
  },
  {
   "cell_type": "code",
   "execution_count": 81,
   "metadata": {},
   "outputs": [
    {
     "data": {
      "text/plain": [
       "['https://www.instagram.com/keithgalli/',\n",
       " 'https://twitter.com/keithgalli',\n",
       " 'https://www.linkedin.com/in/keithgalli/',\n",
       " 'https://www.tiktok.com/@keithgalli']"
      ]
     },
     "execution_count": 81,
     "metadata": {},
     "output_type": "execute_result"
    }
   ],
   "source": [
    "# and lets loop through one more time\n",
    "actual_links = [link['href'] for link in links]\n",
    "actual_links"
   ]
  },
  {
   "cell_type": "code",
   "execution_count": 89,
   "metadata": {},
   "outputs": [
    {
     "data": {
      "text/plain": [
       "[<th class=\"season\" data-sort=\"\">S</th>,\n",
       " <th class=\"team\" data-sort=\"team\">Team</th>,\n",
       " <th class=\"league\" data-sort=\"league\">League</th>,\n",
       " <th class=\"regular gp\" data-sort=\"gp\">GP</th>,\n",
       " <th class=\"regular g\" data-sort=\"g\">G</th>,\n",
       " <th class=\"regular a\" data-sort=\"a\">A</th>,\n",
       " <th class=\"regular tp\" data-sort=\"tp\">TP</th>,\n",
       " <th class=\"regular pim\" data-sort=\"pim\">PIM</th>,\n",
       " <th class=\"regular pm\" data-sort=\"pm\">+/-</th>,\n",
       " <th class=\"separator\"> </th>,\n",
       " <th class=\"postseason\">POST</th>,\n",
       " <th class=\"postseason gp\" data-sort=\"playoffs-gp\">GP</th>,\n",
       " <th class=\"postseason g\" data-sort=\"playoffs-g\">G</th>,\n",
       " <th class=\"postseason a\" data-sort=\"playoffs-a\">A</th>,\n",
       " <th class=\"postseason tp\" data-sort=\"playoffs-tp\">TP</th>,\n",
       " <th class=\"postseason pim\" data-sort=\"playoffs-pim\">PIM</th>,\n",
       " <th class=\"postseason pm\" data-sort=\"playoffs-pm\">+/-</th>]"
      ]
     },
     "execution_count": 89,
     "metadata": {},
     "output_type": "execute_result"
    }
   ],
   "source": [
    "# scrape the table from the keithgalli html page.\n",
    "table_headers = webpage.find('table').find_all('th')\n",
    "table_headers"
   ]
  },
  {
   "cell_type": "code",
   "execution_count": 92,
   "metadata": {},
   "outputs": [
    {
     "data": {
      "text/plain": [
       "['S',\n",
       " 'Team',\n",
       " 'League',\n",
       " 'GP',\n",
       " 'G',\n",
       " 'A',\n",
       " 'TP',\n",
       " 'PIM',\n",
       " '+/-',\n",
       " '\\xa0',\n",
       " 'POST',\n",
       " 'GP',\n",
       " 'G',\n",
       " 'A',\n",
       " 'TP',\n",
       " 'PIM',\n",
       " '+/-']"
      ]
     },
     "execution_count": 92,
     "metadata": {},
     "output_type": "execute_result"
    }
   ],
   "source": [
    "column_names=[th.string for th in table_headers]\n",
    "column_names"
   ]
  },
  {
   "cell_type": "code",
   "execution_count": 116,
   "metadata": {
    "scrolled": false
   },
   "outputs": [
    {
     "data": {
      "text/plain": [
       "[<tr class=\"team-continent-NA\">\n",
       " <td class=\"season sorted\">\n",
       "                   2014-15\n",
       "               </td>\n",
       " <td class=\"team\">\n",
       " <i><img src=\"images/flag.png\"/></i>\n",
       " <span class=\"txt-blue\">\n",
       " <a href=\"https://www.eliteprospects.com/team/10263/mit-mass.-inst.-of-tech./2014-2015?tab=stats\"> MIT (Mass. Inst. of Tech.) </a>\n",
       " </span>\n",
       " </td>\n",
       " <td class=\"league\"> <a href=\"https://www.eliteprospects.com/league/acha-ii/stats/2014-2015\"> ACHA II </a> </td>\n",
       " <td class=\"regular gp\">17</td>\n",
       " <td class=\"regular g\">3</td>\n",
       " <td class=\"regular a\">9</td>\n",
       " <td class=\"regular tp\">12</td>\n",
       " <td class=\"regular pim\">20</td>\n",
       " <td class=\"regular pm\"></td>\n",
       " <td class=\"separator\"> | </td>\n",
       " <td class=\"postseason\">\n",
       " <a href=\"https://www.eliteprospects.com/league/acha-ii/stats/2014-2015\"> </a>\n",
       " </td>\n",
       " <td class=\"postseason gp\">\n",
       " </td>\n",
       " <td class=\"postseason g\">\n",
       " </td>\n",
       " <td class=\"postseason a\">\n",
       " </td>\n",
       " <td class=\"postseason tp\">\n",
       " </td>\n",
       " <td class=\"postseason pim\">\n",
       " </td>\n",
       " <td class=\"postseason pm\">\n",
       " </td>\n",
       " </tr>, <tr class=\"team-continent-NA\">\n",
       " <td class=\"season sorted\">\n",
       "                   2015-16\n",
       "               </td>\n",
       " <td class=\"team\">\n",
       " <i><img src=\"images/flag.png\"/></i>\n",
       " <span class=\"txt-blue\">\n",
       " <a href=\"https://www.eliteprospects.com/team/10263/mit-mass.-inst.-of-tech./2015-2016?tab=stats\"> MIT (Mass. Inst. of Tech.) </a>\n",
       " </span>\n",
       " </td>\n",
       " <td class=\"league\"> <a href=\"https://www.eliteprospects.com/league/acha-ii/stats/2015-2016\"> ACHA II </a> </td>\n",
       " <td class=\"regular gp\">9</td>\n",
       " <td class=\"regular g\">1</td>\n",
       " <td class=\"regular a\">1</td>\n",
       " <td class=\"regular tp\">2</td>\n",
       " <td class=\"regular pim\">2</td>\n",
       " <td class=\"regular pm\"></td>\n",
       " <td class=\"separator\"> | </td>\n",
       " <td class=\"postseason\">\n",
       " <a href=\"https://www.eliteprospects.com/league/acha-ii/stats/2015-2016\"> </a>\n",
       " </td>\n",
       " <td class=\"postseason gp\">\n",
       " </td>\n",
       " <td class=\"postseason g\">\n",
       " </td>\n",
       " <td class=\"postseason a\">\n",
       " </td>\n",
       " <td class=\"postseason tp\">\n",
       " </td>\n",
       " <td class=\"postseason pim\">\n",
       " </td>\n",
       " <td class=\"postseason pm\">\n",
       " </td>\n",
       " </tr>, <tr class=\"team-continent-NA\">\n",
       " <td class=\"season sorted\">\n",
       "                   2016-17\n",
       "               </td>\n",
       " <td class=\"team\">\n",
       " <i><img src=\"images/flag.png\"/></i>\n",
       " <span class=\"txt-blue\">\n",
       " <a href=\"https://www.eliteprospects.com/team/10263/mit-mass.-inst.-of-tech./2016-2017?tab=stats\"> MIT (Mass. Inst. of Tech.) </a>\n",
       " </span>\n",
       " </td>\n",
       " <td class=\"league\"> <a href=\"https://www.eliteprospects.com/league/acha-ii/stats/2016-2017\"> ACHA II </a> </td>\n",
       " <td class=\"regular gp\">12</td>\n",
       " <td class=\"regular g\">5</td>\n",
       " <td class=\"regular a\">5</td>\n",
       " <td class=\"regular tp\">10</td>\n",
       " <td class=\"regular pim\">8</td>\n",
       " <td class=\"regular pm\">0</td>\n",
       " <td class=\"separator\"> | </td>\n",
       " <td class=\"postseason\">\n",
       " </td>\n",
       " <td class=\"postseason gp\">\n",
       " </td>\n",
       " <td class=\"postseason g\">\n",
       " </td>\n",
       " <td class=\"postseason a\">\n",
       " </td>\n",
       " <td class=\"postseason tp\">\n",
       " </td>\n",
       " <td class=\"postseason pim\">\n",
       " </td>\n",
       " <td class=\"postseason pm\">\n",
       " </td>\n",
       " </tr>, <tr class=\"team-continent-EU\">\n",
       " <td class=\"season sorted\">\n",
       "                   2017-18\n",
       "               </td>\n",
       " <td class=\"team\">\n",
       "                   Did not play\n",
       "               </td>\n",
       " <td class=\"league\"> <a href=\"https://www.eliteprospects.com/stats\"> </a> </td>\n",
       " <td class=\"regular gp\"></td>\n",
       " <td class=\"regular g\"></td>\n",
       " <td class=\"regular a\"></td>\n",
       " <td class=\"regular tp\"></td>\n",
       " <td class=\"regular pim\"></td>\n",
       " <td class=\"regular pm\"></td>\n",
       " <td class=\"separator\"> | </td>\n",
       " <td class=\"postseason\">\n",
       " <a href=\"https://www.eliteprospects.com/stats\"> </a>\n",
       " </td>\n",
       " <td class=\"postseason gp\">\n",
       " </td>\n",
       " <td class=\"postseason g\">\n",
       " </td>\n",
       " <td class=\"postseason a\">\n",
       " </td>\n",
       " <td class=\"postseason tp\">\n",
       " </td>\n",
       " <td class=\"postseason pim\">\n",
       " </td>\n",
       " <td class=\"postseason pm\">\n",
       " </td>\n",
       " </tr>, <tr class=\"team-continent-NA\">\n",
       " <td class=\"season sorted\">\n",
       "                   2018-19\n",
       "               </td>\n",
       " <td class=\"team\">\n",
       " <i><img src=\"images/flag.png\"/></i>\n",
       " <span class=\"txt-blue\">\n",
       " <a href=\"https://www.eliteprospects.com/team/10263/mit-mass.-inst.-of-tech./2018-2019?tab=stats\"> MIT (Mass. Inst. of Tech.) </a>\n",
       " </span>\n",
       " </td>\n",
       " <td class=\"league\"> <a href=\"https://www.eliteprospects.com/league/acha-iii/stats/2018-2019\"> ACHA III </a> </td>\n",
       " <td class=\"regular gp\">8</td>\n",
       " <td class=\"regular g\">5</td>\n",
       " <td class=\"regular a\">10</td>\n",
       " <td class=\"regular tp\">15</td>\n",
       " <td class=\"regular pim\">8</td>\n",
       " <td class=\"regular pm\"></td>\n",
       " <td class=\"separator\"> | </td>\n",
       " <td class=\"postseason\">\n",
       " <a href=\"https://www.eliteprospects.com/league/acha-iii/stats/2018-2019\"> </a>\n",
       " </td>\n",
       " <td class=\"postseason gp\">\n",
       " </td>\n",
       " <td class=\"postseason g\">\n",
       " </td>\n",
       " <td class=\"postseason a\">\n",
       " </td>\n",
       " <td class=\"postseason tp\">\n",
       " </td>\n",
       " <td class=\"postseason pim\">\n",
       " </td>\n",
       " <td class=\"postseason pm\">\n",
       " </td>\n",
       " </tr>]"
      ]
     },
     "execution_count": 116,
     "metadata": {},
     "output_type": "execute_result"
    }
   ],
   "source": [
    "# all of the table rows in a list\n",
    "table_rows_list =webpage.find('tbody').find_all('tr')\n",
    "table_rows_list"
   ]
  },
  {
   "cell_type": "code",
   "execution_count": 118,
   "metadata": {},
   "outputs": [
    {
     "name": "stdout",
     "output_type": "stream",
     "text": [
      "<tr class=\"team-continent-NA\">\n",
      " <td class=\"season sorted\">\n",
      "  2014-15\n",
      " </td>\n",
      " <td class=\"team\">\n",
      "  <i>\n",
      "   <img src=\"images/flag.png\"/>\n",
      "  </i>\n",
      "  <span class=\"txt-blue\">\n",
      "   <a href=\"https://www.eliteprospects.com/team/10263/mit-mass.-inst.-of-tech./2014-2015?tab=stats\">\n",
      "    MIT (Mass. Inst. of Tech.)\n",
      "   </a>\n",
      "  </span>\n",
      " </td>\n",
      " <td class=\"league\">\n",
      "  <a href=\"https://www.eliteprospects.com/league/acha-ii/stats/2014-2015\">\n",
      "   ACHA II\n",
      "  </a>\n",
      " </td>\n",
      " <td class=\"regular gp\">\n",
      "  17\n",
      " </td>\n",
      " <td class=\"regular g\">\n",
      "  3\n",
      " </td>\n",
      " <td class=\"regular a\">\n",
      "  9\n",
      " </td>\n",
      " <td class=\"regular tp\">\n",
      "  12\n",
      " </td>\n",
      " <td class=\"regular pim\">\n",
      "  20\n",
      " </td>\n",
      " <td class=\"regular pm\">\n",
      " </td>\n",
      " <td class=\"separator\">\n",
      "  |\n",
      " </td>\n",
      " <td class=\"postseason\">\n",
      "  <a href=\"https://www.eliteprospects.com/league/acha-ii/stats/2014-2015\">\n",
      "  </a>\n",
      " </td>\n",
      " <td class=\"postseason gp\">\n",
      " </td>\n",
      " <td class=\"postseason g\">\n",
      " </td>\n",
      " <td class=\"postseason a\">\n",
      " </td>\n",
      " <td class=\"postseason tp\">\n",
      " </td>\n",
      " <td class=\"postseason pim\">\n",
      " </td>\n",
      " <td class=\"postseason pm\">\n",
      " </td>\n",
      "</tr>\n",
      "\n"
     ]
    }
   ],
   "source": [
    "# looking at the first item in the list\n",
    "# create an empty dictionary to store details\n",
    "print(table_rows_list[0].prettify())\n",
    "table_row_dict={}"
   ]
  },
  {
   "cell_type": "code",
   "execution_count": 127,
   "metadata": {
    "scrolled": true
   },
   "outputs": [
    {
     "data": {
      "text/plain": [
       "'\\n                  2014-15\\n              '"
      ]
     },
     "execution_count": 127,
     "metadata": {},
     "output_type": "execute_result"
    }
   ],
   "source": [
    "# to get the season information go down to where the season is contained in the bs_object.\n",
    "first_row = table_rows_list[0]\n",
    "first_row.find('td', attrs={'class':'season sorted'}).string"
   ]
  },
  {
   "cell_type": "code",
   "execution_count": 129,
   "metadata": {},
   "outputs": [
    {
     "data": {
      "text/plain": [
       "'\\n                  2014-15\\n              '"
      ]
     },
     "execution_count": 129,
     "metadata": {},
     "output_type": "execute_result"
    }
   ],
   "source": [
    "#How does it look with .get_text()?\n",
    "first_row.find('td', attrs={'class':'season sorted'}).get_text()"
   ]
  },
  {
   "cell_type": "code",
   "execution_count": 131,
   "metadata": {},
   "outputs": [
    {
     "data": {
      "text/plain": [
       "'\\n                  2014-15\\n              '"
      ]
     },
     "execution_count": 131,
     "metadata": {},
     "output_type": "execute_result"
    }
   ],
   "source": [
    "# since these look the same let's clean up the string.\n",
    "# give the string a variable name 'season_string'\n",
    "season_string = first_row.find('td', attrs={'class':'season sorted'}).get_text()\n",
    "season_string"
   ]
  },
  {
   "cell_type": "code",
   "execution_count": 135,
   "metadata": {},
   "outputs": [
    {
     "data": {
      "text/plain": [
       "'2014-15'"
      ]
     },
     "execution_count": 135,
     "metadata": {},
     "output_type": "execute_result"
    }
   ],
   "source": [
    "# get rid of the white space and new new lines with .strip()\n",
    "season_string.strip()"
   ]
  },
  {
   "cell_type": "code",
   "execution_count": 139,
   "metadata": {},
   "outputs": [
    {
     "data": {
      "text/plain": [
       "['2014-15', '2015-16', '2016-17', '2017-18', '2018-19']"
      ]
     },
     "execution_count": 139,
     "metadata": {},
     "output_type": "execute_result"
    }
   ],
   "source": [
    "# putting this example into a for a loop to make a list of all of the seasons.\n",
    "seasons_list=[]\n",
    "for r in table_rows_list:\n",
    "    season_string=r.find('td', attrs={'class':'season sorted'}).get_text()\n",
    "    seasons_list.append(season_string.strip())\n",
    "seasons_list"
   ]
  },
  {
   "cell_type": "markdown",
   "metadata": {},
   "source": [
    "### function: create_seasons_list()"
   ]
  },
  {
   "cell_type": "code",
   "execution_count": 141,
   "metadata": {},
   "outputs": [
    {
     "data": {
      "text/plain": [
       "['2014-15', '2015-16', '2016-17', '2017-18', '2018-19']"
      ]
     },
     "execution_count": 141,
     "metadata": {},
     "output_type": "execute_result"
    }
   ],
   "source": [
    "# let's make the for loop into a function to call the seasons_list for the pandas dataframe.\n",
    "def create_seasons_list():\n",
    "    seasons_list = []\n",
    "    for r in table_rows_list:\n",
    "        season_string=r.find('td', attrs={'class':'season sorted'}).get_text()\n",
    "        seasons_list.append(season_string.strip())\n",
    "    return(seasons_list)\n",
    "\n",
    "create_seasons_list()"
   ]
  },
  {
   "cell_type": "code",
   "execution_count": 156,
   "metadata": {},
   "outputs": [
    {
     "data": {
      "text/plain": [
       "<td class=\"team\">\n",
       "<i><img src=\"images/flag.png\"/></i>\n",
       "<span class=\"txt-blue\">\n",
       "<a href=\"https://www.eliteprospects.com/team/10263/mit-mass.-inst.-of-tech./2014-2015?tab=stats\"> MIT (Mass. Inst. of Tech.) </a>\n",
       "</span>\n",
       "</td>"
      ]
     },
     "execution_count": 156,
     "metadata": {},
     "output_type": "execute_result"
    }
   ],
   "source": [
    "# grab the team information:\n",
    "team_info = table_rows_list[0].find('td', attrs={'class':'team'})\n",
    "team_info"
   ]
  },
  {
   "cell_type": "code",
   "execution_count": 161,
   "metadata": {},
   "outputs": [
    {
     "data": {
      "text/plain": [
       "'MIT (Mass. Inst. of Tech.)'"
      ]
     },
     "execution_count": 161,
     "metadata": {},
     "output_type": "execute_result"
    }
   ],
   "source": [
    "team_name = team_info.find('a').get_text().strip()\n",
    "team_name"
   ]
  },
  {
   "cell_type": "code",
   "execution_count": 166,
   "metadata": {},
   "outputs": [
    {
     "data": {
      "text/plain": [
       "'https://www.eliteprospects.com/team/10263/mit-mass.-inst.-of-tech./2014-2015?tab=stats'"
      ]
     },
     "execution_count": 166,
     "metadata": {},
     "output_type": "execute_result"
    }
   ],
   "source": [
    "team_season_link = team_info.find('a')\n",
    "team_season_link['href']"
   ]
  },
  {
   "cell_type": "code",
   "execution_count": 201,
   "metadata": {},
   "outputs": [
    {
     "data": {
      "text/plain": [
       "(['MIT (Mass. Inst. of Tech.)',\n",
       "  'MIT (Mass. Inst. of Tech.)',\n",
       "  'MIT (Mass. Inst. of Tech.)',\n",
       "  'Did not play',\n",
       "  'MIT (Mass. Inst. of Tech.)'],\n",
       " ['https://www.eliteprospects.com/team/10263/mit-mass.-inst.-of-tech./2014-2015?tab=stats',\n",
       "  'https://www.eliteprospects.com/team/10263/mit-mass.-inst.-of-tech./2015-2016?tab=stats',\n",
       "  'https://www.eliteprospects.com/team/10263/mit-mass.-inst.-of-tech./2016-2017?tab=stats',\n",
       "  '',\n",
       "  'https://www.eliteprospects.com/team/10263/mit-mass.-inst.-of-tech./2018-2019?tab=stats'])"
      ]
     },
     "execution_count": 201,
     "metadata": {},
     "output_type": "execute_result"
    }
   ],
   "source": [
    "#putting this example into a for loop to make lists of team names & season links\n",
    "team_name_list=[]\n",
    "team_links_list=[]\n",
    "for r in table_rows_list:\n",
    "    team_info=r.find('td', attrs={'class':'team'})\n",
    "    if team_info.find('a'):\n",
    "        team_name=team_info.find('a').get_text().strip()\n",
    "        team_season_link=team_info.find('a')\n",
    "        team_name_list.append(team_name)\n",
    "        team_season_link = team_info.find('a')\n",
    "        team_links_list.append(team_season_link['href'])\n",
    "    else:\n",
    "        team_name=team_info.get_text().strip()\n",
    "        team_season_link= \"\"\n",
    "        team_name_list.append(team_name)\n",
    "        team_links_list.append(team_season_link)\n",
    "\n",
    "team_name_list, team_links_list"
   ]
  },
  {
   "cell_type": "markdown",
   "metadata": {},
   "source": [
    "### function: create_team_name_links_list()"
   ]
  },
  {
   "cell_type": "code",
   "execution_count": 230,
   "metadata": {},
   "outputs": [],
   "source": [
    "# Let's make a function!\n",
    "\n",
    "def create_team_name_links_lists():\n",
    "    team_name_list=[]\n",
    "    team_links_list=[]\n",
    "    for r in table_rows_list:\n",
    "        team_info=r.find('td', attrs={'class':'team'})\n",
    "        if team_info.find('a'):\n",
    "            team_name=team_info.find('a').get_text().strip()\n",
    "            team_season_link=team_info.find('a')\n",
    "            team_name_list.append(team_name)\n",
    "            team_season_link = team_info.find('a')\n",
    "            team_links_list.append(team_season_link['href'])\n",
    "        else:\n",
    "            team_name=team_info.get_text().strip()\n",
    "            team_season_link= \"\"\n",
    "            team_name_list.append(team_name)\n",
    "            team_links_list.append(team_season_link)\n",
    "\n",
    "    return(team_name_list, team_links_list)\n",
    "\n",
    "(team_name_list, team_links_list) = create_team_name_links_lists()"
   ]
  },
  {
   "cell_type": "code",
   "execution_count": 205,
   "metadata": {},
   "outputs": [
    {
     "data": {
      "text/plain": [
       "(['MIT (Mass. Inst. of Tech.)',\n",
       "  'MIT (Mass. Inst. of Tech.)',\n",
       "  'MIT (Mass. Inst. of Tech.)',\n",
       "  'Did not play',\n",
       "  'MIT (Mass. Inst. of Tech.)'],\n",
       " ['https://www.eliteprospects.com/team/10263/mit-mass.-inst.-of-tech./2014-2015?tab=stats',\n",
       "  'https://www.eliteprospects.com/team/10263/mit-mass.-inst.-of-tech./2015-2016?tab=stats',\n",
       "  'https://www.eliteprospects.com/team/10263/mit-mass.-inst.-of-tech./2016-2017?tab=stats',\n",
       "  '',\n",
       "  'https://www.eliteprospects.com/team/10263/mit-mass.-inst.-of-tech./2018-2019?tab=stats'])"
      ]
     },
     "execution_count": 205,
     "metadata": {},
     "output_type": "execute_result"
    }
   ],
   "source": [
    "# sanity check: looking at the lists created from the function.\n",
    "team_name_list, team_links_list"
   ]
  },
  {
   "cell_type": "code",
   "execution_count": 221,
   "metadata": {},
   "outputs": [
    {
     "data": {
      "text/plain": [
       "<td class=\"league\"> <a href=\"https://www.eliteprospects.com/league/acha-ii/stats/2014-2015\"> ACHA II </a> </td>"
      ]
     },
     "execution_count": 221,
     "metadata": {},
     "output_type": "execute_result"
    }
   ],
   "source": [
    "# get the league info for the 'league' column\n",
    "# test with the first item in 'table_rows_list'\n",
    "league_info=table_rows_list[0].find('td',attrs={'class':'league'})\n",
    "league_info"
   ]
  },
  {
   "cell_type": "code",
   "execution_count": 217,
   "metadata": {},
   "outputs": [
    {
     "data": {
      "text/plain": [
       "'ACHA II'"
      ]
     },
     "execution_count": 217,
     "metadata": {},
     "output_type": "execute_result"
    }
   ],
   "source": [
    "# get the league name with .get_text()\n",
    "league = league_info.get_text().strip()\n",
    "league"
   ]
  },
  {
   "cell_type": "code",
   "execution_count": 220,
   "metadata": {},
   "outputs": [
    {
     "data": {
      "text/plain": [
       "'https://www.eliteprospects.com/league/acha-ii/stats/2014-2015'"
      ]
     },
     "execution_count": 220,
     "metadata": {},
     "output_type": "execute_result"
    }
   ],
   "source": [
    "# get the league link with find('a') and ['href']\n",
    "league_link=league_info.find('a')\n",
    "league_link['href']"
   ]
  },
  {
   "cell_type": "code",
   "execution_count": 222,
   "metadata": {},
   "outputs": [
    {
     "data": {
      "text/plain": [
       "<tr class=\"team-continent-EU\">\n",
       "<td class=\"season sorted\">\n",
       "                  2017-18\n",
       "              </td>\n",
       "<td class=\"team\">\n",
       "                  Did not play\n",
       "              </td>\n",
       "<td class=\"league\"> <a href=\"https://www.eliteprospects.com/stats\"> </a> </td>\n",
       "<td class=\"regular gp\"></td>\n",
       "<td class=\"regular g\"></td>\n",
       "<td class=\"regular a\"></td>\n",
       "<td class=\"regular tp\"></td>\n",
       "<td class=\"regular pim\"></td>\n",
       "<td class=\"regular pm\"></td>\n",
       "<td class=\"separator\"> | </td>\n",
       "<td class=\"postseason\">\n",
       "<a href=\"https://www.eliteprospects.com/stats\"> </a>\n",
       "</td>\n",
       "<td class=\"postseason gp\">\n",
       "</td>\n",
       "<td class=\"postseason g\">\n",
       "</td>\n",
       "<td class=\"postseason a\">\n",
       "</td>\n",
       "<td class=\"postseason tp\">\n",
       "</td>\n",
       "<td class=\"postseason pim\">\n",
       "</td>\n",
       "<td class=\"postseason pm\">\n",
       "</td>\n",
       "</tr>"
      ]
     },
     "execution_count": 222,
     "metadata": {},
     "output_type": "execute_result"
    }
   ],
   "source": [
    "# test this with the 'Did not play' table_rows_list[3] info:\n",
    "table_rows_list[3]"
   ]
  },
  {
   "cell_type": "code",
   "execution_count": 226,
   "metadata": {},
   "outputs": [
    {
     "data": {
      "text/plain": [
       "''"
      ]
     },
     "execution_count": 226,
     "metadata": {},
     "output_type": "execute_result"
    }
   ],
   "source": [
    "league_info=table_rows_list[3].find('td',attrs={'class':'league'})\n",
    "league_info.get_text().strip()"
   ]
  },
  {
   "cell_type": "code",
   "execution_count": 227,
   "metadata": {},
   "outputs": [
    {
     "data": {
      "text/plain": [
       "''"
      ]
     },
     "execution_count": 227,
     "metadata": {},
     "output_type": "execute_result"
    }
   ],
   "source": [
    "league = league_info.get_text().strip()\n",
    "league"
   ]
  },
  {
   "cell_type": "code",
   "execution_count": 229,
   "metadata": {},
   "outputs": [
    {
     "data": {
      "text/plain": [
       "(['ACHA II', 'ACHA II', 'ACHA II', '', 'ACHA III'],\n",
       " ['https://www.eliteprospects.com/league/acha-ii/stats/2014-2015',\n",
       "  'https://www.eliteprospects.com/league/acha-ii/stats/2015-2016',\n",
       "  'https://www.eliteprospects.com/league/acha-ii/stats/2016-2017',\n",
       "  'https://www.eliteprospects.com/stats',\n",
       "  'https://www.eliteprospects.com/league/acha-iii/stats/2018-2019'])"
      ]
     },
     "execution_count": 229,
     "metadata": {},
     "output_type": "execute_result"
    }
   ],
   "source": [
    "# you get empty information for the year that is not played table_rows_list[3]\n",
    "# I think this will be okay to add into the list\n",
    "\n",
    "# go forward with creating the loop.\n",
    "\n",
    "league_list=[]\n",
    "league_link_list=[]\n",
    "for r in table_rows_list:\n",
    "    league_info=r.find('td', attrs={'class':'league'})\n",
    "    league_list.append(league_info.get_text().strip())\n",
    "    league_link=league_info.find('a')\n",
    "    league_link_list.append(league_link['href'])\n",
    "\n",
    "league_list, league_link_list"
   ]
  },
  {
   "cell_type": "code",
   "execution_count": 231,
   "metadata": {},
   "outputs": [],
   "source": [
    "def create_league_name_link_lists():\n",
    "    league_list=[]\n",
    "    league_link_list=[]\n",
    "    for r in table_rows_list:\n",
    "        league_info=r.find('td', attrs={'class':'league'})\n",
    "        league_list.append(league_info.get_text().strip())\n",
    "        league_link=league_info.find('a')\n",
    "        league_link_list.append(league_link['href'])\n",
    "\n",
    "    return(league_list, league_link_list)\n",
    "\n",
    "league_list, league_link_list=create_league_name_link_lists()"
   ]
  },
  {
   "cell_type": "code",
   "execution_count": 232,
   "metadata": {},
   "outputs": [
    {
     "data": {
      "text/plain": [
       "['ACHA II', 'ACHA II', 'ACHA II', '', 'ACHA III']"
      ]
     },
     "execution_count": 232,
     "metadata": {},
     "output_type": "execute_result"
    }
   ],
   "source": [
    "league_list"
   ]
  },
  {
   "cell_type": "code",
   "execution_count": 233,
   "metadata": {},
   "outputs": [
    {
     "data": {
      "text/plain": [
       "['https://www.eliteprospects.com/league/acha-ii/stats/2014-2015',\n",
       " 'https://www.eliteprospects.com/league/acha-ii/stats/2015-2016',\n",
       " 'https://www.eliteprospects.com/league/acha-ii/stats/2016-2017',\n",
       " 'https://www.eliteprospects.com/stats',\n",
       " 'https://www.eliteprospects.com/league/acha-iii/stats/2018-2019']"
      ]
     },
     "execution_count": 233,
     "metadata": {},
     "output_type": "execute_result"
    }
   ],
   "source": [
    "league_link_list"
   ]
  },
  {
   "cell_type": "code",
   "execution_count": 237,
   "metadata": {
    "collapsed": true
   },
   "outputs": [
    {
     "data": {
      "text/plain": [
       "[<tr class=\"team-continent-NA\">\n",
       " <td class=\"season sorted\">\n",
       "                   2014-15\n",
       "               </td>\n",
       " <td class=\"team\">\n",
       " <i><img src=\"images/flag.png\"/></i>\n",
       " <span class=\"txt-blue\">\n",
       " <a href=\"https://www.eliteprospects.com/team/10263/mit-mass.-inst.-of-tech./2014-2015?tab=stats\"> MIT (Mass. Inst. of Tech.) </a>\n",
       " </span>\n",
       " </td>\n",
       " <td class=\"league\"> <a href=\"https://www.eliteprospects.com/league/acha-ii/stats/2014-2015\"> ACHA II </a> </td>\n",
       " <td class=\"regular gp\">17</td>\n",
       " <td class=\"regular g\">3</td>\n",
       " <td class=\"regular a\">9</td>\n",
       " <td class=\"regular tp\">12</td>\n",
       " <td class=\"regular pim\">20</td>\n",
       " <td class=\"regular pm\"></td>\n",
       " <td class=\"separator\"> | </td>\n",
       " <td class=\"postseason\">\n",
       " <a href=\"https://www.eliteprospects.com/league/acha-ii/stats/2014-2015\"> </a>\n",
       " </td>\n",
       " <td class=\"postseason gp\">\n",
       " </td>\n",
       " <td class=\"postseason g\">\n",
       " </td>\n",
       " <td class=\"postseason a\">\n",
       " </td>\n",
       " <td class=\"postseason tp\">\n",
       " </td>\n",
       " <td class=\"postseason pim\">\n",
       " </td>\n",
       " <td class=\"postseason pm\">\n",
       " </td>\n",
       " </tr>, <tr class=\"team-continent-NA\">\n",
       " <td class=\"season sorted\">\n",
       "                   2015-16\n",
       "               </td>\n",
       " <td class=\"team\">\n",
       " <i><img src=\"images/flag.png\"/></i>\n",
       " <span class=\"txt-blue\">\n",
       " <a href=\"https://www.eliteprospects.com/team/10263/mit-mass.-inst.-of-tech./2015-2016?tab=stats\"> MIT (Mass. Inst. of Tech.) </a>\n",
       " </span>\n",
       " </td>\n",
       " <td class=\"league\"> <a href=\"https://www.eliteprospects.com/league/acha-ii/stats/2015-2016\"> ACHA II </a> </td>\n",
       " <td class=\"regular gp\">9</td>\n",
       " <td class=\"regular g\">1</td>\n",
       " <td class=\"regular a\">1</td>\n",
       " <td class=\"regular tp\">2</td>\n",
       " <td class=\"regular pim\">2</td>\n",
       " <td class=\"regular pm\"></td>\n",
       " <td class=\"separator\"> | </td>\n",
       " <td class=\"postseason\">\n",
       " <a href=\"https://www.eliteprospects.com/league/acha-ii/stats/2015-2016\"> </a>\n",
       " </td>\n",
       " <td class=\"postseason gp\">\n",
       " </td>\n",
       " <td class=\"postseason g\">\n",
       " </td>\n",
       " <td class=\"postseason a\">\n",
       " </td>\n",
       " <td class=\"postseason tp\">\n",
       " </td>\n",
       " <td class=\"postseason pim\">\n",
       " </td>\n",
       " <td class=\"postseason pm\">\n",
       " </td>\n",
       " </tr>, <tr class=\"team-continent-NA\">\n",
       " <td class=\"season sorted\">\n",
       "                   2016-17\n",
       "               </td>\n",
       " <td class=\"team\">\n",
       " <i><img src=\"images/flag.png\"/></i>\n",
       " <span class=\"txt-blue\">\n",
       " <a href=\"https://www.eliteprospects.com/team/10263/mit-mass.-inst.-of-tech./2016-2017?tab=stats\"> MIT (Mass. Inst. of Tech.) </a>\n",
       " </span>\n",
       " </td>\n",
       " <td class=\"league\"> <a href=\"https://www.eliteprospects.com/league/acha-ii/stats/2016-2017\"> ACHA II </a> </td>\n",
       " <td class=\"regular gp\">12</td>\n",
       " <td class=\"regular g\">5</td>\n",
       " <td class=\"regular a\">5</td>\n",
       " <td class=\"regular tp\">10</td>\n",
       " <td class=\"regular pim\">8</td>\n",
       " <td class=\"regular pm\">0</td>\n",
       " <td class=\"separator\"> | </td>\n",
       " <td class=\"postseason\">\n",
       " </td>\n",
       " <td class=\"postseason gp\">\n",
       " </td>\n",
       " <td class=\"postseason g\">\n",
       " </td>\n",
       " <td class=\"postseason a\">\n",
       " </td>\n",
       " <td class=\"postseason tp\">\n",
       " </td>\n",
       " <td class=\"postseason pim\">\n",
       " </td>\n",
       " <td class=\"postseason pm\">\n",
       " </td>\n",
       " </tr>, <tr class=\"team-continent-EU\">\n",
       " <td class=\"season sorted\">\n",
       "                   2017-18\n",
       "               </td>\n",
       " <td class=\"team\">\n",
       "                   Did not play\n",
       "               </td>\n",
       " <td class=\"league\"> <a href=\"https://www.eliteprospects.com/stats\"> </a> </td>\n",
       " <td class=\"regular gp\"></td>\n",
       " <td class=\"regular g\"></td>\n",
       " <td class=\"regular a\"></td>\n",
       " <td class=\"regular tp\"></td>\n",
       " <td class=\"regular pim\"></td>\n",
       " <td class=\"regular pm\"></td>\n",
       " <td class=\"separator\"> | </td>\n",
       " <td class=\"postseason\">\n",
       " <a href=\"https://www.eliteprospects.com/stats\"> </a>\n",
       " </td>\n",
       " <td class=\"postseason gp\">\n",
       " </td>\n",
       " <td class=\"postseason g\">\n",
       " </td>\n",
       " <td class=\"postseason a\">\n",
       " </td>\n",
       " <td class=\"postseason tp\">\n",
       " </td>\n",
       " <td class=\"postseason pim\">\n",
       " </td>\n",
       " <td class=\"postseason pm\">\n",
       " </td>\n",
       " </tr>, <tr class=\"team-continent-NA\">\n",
       " <td class=\"season sorted\">\n",
       "                   2018-19\n",
       "               </td>\n",
       " <td class=\"team\">\n",
       " <i><img src=\"images/flag.png\"/></i>\n",
       " <span class=\"txt-blue\">\n",
       " <a href=\"https://www.eliteprospects.com/team/10263/mit-mass.-inst.-of-tech./2018-2019?tab=stats\"> MIT (Mass. Inst. of Tech.) </a>\n",
       " </span>\n",
       " </td>\n",
       " <td class=\"league\"> <a href=\"https://www.eliteprospects.com/league/acha-iii/stats/2018-2019\"> ACHA III </a> </td>\n",
       " <td class=\"regular gp\">8</td>\n",
       " <td class=\"regular g\">5</td>\n",
       " <td class=\"regular a\">10</td>\n",
       " <td class=\"regular tp\">15</td>\n",
       " <td class=\"regular pim\">8</td>\n",
       " <td class=\"regular pm\"></td>\n",
       " <td class=\"separator\"> | </td>\n",
       " <td class=\"postseason\">\n",
       " <a href=\"https://www.eliteprospects.com/league/acha-iii/stats/2018-2019\"> </a>\n",
       " </td>\n",
       " <td class=\"postseason gp\">\n",
       " </td>\n",
       " <td class=\"postseason g\">\n",
       " </td>\n",
       " <td class=\"postseason a\">\n",
       " </td>\n",
       " <td class=\"postseason tp\">\n",
       " </td>\n",
       " <td class=\"postseason pim\">\n",
       " </td>\n",
       " <td class=\"postseason pm\">\n",
       " </td>\n",
       " </tr>]"
      ]
     },
     "execution_count": 237,
     "metadata": {},
     "output_type": "execute_result"
    }
   ],
   "source": [
    "# look at table_rows_list again to see whats next...\n",
    "table_rows_list"
   ]
  },
  {
   "cell_type": "code",
   "execution_count": 236,
   "metadata": {},
   "outputs": [
    {
     "name": "stdout",
     "output_type": "stream",
     "text": [
      "['S', 'Team', 'League', 'GP', 'G', 'A', 'TP', 'PIM', '+/-', '\\xa0', 'POST', 'GP', 'G', 'A', 'TP', 'PIM', '+/-']\n"
     ]
    }
   ],
   "source": [
    "# what were the column headers again?\n",
    "print(column_names)"
   ]
  },
  {
   "cell_type": "code",
   "execution_count": 249,
   "metadata": {},
   "outputs": [
    {
     "data": {
      "text/plain": [
       "['17', '9', '12', 0, '8']"
      ]
     },
     "execution_count": 249,
     "metadata": {},
     "output_type": "execute_result"
    }
   ],
   "source": [
    "# try to see if there is the same for loop being repeated so we could use parameters to put into a function.\n",
    "gp_list=[]\n",
    "for r in table_rows_list:\n",
    "    gp_info=r.find('td', attrs={'class':'regular gp'})\n",
    "    if gp_info.get_text()=='':\n",
    "        gp_list.append(0)\n",
    "        \n",
    "    else:\n",
    "        gp_list.append(gp_info.get_text())\n",
    "\n",
    "gp_list"
   ]
  },
  {
   "cell_type": "code",
   "execution_count": 250,
   "metadata": {},
   "outputs": [
    {
     "data": {
      "text/plain": [
       "[17, 9, 12, 0, 8]"
      ]
     },
     "execution_count": 250,
     "metadata": {},
     "output_type": "execute_result"
    }
   ],
   "source": [
    "[int(x) for x in gp_list]"
   ]
  },
  {
   "cell_type": "code",
   "execution_count": 255,
   "metadata": {},
   "outputs": [
    {
     "data": {
      "text/plain": [
       "['3', '1', '5', 0, '5']"
      ]
     },
     "execution_count": 255,
     "metadata": {},
     "output_type": "execute_result"
    }
   ],
   "source": [
    "g_list=[]\n",
    "for r in table_rows_list:\n",
    "    g_info=r.find('td', attrs={'class': 'regular g'})\n",
    "    if g_info.get_text()=='':\n",
    "        g_list.append(0)\n",
    "    else:\n",
    "        g_list.append(g_info.get_text())\n",
    "g_list"
   ]
  },
  {
   "cell_type": "code",
   "execution_count": 256,
   "metadata": {},
   "outputs": [
    {
     "data": {
      "text/plain": [
       "[3, 1, 5, 0, 5]"
      ]
     },
     "execution_count": 256,
     "metadata": {},
     "output_type": "execute_result"
    }
   ],
   "source": [
    "[int(x) for x in g_list]"
   ]
  },
  {
   "cell_type": "code",
   "execution_count": 351,
   "metadata": {},
   "outputs": [
    {
     "data": {
      "text/plain": [
       "['GP', 'G', 'A', 'TP', 'PIM', '+/-']"
      ]
     },
     "execution_count": 351,
     "metadata": {},
     "output_type": "execute_result"
    }
   ],
   "source": [
    "# work on creating a function that will make lists for each numerical stats.\n",
    "stats=['GP','G','A','TP','PIM', '+/-']\n",
    "stats"
   ]
  },
  {
   "cell_type": "code",
   "execution_count": 352,
   "metadata": {},
   "outputs": [],
   "source": [
    "# lower the stats names to match the text in html.\n",
    "stats = [str.lower(x) for x in stats]"
   ]
  },
  {
   "cell_type": "code",
   "execution_count": 353,
   "metadata": {},
   "outputs": [
    {
     "data": {
      "text/plain": [
       "{'gp': '', 'g': '', 'a': '', 'tp': '', 'pim': '', '+/-': ''}"
      ]
     },
     "execution_count": 353,
     "metadata": {},
     "output_type": "execute_result"
    }
   ],
   "source": [
    "stats_dictionary = {}\n",
    "for x in stats:\n",
    "    stats_dictionary[x]=''\n",
    "stats_dictionary\n"
   ]
  },
  {
   "cell_type": "code",
   "execution_count": 354,
   "metadata": {},
   "outputs": [],
   "source": [
    "# stats_dictionary['gp'].append(0)\n",
    "# stats_dictionary"
   ]
  },
  {
   "cell_type": "code",
   "execution_count": 355,
   "metadata": {},
   "outputs": [],
   "source": [
    "# for i in stats_dictionary:\n",
    "#     info=table_rows_list[0].find('td', attrs={'class': f'regular {i}'})\n",
    "#     if info:\n",
    "#         stats_dictionary[i]=(int(info.get_text()))\n",
    "#     else:\n",
    "#         stats_dictionary[i]='Null'\n",
    "    \n",
    "# stats_dictionary"
   ]
  },
  {
   "cell_type": "code",
   "execution_count": null,
   "metadata": {},
   "outputs": [],
   "source": []
  },
  {
   "cell_type": "code",
   "execution_count": 356,
   "metadata": {},
   "outputs": [
    {
     "data": {
      "text/plain": [
       "<tr class=\"team-continent-EU\">\n",
       "<td class=\"season sorted\">\n",
       "                  2017-18\n",
       "              </td>\n",
       "<td class=\"team\">\n",
       "                  Did not play\n",
       "              </td>\n",
       "<td class=\"league\"> <a href=\"https://www.eliteprospects.com/stats\"> </a> </td>\n",
       "<td class=\"regular gp\"></td>\n",
       "<td class=\"regular g\"></td>\n",
       "<td class=\"regular a\"></td>\n",
       "<td class=\"regular tp\"></td>\n",
       "<td class=\"regular pim\"></td>\n",
       "<td class=\"regular pm\"></td>\n",
       "<td class=\"separator\"> | </td>\n",
       "<td class=\"postseason\">\n",
       "<a href=\"https://www.eliteprospects.com/stats\"> </a>\n",
       "</td>\n",
       "<td class=\"postseason gp\">\n",
       "</td>\n",
       "<td class=\"postseason g\">\n",
       "</td>\n",
       "<td class=\"postseason a\">\n",
       "</td>\n",
       "<td class=\"postseason tp\">\n",
       "</td>\n",
       "<td class=\"postseason pim\">\n",
       "</td>\n",
       "<td class=\"postseason pm\">\n",
       "</td>\n",
       "</tr>"
      ]
     },
     "execution_count": 356,
     "metadata": {},
     "output_type": "execute_result"
    }
   ],
   "source": [
    "# Let's see whats going on with the 'Did Not Play Row'\n",
    "table_rows_list[3]"
   ]
  },
  {
   "cell_type": "code",
   "execution_count": 366,
   "metadata": {},
   "outputs": [
    {
     "name": "stdout",
     "output_type": "stream",
     "text": [
      "gp No Text\n",
      "g No Text\n",
      "a No Text\n",
      "tp No Text\n",
      "pim No Text\n",
      "+/- Null\n"
     ]
    }
   ],
   "source": [
    "for i in stats_dictionary:\n",
    "    if table_rows_list[3].find('td', attrs={'class': f'regular {i}'}):\n",
    "        info=table_rows_list[3].find('td', attrs={'class': f'regular {i}'})\n",
    "        if info.get_text()=='':\n",
    "            print(i, 'No Text')\n",
    "        else:\n",
    "            print(i)\n",
    "    else:\n",
    "        print(i, 'Null')\n",
    "    "
   ]
  },
  {
   "cell_type": "code",
   "execution_count": 375,
   "metadata": {},
   "outputs": [],
   "source": [
    "numeric_stats_list=[]\n",
    "for r in table_rows_list:\n",
    "    stats=['GP','G','A','TP','PIM', '+/-']\n",
    "    stats=[str.lower(x) for x in stats]\n",
    "    stats_dictionary={}\n",
    "    for i in stats:\n",
    "        if r.find('td', attrs={'class': f'regular {i}'}):\n",
    "            info=r.find('td', attrs={'class': f'regular {i}'})\n",
    "            if info.get_text()!='':\n",
    "                stats_dictionary[i]=(int(info.get_text()))\n",
    "            else:\n",
    "                stats_dictionary[i]=''\n",
    "        else:\n",
    "            stats_dictionary[i]=''\n",
    "    numeric_stats_list.append(stats_dictionary)"
   ]
  },
  {
   "cell_type": "code",
   "execution_count": 376,
   "metadata": {},
   "outputs": [
    {
     "data": {
      "text/plain": [
       "[{'gp': 17, 'g': 3, 'a': 9, 'tp': 12, 'pim': 20, '+/-': ''},\n",
       " {'gp': 9, 'g': 1, 'a': 1, 'tp': 2, 'pim': 2, '+/-': ''},\n",
       " {'gp': 12, 'g': 5, 'a': 5, 'tp': 10, 'pim': 8, '+/-': ''},\n",
       " {'gp': '', 'g': '', 'a': '', 'tp': '', 'pim': '', '+/-': ''},\n",
       " {'gp': 8, 'g': 5, 'a': 10, 'tp': 15, 'pim': 8, '+/-': ''}]"
      ]
     },
     "execution_count": 376,
     "metadata": {},
     "output_type": "execute_result"
    }
   ],
   "source": [
    "numeric_stats_list"
   ]
  },
  {
   "cell_type": "code",
   "execution_count": 377,
   "metadata": {},
   "outputs": [
    {
     "name": "stdout",
     "output_type": "stream",
     "text": [
      "0 {'gp': 17, 'g': 3, 'a': 9, 'tp': 12, 'pim': 20, '+/-': ''}\n",
      "1 {'gp': 9, 'g': 1, 'a': 1, 'tp': 2, 'pim': 2, '+/-': ''}\n",
      "2 {'gp': 12, 'g': 5, 'a': 5, 'tp': 10, 'pim': 8, '+/-': ''}\n",
      "3 {'gp': '', 'g': '', 'a': '', 'tp': '', 'pim': '', '+/-': ''}\n",
      "4 {'gp': 8, 'g': 5, 'a': 10, 'tp': 15, 'pim': 8, '+/-': ''}\n"
     ]
    }
   ],
   "source": [
    "for k,v in enumerate(numeric_stats_list):\n",
    "    print(k,v)"
   ]
  },
  {
   "cell_type": "code",
   "execution_count": null,
   "metadata": {},
   "outputs": [],
   "source": []
  }
 ],
 "metadata": {
  "kernelspec": {
   "display_name": "Python 3",
   "language": "python",
   "name": "python3"
  },
  "language_info": {
   "codemirror_mode": {
    "name": "ipython",
    "version": 3
   },
   "file_extension": ".py",
   "mimetype": "text/x-python",
   "name": "python",
   "nbconvert_exporter": "python",
   "pygments_lexer": "ipython3",
   "version": "3.7.3"
  }
 },
 "nbformat": 4,
 "nbformat_minor": 2
}
